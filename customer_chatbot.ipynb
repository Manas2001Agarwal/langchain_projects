{
 "cells": [
  {
   "cell_type": "code",
   "execution_count": null,
   "id": "e651b0a8",
   "metadata": {},
   "outputs": [],
   "source": [
    "!pip install unstructured selenium"
   ]
  },
  {
   "cell_type": "code",
   "execution_count": 2,
   "id": "fb4e09e3",
   "metadata": {},
   "outputs": [
    {
     "name": "stderr",
     "output_type": "stream",
     "text": [
      "/opt/miniconda3/envs/torch/lib/python3.12/site-packages/tqdm/auto.py:21: TqdmWarning: IProgress not found. Please update jupyter and ipywidgets. See https://ipywidgets.readthedocs.io/en/stable/user_install.html\n",
      "  from .autonotebook import tqdm as notebook_tqdm\n"
     ]
    }
   ],
   "source": [
    "## Loading Chat Model\n",
    "from langchain_groq import ChatGroq\n",
    "groq_model=ChatGroq(model=\"llama-3.1-8b-instant\")\n",
    "\n",
    "## Loading Embedding Model\n",
    "from langchain_huggingface import HuggingFaceEmbeddings\n",
    "embedding_model = HuggingFaceEmbeddings(model_name='sentence-transformers/all-MiniLM-L6-v2')"
   ]
  },
  {
   "cell_type": "code",
   "execution_count": 3,
   "id": "c5fe5664",
   "metadata": {},
   "outputs": [],
   "source": [
    "from langchain.document_loaders import SeleniumURLLoader\n",
    "from langchain.text_splitter import CharacterTextSplitter\n",
    "from langchain import PromptTemplate\n",
    "\n",
    "urls = ['https://beebom.com/what-is-nft-explained/',\n",
    "        'https://beebom.com/how-delete-spotify-account/', \n",
    "        'https://beebom.com/how-download-gif-twitter/', \n",
    "        'https://beebom.com/how-use-chatgpt-linux-terminal/', \n",
    "        'https://beebom.com/how-delete-spotify-account/', \n",
    "        'https://beebom.com/how-save-instagram-story-with-music/', \n",
    "        'https://beebom.com/how-install-pip-windows/', \n",
    "        'https://beebom.com/how-check-disk-usage-linux/']"
   ]
  },
  {
   "cell_type": "code",
   "execution_count": 7,
   "id": "00220f1d",
   "metadata": {},
   "outputs": [],
   "source": [
    "loader = SeleniumURLLoader(urls=urls) \n",
    "docs_not_splitted = loader.load()"
   ]
  },
  {
   "cell_type": "code",
   "execution_count": 8,
   "id": "23589067",
   "metadata": {},
   "outputs": [
    {
     "data": {
      "text/plain": [
       "8"
      ]
     },
     "execution_count": 8,
     "metadata": {},
     "output_type": "execute_result"
    }
   ],
   "source": [
    "len(docs_not_splitted)"
   ]
  },
  {
   "cell_type": "code",
   "execution_count": null,
   "id": "12dd9301",
   "metadata": {},
   "outputs": [],
   "source": [
    "# we split the documents into smaller chunks\n",
    "text_splitter = CharacterTextSplitter(chunk_size=1000, chunk_overlap=0) \n",
    "docs = text_splitter.split_documents(docs_not_splitted)"
   ]
  },
  {
   "cell_type": "code",
   "execution_count": 9,
   "id": "ef5b8a4c",
   "metadata": {},
   "outputs": [
    {
     "data": {
      "text/plain": [
       "105"
      ]
     },
     "execution_count": 9,
     "metadata": {},
     "output_type": "execute_result"
    }
   ],
   "source": [
    "len(docs)"
   ]
  },
  {
   "cell_type": "code",
   "execution_count": 12,
   "id": "9b755cd7",
   "metadata": {},
   "outputs": [
    {
     "data": {
      "text/plain": [
       "{\n",
       "    \"name\": \"customer-chatbot\",\n",
       "    \"metric\": \"cosine\",\n",
       "    \"host\": \"customer-chatbot-scup0jf.svc.aped-4627-b74a.pinecone.io\",\n",
       "    \"spec\": {\n",
       "        \"serverless\": {\n",
       "            \"cloud\": \"aws\",\n",
       "            \"region\": \"us-east-1\"\n",
       "        }\n",
       "    },\n",
       "    \"status\": {\n",
       "        \"ready\": true,\n",
       "        \"state\": \"Ready\"\n",
       "    },\n",
       "    \"vector_type\": \"dense\",\n",
       "    \"dimension\": 384,\n",
       "    \"deletion_protection\": \"disabled\",\n",
       "    \"tags\": null\n",
       "}"
      ]
     },
     "execution_count": 12,
     "metadata": {},
     "output_type": "execute_result"
    }
   ],
   "source": [
    "from pinecone import Pinecone, ServerlessSpec\n",
    "pc = Pinecone(api_key=\"pcsk_6B7Uez_S2jqvMMHdU2c7SpVjHtMFrXibiRejE1VfKewM8mTAFUXyF2hZ4U5N3gKEdAvxdT\")\n",
    "\n",
    "index_name = \"customer-chatbot\"\n",
    "\n",
    "pc.create_index(\n",
    "    name=index_name,\n",
    "    dimension=384, \n",
    "    metric=\"cosine\", \n",
    "    spec=ServerlessSpec(\n",
    "        cloud=\"aws\",\n",
    "        region=\"us-east-1\"\n",
    "    ) \n",
    ")"
   ]
  },
  {
   "cell_type": "code",
   "execution_count": 13,
   "id": "84a82462",
   "metadata": {},
   "outputs": [],
   "source": [
    "index = pc.Index(index_name)"
   ]
  },
  {
   "cell_type": "code",
   "execution_count": 14,
   "id": "72ebad4d",
   "metadata": {},
   "outputs": [
    {
     "data": {
      "text/plain": [
       "['ebbcef45-f746-4a34-b711-019214842254',\n",
       " 'caf0e8a0-7b39-4647-9002-540eff4d1e87',\n",
       " 'ba6c2d94-0a1f-4d60-bf30-6a03a18f3284',\n",
       " '5380f33f-b379-4c4a-80a8-3b4db0f7e553',\n",
       " 'a5ee492b-8719-4e2f-97b8-10b7cd235f26',\n",
       " '022190ae-4083-41c2-8c8e-30a9eefc6bdd',\n",
       " '78243018-4b27-4dd5-a53f-292d326bb6bb',\n",
       " 'd069a714-12dc-4ab4-a084-6c42755491d7',\n",
       " '8bacb1de-ab7e-4978-a610-9e998681dcde',\n",
       " 'f2671ecb-5aa8-468d-b63a-8bf75cd5f030',\n",
       " 'a0eff8f8-6f35-4a15-a3d4-588b54099fb1',\n",
       " 'a1bf3741-7d0a-458b-93af-5a4655cd5c8d',\n",
       " '8a8afd35-ccb7-4fda-a04e-94b5d535f4a9',\n",
       " '316a8768-3c7c-49fd-aa79-e2c74a944024',\n",
       " 'c40b1684-9061-445d-992f-e2c5c419bcbe',\n",
       " '7d9dea48-2a2f-4250-843f-2f76911e6e97',\n",
       " 'db5a3875-d7a3-4da8-9755-246d13a2ba1a',\n",
       " 'f563aa65-b6b0-4f97-b8fd-7c29f8da1b45',\n",
       " 'ce3a0892-4537-4997-8833-4fdbfbcff0a0',\n",
       " 'b438e6a8-3a06-4b60-8ee2-3002047ae57e',\n",
       " '4227bf4d-3af3-4a71-a21d-ec11cd9852c0',\n",
       " '7678c773-19fc-4862-a21b-69ff135fcebb',\n",
       " '57cfdbd5-7c2a-4fcd-a539-1950aa464086',\n",
       " 'e982d5db-4746-46e5-ab03-9983c41a2a3d',\n",
       " 'fb8d7f57-80fc-4462-b075-02cc7b4015f5',\n",
       " '00ed3d0d-7f4d-42b4-b692-a1cdc7d32d8e',\n",
       " '3f79c309-9dbf-4d7c-80c4-92bec396edc2',\n",
       " '5934ef12-67ac-4eaa-a178-d5c4eea143ea',\n",
       " '5a9b5e54-e7f9-4160-a8d7-9f34203ece91',\n",
       " '242fa4c4-ab95-4963-be97-4624a8cefdb1',\n",
       " '4fe39f40-aea2-4e33-aa5e-3dbc57e04678',\n",
       " 'a9572e54-4f9c-4fd8-aa69-6a07a3aceb26',\n",
       " 'a8b9d63d-e86e-446d-9464-0e96311011f3',\n",
       " '6a78c49d-f67a-4259-9563-607cffbafe46',\n",
       " '8c45bd3f-b3eb-47af-9f80-9775ff61209a',\n",
       " 'd3acc3a3-02ed-4ce9-af51-186dd6db048a',\n",
       " 'f666e71f-fca8-4125-8dc7-1bf242622dfb',\n",
       " '616abddd-eec9-4c90-b12c-d05be524c0da',\n",
       " '77e05fbb-9815-4bc0-b911-9ffd35ca7123',\n",
       " '0d4e1581-0482-48bb-97fc-555c76baa067',\n",
       " '90ecfbd0-98c2-4f73-bd1d-535d4a24fe66',\n",
       " 'c480c2ed-d30f-4181-8294-b58af27671f8',\n",
       " '4b044a19-01e3-47c8-825a-506fb306b820',\n",
       " '8a2770a8-f4c2-412d-b743-3cc6380b1819',\n",
       " '3a0534a5-b050-46ac-b13a-2a4f56224a2d',\n",
       " '2245c77e-bff9-4398-9ea1-e44b45a0b79e',\n",
       " '565366f7-8fb9-49ab-8b90-043a0837a7dd',\n",
       " 'bd50ae37-cf45-41fd-834a-b0d20a51cebe',\n",
       " 'e54be46a-663b-41ae-86e5-c58709c4b73f',\n",
       " '3cd419ec-c950-456e-8bad-c66912ff6e3e',\n",
       " '35e14f33-9743-46be-b73b-0213aea92822',\n",
       " 'dce5cd62-9032-4811-82e8-f2d9c7129400',\n",
       " '38263dbb-29eb-4b88-afa8-15b4e7ce2f01',\n",
       " '7bbd75b7-f329-47eb-820e-f08c9f744d7c',\n",
       " '2883d580-1ce9-41c8-a590-b6e61f280736',\n",
       " '43e23c50-22b9-433e-97cd-a606805ff958',\n",
       " '4bae1f53-a7b6-4f1a-8069-bc56a4e6559b',\n",
       " 'b1c02894-b837-4546-9a3e-fad40bc1bc65',\n",
       " 'c8017ac4-dee8-422d-bdbd-0fb2314ae9b9',\n",
       " 'fd662bb6-1031-4c44-85e6-84e2f30240bd',\n",
       " 'debde721-753c-444b-9597-85de4d982235',\n",
       " '772e9403-c5a7-4964-bfdd-c8fd755e549a',\n",
       " 'd3f6da41-71e5-411f-ac16-a4e6efb102ff',\n",
       " '2eaee21b-4e58-4228-a0c9-f49ba447cdb3',\n",
       " '67146dfe-aa06-40bb-a7c7-a9062f68a709',\n",
       " '4a08d794-0da0-41e3-95c7-ac2edaf504a3',\n",
       " 'a5135728-5555-41ff-9915-51c6df6566d8',\n",
       " '22aeb53d-4c54-440a-93d3-9061f35c3ce6',\n",
       " 'de785e0d-00eb-4e7a-a1ff-853e1b2556cd',\n",
       " '17c6f572-b234-44b9-b314-76a8a29be8d1',\n",
       " 'd8e57ad5-4b31-4eed-9775-dbf018658884',\n",
       " '2b5fd656-6260-44a5-9576-3dce433c7e14',\n",
       " 'b4872855-143f-4dab-a61e-d108836a809c',\n",
       " '7087c95c-cce0-45cf-a532-9984dfcf1ff3',\n",
       " 'a06afefa-8c94-4f57-8e56-9656f0af0753',\n",
       " 'bf715466-057b-4be8-9d85-3fe4709017e7',\n",
       " '1a25292e-e8ca-4cae-8b0d-30c3b39b53e1',\n",
       " '964aae4c-7434-44af-b422-e3e7c6b811ff',\n",
       " '623d32d2-6be2-4ff2-b6f3-9f9bd7fe24bd',\n",
       " '50383e09-593b-42ba-9cef-4dc3cbe929df',\n",
       " '9008215d-9d57-4b77-a823-d7344fde8261',\n",
       " '20ebe2a2-de18-4027-86a8-777cd57c3ec5',\n",
       " 'ca5ba0b7-2062-4f8c-aec9-c463bb86ca20',\n",
       " 'abbd207f-af53-4167-b2bd-c36cf8344b5b',\n",
       " 'ce074d9d-5dc8-460f-90ab-a8a05e86cb18',\n",
       " '889f995e-8d76-4c73-a4fb-e0e1c51db692',\n",
       " '283c16b6-1f16-48c2-8e68-1d30c23ab7fc',\n",
       " '0508b62e-e18f-4e3c-93da-2e035cca120f',\n",
       " '907b2a9c-0fd1-4463-bce9-ffbaa96fa9c6',\n",
       " '2e0b9587-4705-49db-b1ba-8a844d727b86',\n",
       " 'cf7be204-79f8-45db-ae7c-674035b6f9ce',\n",
       " '87db84c1-f265-4222-b687-d34d90ebeddc',\n",
       " '78caee4b-aef3-40d2-ad41-b87303ebdf47',\n",
       " '0c96bf74-0152-439d-9f07-e5af8d6d16f5',\n",
       " '070fa3f6-0bc9-4d27-9e35-04f559afced4',\n",
       " '60028546-919d-4253-a831-19df3bd8d092',\n",
       " 'a406cef9-76f5-49a5-8272-56eb1de324e2',\n",
       " '820816c7-4b23-4dd6-897a-6795d17ea433',\n",
       " '600aa957-ea20-4e59-a27e-93d1e3035300',\n",
       " '25a9c0ce-c187-4355-89b3-728ea8294bb4',\n",
       " '9ec93a75-be4c-40c9-953a-773f57d2ae61',\n",
       " '7dad9670-0992-4217-b396-5a864d5679d2',\n",
       " '96d8d5c0-4e9d-476a-86eb-16beada416ac',\n",
       " '03d55c8d-8c91-4cc4-ac3b-57f2db18556e',\n",
       " 'bf2ce502-d5ba-4348-afce-7fd4b01c50de']"
      ]
     },
     "execution_count": 14,
     "metadata": {},
     "output_type": "execute_result"
    }
   ],
   "source": [
    "from uuid import uuid4\n",
    "from langchain_pinecone import PineconeVectorStore\n",
    "\n",
    "vector_store = PineconeVectorStore(index=index, embedding=embedding_model)\n",
    "\n",
    "uuids = [str(uuid4()) for _ in range(len(docs))]\n",
    "vector_store.add_documents(documents=docs, ids=uuids)"
   ]
  },
  {
   "cell_type": "code",
   "execution_count": 15,
   "id": "d81f0a68",
   "metadata": {},
   "outputs": [
    {
     "name": "stdout",
     "output_type": "stream",
     "text": [
      "{'dimension': 384,\n",
      " 'index_fullness': 0.0,\n",
      " 'metric': 'cosine',\n",
      " 'namespaces': {'': {'vector_count': 105}},\n",
      " 'total_vector_count': 105,\n",
      " 'vector_type': 'dense'}\n"
     ]
    }
   ],
   "source": [
    "print(index.describe_index_stats())"
   ]
  },
  {
   "cell_type": "code",
   "execution_count": 21,
   "id": "e80057b3",
   "metadata": {},
   "outputs": [],
   "source": [
    "retriever = vector_store.as_retriever()\n",
    "ret_docs = retriever.get_relevant_documents(\"how to check disk usage in linux?\")"
   ]
  },
  {
   "cell_type": "code",
   "execution_count": 23,
   "id": "3b1f2a98",
   "metadata": {},
   "outputs": [
    {
     "name": "stdout",
     "output_type": "stream",
     "text": [
      "4\n"
     ]
    }
   ],
   "source": [
    "ret_docs\n",
    "print(len(ret_docs))"
   ]
  },
  {
   "cell_type": "code",
   "execution_count": 20,
   "id": "1a74048d",
   "metadata": {},
   "outputs": [],
   "source": [
    "from langchain.retrievers import ContextualCompressionRetriever\n",
    "from langchain.retrievers.document_compressors import LLMChainExtractor\n",
    "\n",
    "compressor = LLMChainExtractor.from_llm(groq_model) \n",
    "compression_retriever = ContextualCompressionRetriever(\n",
    "    base_compressor = compressor,\n",
    "    base_retriever = retriever\n",
    ")"
   ]
  },
  {
   "cell_type": "code",
   "execution_count": 22,
   "id": "caae73f6",
   "metadata": {},
   "outputs": [
    {
     "data": {
      "text/plain": [
       "4"
      ]
     },
     "execution_count": 22,
     "metadata": {},
     "output_type": "execute_result"
    }
   ],
   "source": [
    "compresses_ret_docs = compression_retriever.get_relevant_documents(\"how to check disk usage in linux?\")\n",
    "len(compresses_ret_docs)"
   ]
  },
  {
   "cell_type": "code",
   "execution_count": 28,
   "id": "abe1cce3",
   "metadata": {},
   "outputs": [],
   "source": [
    "template = \"\"\"You are an exceptional customer support chatbot that gently answer questions.\n",
    "You know the following context information: \n",
    "{chunks_formatted}\n",
    "Answer to the following question from a customer. Use only information from the previous context information. Do not invent stuff.\n",
    "Question: {query}\n",
    "Answer: \n",
    "\"\"\"\n",
    "\n",
    "\n",
    "prompt = PromptTemplate( input_variables=[\"chunks_formatted\", \"query\"], template=template)\n"
   ]
  },
  {
   "cell_type": "code",
   "execution_count": 26,
   "id": "a203c258",
   "metadata": {},
   "outputs": [
    {
     "name": "stdout",
     "output_type": "stream",
     "text": [
      "* Home > Tech > How to Check Disk Usage in Linux (4 Methods)\n",
      "\n",
      "How to Check Disk Usage in Linux (4 Methods)\n",
      "\n",
      "Beebom Staff\n",
      "\n",
      "Updated: December 19, 2023\n",
      "\n",
      "Comments 0\n",
      "\n",
      "Share\n",
      "\n",
      "Copied\n",
      "\n",
      "There may be times when you need to download some important files or transfer some photos to your Linux system, but face a problem of insufficient disk space. You head over to your file manager to delete the large files which you no longer require, but you have no clue which of them are occupying most of your disk space. In this article, we will show some easy methods to check disk usage in Linux from both the terminal and the GUI application.\n",
      "\n",
      "Table of Contents\n",
      "\n",
      "Check Disk Space Using the df Command\n",
      "\n",
      "In Linux, there are many commands to check disk usage, the most common being the df command. The df stands for “Disk Filesystem” in the command, which is a handy way to check the current disk usage and the available disk space in Linux. The syntax for the df command in Linux is as follows:\n",
      "\n",
      "df <options> <file_system> [{'description': 'In this guide, we show you the best ways to check disk usage on Linux using GUI tools as well as CLI commands like du and df.', 'language': 'en-US', 'source': 'https://beebom.com/how-check-disk-usage-linux/', 'title': 'How to Check Disk Usage in Linux (4 Methods) | Beebom'}]\n",
      "* The command line output for various disk usage commands can be hard for some people to understand. So there are some GUI alternatives that make the task of monitoring disk usage easy. Some common GUI tools to monitor disk usage are the GDU Disk Usage Analyzer and the Gnome Disks Tool,which can be easily installed using the following command:\n",
      "\n",
      "Installing disk usage analyzer:\n",
      "\n",
      "sudo snap install gdu-disk-usage-analyzer\n",
      "\n",
      "Installing disk-utility tool:\n",
      "\n",
      "sudo apt-get -y install gnome-disk-utility\n",
      "\n",
      "Check Disk Usage Using Gnome Disk Tool\n",
      "\n",
      "The Gnome disk utility tool is generally used to format storage partitions to a specific type. In the default view, all the storage partitions are shown.\n",
      "\n",
      "To know details about a partition such as the device name, file system type, available space, and more, you need to click on the partition’s name. The disk utility tool is a useful tool, but you can lose all your important data if used carelessly.\n",
      "\n",
      "Check Disk Usage Using Disk Usage Analyzer Tool [{'description': 'In this guide, we show you the best ways to check disk usage on Linux using GUI tools as well as CLI commands like du and df.', 'language': 'en-US', 'source': 'https://beebom.com/how-check-disk-usage-linux/', 'title': 'How to Check Disk Usage in Linux (4 Methods) | Beebom'}]\n"
     ]
    }
   ],
   "source": [
    "query = \"How to check disk usage in linux?\"\n",
    "results = vector_store.similarity_search(\n",
    "    query, k=2\n",
    ")\n",
    "for res in results:\n",
    "    print(f\"* {res.page_content} [{res.metadata}]\")"
   ]
  },
  {
   "cell_type": "code",
   "execution_count": 29,
   "id": "9c1c072f",
   "metadata": {},
   "outputs": [],
   "source": [
    "retrieved_chunks = [doc.page_content for doc in results]\n",
    "chunks_formatted = \"\\n\\n\".join(retrieved_chunks)\n",
    "prompt_formatted = prompt.format(chunks_formatted=chunks_formatted, query=query)"
   ]
  },
  {
   "cell_type": "code",
   "execution_count": 31,
   "id": "05d82541",
   "metadata": {},
   "outputs": [
    {
     "data": {
      "text/plain": [
       "'You are an exceptional customer support chatbot that gently answer questions.\\nYou know the following context information: \\nHome > Tech > How to Check Disk Usage in Linux (4 Methods)\\n\\nHow to Check Disk Usage in Linux (4 Methods)\\n\\nBeebom Staff\\n\\nUpdated: December 19, 2023\\n\\nComments 0\\n\\nShare\\n\\nCopied\\n\\nThere may be times when you need to download some important files or transfer some photos to your Linux system, but face a problem of insufficient disk space. You head over to your file manager to delete the large files which you no longer require, but you have no clue which of them are occupying most of your disk space. In this article, we will show some easy methods to check disk usage in Linux from both the terminal and the GUI application.\\n\\nTable of Contents\\n\\nCheck Disk Space Using the df Command\\n\\nIn Linux, there are many commands to check disk usage, the most common being the df command. The df stands for “Disk Filesystem” in the command, which is a handy way to check the current disk usage and the available disk space in Linux. The syntax for the df command in Linux is as follows:\\n\\ndf <options> <file_system>\\n\\nThe command line output for various disk usage commands can be hard for some people to understand. So there are some GUI alternatives that make the task of monitoring disk usage easy. Some common GUI tools to monitor disk usage are the GDU Disk Usage Analyzer and the Gnome Disks Tool,which can be easily installed using the following command:\\n\\nInstalling disk usage analyzer:\\n\\nsudo snap install gdu-disk-usage-analyzer\\n\\nInstalling disk-utility tool:\\n\\nsudo apt-get -y install gnome-disk-utility\\n\\nCheck Disk Usage Using Gnome Disk Tool\\n\\nThe Gnome disk utility tool is generally used to format storage partitions to a specific type. In the default view, all the storage partitions are shown.\\n\\nTo know details about a partition such as the device name, file system type, available space, and more, you need to click on the partition’s name. The disk utility tool is a useful tool, but you can lose all your important data if used carelessly.\\n\\nCheck Disk Usage Using Disk Usage Analyzer Tool\\nAnswer to the following question from a customer. Use only information from the previous context information. Do not invent stuff.\\nQuestion: How to check disk usage in linux?\\nAnswer: \\n'"
      ]
     },
     "execution_count": 31,
     "metadata": {},
     "output_type": "execute_result"
    }
   ],
   "source": [
    "prompt_formatted"
   ]
  },
  {
   "cell_type": "code",
   "execution_count": 32,
   "id": "faab8432",
   "metadata": {},
   "outputs": [
    {
     "name": "stdout",
     "output_type": "stream",
     "text": [
      "You have a couple of options to check disk usage in Linux. \n",
      "\n",
      "One of the most common methods is to use the df command. You can use it in the terminal, and the syntax is: df <options> <file_system>. This will give you the current disk usage and the available disk space. \n",
      "\n",
      "Alternatively, you can use GUI tools like GDU Disk Usage Analyzer or the Gnome Disks Tool. To install GDU Disk Usage Analyzer, you can use the command: `sudo snap install gdu-disk-usage-analyzer`. For Gnome Disk Utility, you can use: `sudo apt-get -y install gnome-disk-utility`.\n",
      "\n",
      "These tools can help you easily monitor disk usage and identify which files or partitions are occupying the most space.\n"
     ]
    }
   ],
   "source": [
    "answer = groq_model.invoke(prompt_formatted).content \n",
    "print(answer)"
   ]
  },
  {
   "cell_type": "markdown",
   "id": "c7194ffe",
   "metadata": {},
   "source": [
    "## FewShotPromptTemplate"
   ]
  },
  {
   "cell_type": "code",
   "execution_count": 47,
   "id": "851358cd",
   "metadata": {},
   "outputs": [
    {
     "name": "stdout",
     "output_type": "stream",
     "text": [
      "text='Identify the habitat of the given animal\\n\\n\\nAnimal : lion\\nHabitat : savanna\\n\\n\\n\\nAnimal : polar bear\\nHabitat : Arctic ice\\n\\n\\n\\nAnimal : elephant\\nHabitat : African grasslands\\n\\n\\nAnimal: peacock\\nHabitat:'\n"
     ]
    }
   ],
   "source": [
    "from langchain_core.prompts import FewShotPromptTemplate, PromptTemplate\n",
    "\n",
    "examples = [\n",
    "{\"animal\": \"lion\", \"habitat\": \"savanna\"},\n",
    "{\"animal\": \"polar bear\", \"habitat\": \"Arctic ice\"}, \n",
    "{\"animal\": \"elephant\", \"habitat\": \"African grasslands\"}\n",
    "]\n",
    "\n",
    "example_template = \"\"\"\n",
    "Animal : {animal}\n",
    "Habitat : {habitat}\n",
    "\"\"\"\n",
    "example_prompt = PromptTemplate(\n",
    "    input_variable = [\"animal\",\"habitat\"],\n",
    "    template = example_template\n",
    ")\n",
    "\n",
    "dynamic_prompt = FewShotPromptTemplate(\n",
    "    examples = examples,\n",
    "    example_prompt = example_prompt,\n",
    "    prefix=\"Identify the habitat of the given animal\",\n",
    "    suffix=\"Animal: {input}\\nHabitat:\", \n",
    "    input_variables=[\"input\"],\n",
    "    example_separator=\"\\n\\n\"\n",
    ")\n",
    "\n",
    "template = dynamic_prompt.invoke({\"input\":\"peacock\"})\n",
    "print(template)\n"
   ]
  },
  {
   "cell_type": "code",
   "execution_count": 39,
   "id": "807371f1",
   "metadata": {},
   "outputs": [
    {
     "name": "stdout",
     "output_type": "stream",
     "text": [
      "Based on general information, I would identify the habitat of the given animal as follows:\n",
      "\n",
      "Animal: crocodile\n",
      "Habitat: tropical and subtropical regions, including rivers, lakes, and coastal areas, often with dense vegetation such as mangrove forests or swamps.\n"
     ]
    }
   ],
   "source": [
    "chain = dynamic_prompt | groq_model\n",
    "text = chain.invoke({\"input\":\"crocodile\"}).content\n",
    "print(text)"
   ]
  },
  {
   "cell_type": "code",
   "execution_count": 41,
   "id": "314ea98c",
   "metadata": {},
   "outputs": [],
   "source": [
    "dynamic_prompt.save(\"awesome_prompt.json\")"
   ]
  },
  {
   "cell_type": "code",
   "execution_count": 44,
   "id": "442868a5",
   "metadata": {},
   "outputs": [],
   "source": [
    "from langchain.prompts.example_selector import SemanticSimilarityExampleSelector, LengthBasedExampleSelector"
   ]
  },
  {
   "cell_type": "code",
   "execution_count": 48,
   "id": "f3184c36",
   "metadata": {},
   "outputs": [],
   "source": [
    "examples = [ {\n",
    "\"query\": \"How do you feel today?\",\n",
    "\"answer\": \"As an AI, I don't have feelings, but I've got jokes!\"\n",
    "}, {\n",
    "\"query\": \"What is the speed of light?\",\n",
    "\"answer\": \"\"\"Fast enough to make a round trip around Earth 7.5 times in one\n",
    "second!\"\"\"\n",
    "}, {\n",
    "\"query\": \"What is a quantum computer?\",\n",
    "\"answer\": \"\"\"A magical box that harnesses the power of subatomic particles\n",
    "to solve complex problems.\"\"\"\n",
    "}, {\n",
    "\"query\": \"Who invented the telephone?\",\n",
    "\"answer\": \"Alexander Graham Bell, the original 'ringmaster'.\"\n",
    "}, {\n",
    "\"query\": \"What programming language is best for AI development?\", \"answer\": \"Python, because it's the only snake that won't bite.\"\n",
    "}, {\n",
    "\"query\": \"What is the capital of France?\", \"answer\": \"Paris, the city of love and baguettes.\"\n",
    "}, {\n",
    "\"query\": \"What is photosynthesis?\",\n",
    "\"answer\": \"\"\"A plant's way of saying 'I'll turn this sunlight into food.\n",
    "You're welcome, Earth.'\"\"\"\n",
    "}, {\n",
    "\"query\": \"What is the tallest mountain on Earth?\", \"answer\": \"Mount Everest, Earth's most impressive bump.\"\n",
    "}, {\n",
    "\"query\": \"What is the most abundant element in the universe?\", \"answer\": \"Hydrogen, the basic building block of cosmic smoothies.\"\n",
    "}, {\n",
    "\"query\": \"What is the largest mammal on Earth?\",\n",
    "\"answer\": \"\"\"The blue whale, the original heavyweight champion of the\n",
    "world.\"\"\"\n",
    "}]"
   ]
  },
  {
   "cell_type": "code",
   "execution_count": 50,
   "id": "8c543fe0",
   "metadata": {},
   "outputs": [
    {
     "name": "stdout",
     "output_type": "stream",
     "text": [
      "text=\"The following are excerpts from conversations with an AI assistant. The assistant is typically sarcastic and witty, producing creative and funny responses to users' questions. Here are some examples:\\n\\n\\nUser : How do you feel today?\\nAI : As an AI, I don't have feelings, but I've got jokes!\\n\\n\\n\\nUser : What is the speed of light?\\nAI : Fast enough to make a round trip around Earth 7.5 times in one\\nsecond!\\n\\n\\n\\nUser : What is a quantum computer?\\nAI : A magical box that harnesses the power of subatomic particles\\nto solve complex problems.\\n\\n\\n\\nUser : Who invented the telephone?\\nAI : Alexander Graham Bell, the original 'ringmaster'.\\n\\n\\n\\nUser : What programming language is best for AI development?\\nAI : Python, because it's the only snake that won't bite.\\n\\n\\n\\nUser : What is the capital of France?\\nAI : Paris, the city of love and baguettes.\\n\\n\\n\\nUser : What is photosynthesis?\\nAI : A plant's way of saying 'I'll turn this sunlight into food.\\nYou're welcome, Earth.'\\n\\n\\n\\nUser : What is the tallest mountain on Earth?\\nAI : Mount Everest, Earth's most impressive bump.\\n\\n\\n\\nUser : What is the most abundant element in the universe?\\nAI : Hydrogen, the basic building block of cosmic smoothies.\\n\\n\\n\\nUser : What is the largest mammal on Earth?\\nAI : The blue whale, the original heavyweight champion of the\\nworld.\\n\\n\\nUser: Who invented the telephone\\nAI:\"\n"
     ]
    }
   ],
   "source": [
    "example_template = \"\"\"\n",
    "User : {query}\n",
    "AI : {answer}\n",
    "\"\"\"\n",
    "example_prompt = PromptTemplate(\n",
    "    input_variable = [\"query\",\"answer\"],\n",
    "    template = example_template\n",
    ")\n",
    "\n",
    "dynamic_prompt = FewShotPromptTemplate(\n",
    "    examples = examples,\n",
    "    example_prompt = example_prompt,\n",
    "    prefix=\"\"\"The following are excerpts from conversations with an AI assistant. The assistant is typically sarcastic and witty, producing creative and funny responses to users' questions. Here are some examples:\"\"\",\n",
    "    suffix=\"User: {input}\\nAI:\", \n",
    "    input_variables=[\"input\"],\n",
    "    example_separator=\"\\n\\n\"\n",
    ")\n",
    "\n",
    "template = dynamic_prompt.invoke({\"input\":\"Who invented the telephone\"})\n",
    "print(template)"
   ]
  },
  {
   "cell_type": "code",
   "execution_count": 53,
   "id": "4dacc225",
   "metadata": {},
   "outputs": [
    {
     "name": "stdout",
     "output_type": "stream",
     "text": [
      "The following are excerpts from conversations with an AI assistant. The assistant is typically sarcastic and witty, producing creative and funny responses to users' questions. Here are some examples:\n",
      "\n",
      "\n",
      "User : How do you feel today?\n",
      "AI : As an AI, I don't have feelings, but I've got jokes!\n",
      "\n",
      "\n",
      "\n",
      "User : What is the speed of light?\n",
      "AI : Fast enough to make a round trip around Earth 7.5 times in one\n",
      "second!\n",
      "\n",
      "\n",
      "\n",
      "User : What is a quantum computer?\n",
      "AI : A magical box that harnesses the power of subatomic particles\n",
      "to solve complex problems.\n",
      "\n",
      "\n",
      "\n",
      "User : Who invented the telephone?\n",
      "AI : Alexander Graham Bell, the original 'ringmaster'.\n",
      "\n",
      "\n",
      "\n",
      "User : What programming language is best for AI development?\n",
      "AI : Python, because it's the only snake that won't bite.\n",
      "\n",
      "\n",
      "\n",
      "User : What is the capital of France?\n",
      "AI : Paris, the city of love and baguettes.\n",
      "\n",
      "\n",
      "\n",
      "User : What is photosynthesis?\n",
      "AI : A plant's way of saying 'I'll turn this sunlight into food.\n",
      "You're welcome, Earth.'\n",
      "\n",
      "\n",
      "\n",
      "User : What is the tallest mountain on Earth?\n",
      "AI : Mount Everest, Earth's most impressive bump.\n",
      "\n",
      "\n",
      "\n",
      "User : What is the most abundant element in the universe?\n",
      "AI : Hydrogen, the basic building block of cosmic smoothies.\n",
      "\n",
      "\n",
      "\n",
      "User : What is the largest mammal on Earth?\n",
      "AI : The blue whale, the original heavyweight champion of the\n",
      "world.\n",
      "\n",
      "\n",
      "User: Who invented the telephone\n",
      "AI:\n"
     ]
    }
   ],
   "source": [
    "print(template.text)"
   ]
  },
  {
   "cell_type": "code",
   "execution_count": 61,
   "id": "6c776c24",
   "metadata": {},
   "outputs": [
    {
     "name": "stdout",
     "output_type": "stream",
     "text": [
      "text=\"The following are excerpts from conversations with an AI assistant. The assistant is typically sarcastic and witty, producing creative and funny responses to users' questions. Here are some examples:\\n\\nUser : How do you feel today?\\nAI : As an AI, I don't have feelings, but I've got jokes!\\n\\n\\nUser : What is the speed of light?\\nAI : Fast enough to make a round trip around Earth 7.5 times in one\\nsecond!\\n\\n\\nUser : What is a quantum computer?\\nAI : A magical box that harnesses the power of subatomic particles\\nto solve complex problems.\\n\\nUser: Who invented the telephone\\nAI:\"\n"
     ]
    }
   ],
   "source": [
    "from langchain.prompts.example_selector import LengthBasedExampleSelector\n",
    "example_selector = LengthBasedExampleSelector( \n",
    "examples=examples, \n",
    "example_prompt=example_prompt, \n",
    "max_length=80\n",
    ")\n",
    "\n",
    "dynamic_prompt = FewShotPromptTemplate(\n",
    "    example_selector = example_selector,\n",
    "    example_prompt = example_prompt,\n",
    "    prefix=\"\"\"The following are excerpts from conversations with an AI assistant. The assistant is typically sarcastic and witty, producing creative and funny responses to users' questions. Here are some examples:\"\"\",\n",
    "    suffix=\"User: {input}\\nAI:\", \n",
    "    input_variables=[\"input\"],\n",
    "    example_separator=\"\\n\"\n",
    ")\n",
    "\n",
    "template = dynamic_prompt.invoke({\"input\":\"Who invented the telephone\"})\n",
    "print(template)"
   ]
  },
  {
   "cell_type": "code",
   "execution_count": 63,
   "id": "78ba4892",
   "metadata": {},
   "outputs": [
    {
     "name": "stdout",
     "output_type": "stream",
     "text": [
      "570\n"
     ]
    }
   ],
   "source": [
    "print(len(template.text))"
   ]
  },
  {
   "cell_type": "code",
   "execution_count": null,
   "id": "2781fc92",
   "metadata": {},
   "outputs": [],
   "source": []
  },
  {
   "cell_type": "code",
   "execution_count": null,
   "id": "00d38f88",
   "metadata": {},
   "outputs": [],
   "source": []
  },
  {
   "cell_type": "code",
   "execution_count": null,
   "id": "2e91c22c",
   "metadata": {},
   "outputs": [],
   "source": []
  },
  {
   "cell_type": "code",
   "execution_count": null,
   "id": "df0918f4",
   "metadata": {},
   "outputs": [],
   "source": []
  },
  {
   "cell_type": "code",
   "execution_count": null,
   "id": "a859db35",
   "metadata": {},
   "outputs": [],
   "source": []
  }
 ],
 "metadata": {
  "kernelspec": {
   "display_name": "torch",
   "language": "python",
   "name": "python3"
  },
  "language_info": {
   "codemirror_mode": {
    "name": "ipython",
    "version": 3
   },
   "file_extension": ".py",
   "mimetype": "text/x-python",
   "name": "python",
   "nbconvert_exporter": "python",
   "pygments_lexer": "ipython3",
   "version": "3.12.7"
  }
 },
 "nbformat": 4,
 "nbformat_minor": 5
}
