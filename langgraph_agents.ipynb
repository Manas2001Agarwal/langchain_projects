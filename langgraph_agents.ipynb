{
 "cells": [
  {
   "cell_type": "code",
   "execution_count": 2,
   "id": "5ca86093",
   "metadata": {},
   "outputs": [
    {
     "name": "stdout",
     "output_type": "stream",
     "text": [
      "ok\n"
     ]
    }
   ],
   "source": [
    "print(\"ok\")"
   ]
  },
  {
   "cell_type": "code",
   "execution_count": 3,
   "id": "0fa0cf33",
   "metadata": {},
   "outputs": [],
   "source": [
    "import os\n",
    "from langchain_groq import ChatGroq\n",
    "from dotenv import load_dotenv"
   ]
  },
  {
   "cell_type": "code",
   "execution_count": 4,
   "id": "9ab6dd68",
   "metadata": {},
   "outputs": [
    {
     "data": {
      "text/plain": [
       "True"
      ]
     },
     "execution_count": 4,
     "metadata": {},
     "output_type": "execute_result"
    }
   ],
   "source": [
    "load_dotenv()"
   ]
  },
  {
   "cell_type": "code",
   "execution_count": 5,
   "id": "c0895514",
   "metadata": {},
   "outputs": [],
   "source": [
    "GROQ_API_KEY=os.getenv(\"GROQ_API_KEY\")\n",
    "groq_model=ChatGroq(model=\"llama-3.1-8b-instant\")"
   ]
  },
  {
   "cell_type": "code",
   "execution_count": 6,
   "id": "4e9f66bd",
   "metadata": {},
   "outputs": [
    {
     "name": "stderr",
     "output_type": "stream",
     "text": [
      "/Users/mukulagarwal/Desktop/Projects/langchain/langchain_env/lib/python3.12/site-packages/tqdm/auto.py:21: TqdmWarning: IProgress not found. Please update jupyter and ipywidgets. See https://ipywidgets.readthedocs.io/en/stable/user_install.html\n",
      "  from .autonotebook import tqdm as notebook_tqdm\n"
     ]
    }
   ],
   "source": [
    "from langchain_huggingface import HuggingFaceEmbeddings\n",
    "embedding_model = HuggingFaceEmbeddings(model_name='sentence-transformers/all-MiniLM-L6-v2')"
   ]
  },
  {
   "cell_type": "code",
   "execution_count": 6,
   "id": "70526aa0",
   "metadata": {},
   "outputs": [],
   "source": [
    "from langgraph.graph import StateGraph,MessagesState, START, END\n",
    "from langgraph.graph.message import add_messages\n",
    "from typing import Annotated, Literal, TypedDict\n",
    "from langchain_core.tools import tool\n",
    "from langchain_core.messages import HumanMessage\n",
    "from langgraph.checkpoint.memory import MemorySaver\n",
    "from langgraph.prebuilt import ToolNode\n",
    "from IPython.display import Image, display"
   ]
  },
  {
   "cell_type": "code",
   "execution_count": 7,
   "id": "c87eb2f5",
   "metadata": {},
   "outputs": [],
   "source": [
    "def call_model(state:MessagesState):\n",
    "    question = state['messages']\n",
    "    response = groq_model.invoke(question)\n",
    "    return {'messages' : [response]}"
   ]
  },
  {
   "cell_type": "code",
   "execution_count": null,
   "id": "95c5af33",
   "metadata": {},
   "outputs": [],
   "source": [
    "workflow = StateGraph(MessagesState)\n",
    "workflow.add_node(\"chatbot\",call_model)\n",
    "workflow.add_edge(START,\"chatbot\")\n",
    "workflow.add_edge(\"chatbot\",END)\n",
    "app = workflow.compile()"
   ]
  },
  {
   "cell_type": "code",
   "execution_count": null,
   "id": "0d8f8d95",
   "metadata": {},
   "outputs": [],
   "source": [
    "display(Image(app.get_graph().draw_mermaid_png()))"
   ]
  },
  {
   "cell_type": "code",
   "execution_count": null,
   "id": "eaa1c523",
   "metadata": {},
   "outputs": [],
   "source": [
    "inputs = {'messages':['Hi, how are you I am Manas']}\n",
    "response = app.invoke(inputs)\n",
    "response['messages'][-1]"
   ]
  },
  {
   "cell_type": "code",
   "execution_count": 8,
   "id": "02a44888",
   "metadata": {},
   "outputs": [],
   "source": [
    "@tool\n",
    "def search(query:str):\n",
    "    \"\"\"this is weather checking tool\"\"\"\n",
    "    if \"delhi\" in query.lower() or \"mumbai\" in query.lower():\n",
    "        return \"weather is hot and humid with sudden rains\"\n",
    "    return \"weather is dry hot in some other parts of World\""
   ]
  },
  {
   "cell_type": "code",
   "execution_count": 9,
   "id": "79c1dc39",
   "metadata": {},
   "outputs": [
    {
     "data": {
      "text/plain": [
       "'weather is dry hot in some other parts of World'"
      ]
     },
     "execution_count": 9,
     "metadata": {},
     "output_type": "execute_result"
    }
   ],
   "source": [
    "search.invoke(\"what is the weather in Japan\")"
   ]
  },
  {
   "cell_type": "code",
   "execution_count": 10,
   "id": "ad019004",
   "metadata": {},
   "outputs": [],
   "source": [
    "tools = [search]"
   ]
  },
  {
   "cell_type": "code",
   "execution_count": 11,
   "id": "2133c804",
   "metadata": {},
   "outputs": [
    {
     "data": {
      "text/plain": [
       "AIMessage(content=\"I'm functioning properly, thank you for asking. How can I assist you today?\", additional_kwargs={}, response_metadata={'token_usage': {'completion_tokens': 18, 'prompt_tokens': 212, 'total_tokens': 230, 'completion_time': 0.024, 'prompt_time': 0.008928346, 'queue_time': 0.184919757, 'total_time': 0.032928346}, 'model_name': 'llama-3.1-8b-instant', 'system_fingerprint': 'fp_a4265e44d5', 'finish_reason': 'stop', 'logprobs': None}, id='run--606f7371-e70a-4acc-badf-776944039231-0', usage_metadata={'input_tokens': 212, 'output_tokens': 18, 'total_tokens': 230})"
      ]
     },
     "execution_count": 11,
     "metadata": {},
     "output_type": "execute_result"
    }
   ],
   "source": [
    "llm_with_tools = groq_model.bind_tools(tools)\n",
    "response1 = llm_with_tools.invoke(\"hi how are you\")\n",
    "response1"
   ]
  },
  {
   "cell_type": "code",
   "execution_count": null,
   "id": "aee0869a",
   "metadata": {},
   "outputs": [],
   "source": [
    "response2 = llm_with_tools.invoke(\"what is the weather in delhi NCR\")\n",
    "print(response2.content)\n",
    "print(response2.tool_calls)"
   ]
  },
  {
   "cell_type": "code",
   "execution_count": 12,
   "id": "c3bb69e0",
   "metadata": {},
   "outputs": [],
   "source": [
    "def call_model(state:MessagesState):\n",
    "    question = state['messages']\n",
    "    response = llm_with_tools.invoke(question)\n",
    "    return {\"messages\" : [response]}"
   ]
  },
  {
   "cell_type": "code",
   "execution_count": 13,
   "id": "92125617",
   "metadata": {},
   "outputs": [
    {
     "data": {
      "text/plain": [
       "'I don\\'t have a function to directly respond to your name. However, I can try to provide some basic information about your name. \\n\\n<function=brave_search>{\"query\": \"Manas meaning\"}'"
      ]
     },
     "execution_count": 13,
     "metadata": {},
     "output_type": "execute_result"
    }
   ],
   "source": [
    "inputs={'messages': ['hi my name is Manas']}\n",
    "response=call_model(inputs)\n",
    "response['messages'][-1].content"
   ]
  },
  {
   "cell_type": "code",
   "execution_count": 14,
   "id": "a0d3fcd8",
   "metadata": {},
   "outputs": [],
   "source": [
    "def router_function(state: MessagesState):\n",
    "    message=state[\"messages\"]\n",
    "    last_message=message[-1]\n",
    "    if last_message.tool_calls:\n",
    "        return \"tools\"\n",
    "    return END"
   ]
  },
  {
   "cell_type": "code",
   "execution_count": 15,
   "id": "c4969bc5",
   "metadata": {},
   "outputs": [],
   "source": [
    "tool_node = ToolNode(tools)\n",
    "workflow = StateGraph(MessagesState)\n",
    "workflow.add_node(\"assistant\",call_model)\n",
    "workflow.add_node(\"myweathertool\",tool_node)\n",
    "workflow.add_edge(START,\"assistant\")\n",
    "workflow.add_conditional_edges(\"assistant\",\n",
    "                               router_function,\n",
    "                               {\n",
    "                                   \"tools\" : \"myweathertool\",\n",
    "                                   END : END\n",
    "                               })\n",
    "app = workflow.compile()"
   ]
  },
  {
   "cell_type": "code",
   "execution_count": null,
   "id": "201a4128",
   "metadata": {},
   "outputs": [],
   "source": [
    "display(Image(app.get_graph().draw_mermaid_png()))"
   ]
  },
  {
   "cell_type": "code",
   "execution_count": 16,
   "id": "32580beb",
   "metadata": {},
   "outputs": [
    {
     "data": {
      "text/plain": [
       "{'messages': [HumanMessage(content='what is the weather in delhi ?', additional_kwargs={}, response_metadata={}, id='595d2b48-e047-403c-8040-cacc014abb10'),\n",
       "  AIMessage(content='', additional_kwargs={'tool_calls': [{'id': 'call_d3br', 'function': {'arguments': '{\"query\":\"delhi weather\"}', 'name': 'search'}, 'type': 'function'}]}, response_metadata={'token_usage': {'completion_tokens': 15, 'prompt_tokens': 216, 'total_tokens': 231, 'completion_time': 0.023195111, 'prompt_time': 0.013575539, 'queue_time': 0.049213485, 'total_time': 0.03677065}, 'model_name': 'llama-3.1-8b-instant', 'system_fingerprint': 'fp_f7bd09b454', 'finish_reason': 'tool_calls', 'logprobs': None}, id='run--ac30a381-c4fd-4acb-a3ea-a90ea83d9aad-0', tool_calls=[{'name': 'search', 'args': {'query': 'delhi weather'}, 'id': 'call_d3br', 'type': 'tool_call'}], usage_metadata={'input_tokens': 216, 'output_tokens': 15, 'total_tokens': 231}),\n",
       "  ToolMessage(content='weather is hot and humid with sudden rains', name='search', id='5906409a-0705-48df-8e4a-5c637ae2d505', tool_call_id='call_d3br')]}"
      ]
     },
     "execution_count": 16,
     "metadata": {},
     "output_type": "execute_result"
    }
   ],
   "source": [
    "app.invoke({'messages': ['what is the weather in delhi ?']})"
   ]
  },
  {
   "cell_type": "code",
   "execution_count": 17,
   "id": "fbd054db",
   "metadata": {},
   "outputs": [
    {
     "name": "stderr",
     "output_type": "stream",
     "text": [
      "Adding an edge to a graph that has already been compiled. This will not be reflected in the compiled graph.\n"
     ]
    },
    {
     "data": {
      "image/png": "[encoded data removed]",
      "text/plain": [
       "<IPython.core.display.Image object>"
      ]
     },
     "metadata": {},
     "output_type": "display_data"
    }
   ],
   "source": [
    "workflow.add_edge(\"myweathertool\",\"assistant\")\n",
    "app = workflow.compile()\n",
    "display(Image(app.get_graph().draw_mermaid_png()))"
   ]
  },
  {
   "cell_type": "code",
   "execution_count": 19,
   "id": "5c98bac3",
   "metadata": {},
   "outputs": [
    {
     "name": "stdout",
     "output_type": "stream",
     "text": [
      "here is output from assistant\n",
      "_______\n",
      "[AIMessage(content='', additional_kwargs={'tool_calls': [{'id': 'call_xvmr', 'function': {'arguments': '{\"query\":\"delhi weather\"}', 'name': 'search'}, 'type': 'function'}]}, response_metadata={'token_usage': {'completion_tokens': 15, 'prompt_tokens': 429, 'total_tokens': 444, 'completion_time': 0.021309253, 'prompt_time': 0.026351573, 'queue_time': -0.057930702, 'total_time': 0.047660826}, 'model_name': 'llama-3.1-8b-instant', 'system_fingerprint': 'fp_f7bd09b454', 'finish_reason': 'tool_calls', 'logprobs': None}, id='run--6858b4fc-a509-4ca2-b649-4871f9341894-0', tool_calls=[{'name': 'search', 'args': {'query': 'delhi weather'}, 'id': 'call_xvmr', 'type': 'tool_call'}], usage_metadata={'input_tokens': 429, 'output_tokens': 15, 'total_tokens': 444})]\n",
      "\n",
      "\n",
      "here is output from myweathertool\n",
      "_______\n",
      "[ToolMessage(content='weather is hot and humid with sudden rains', name='search', id='df6005c4-3157-4f41-bb96-4142fd16d875', tool_call_id='call_xvmr')]\n",
      "\n",
      "\n",
      "here is output from assistant\n",
      "_______\n",
      "[AIMessage(content='', additional_kwargs={'tool_calls': [{'id': 'call_wjne', 'function': {'arguments': '{\"query\":\"delhi temperature today\"}', 'name': 'search'}, 'type': 'function'}]}, response_metadata={'token_usage': {'completion_tokens': 16, 'prompt_tokens': 248, 'total_tokens': 264, 'completion_time': 0.026055088, 'prompt_time': 0.020237489, 'queue_time': 0.063281918, 'total_time': 0.046292577}, 'model_name': 'llama-3.1-8b-instant', 'system_fingerprint': 'fp_f7bd09b454', 'finish_reason': 'tool_calls', 'logprobs': None}, id='run--a3caaa44-571b-4cb0-854c-4df55556f32c-0', tool_calls=[{'name': 'search', 'args': {'query': 'delhi temperature today'}, 'id': 'call_wjne', 'type': 'tool_call'}], usage_metadata={'input_tokens': 248, 'output_tokens': 16, 'total_tokens': 264})]\n",
      "\n",
      "\n",
      "here is output from myweathertool\n",
      "_______\n",
      "[ToolMessage(content='weather is hot and humid with sudden rains', name='search', id='53d50190-8690-4e96-9633-07a30aae1af1', tool_call_id='call_wjne')]\n",
      "\n",
      "\n",
      "here is output from assistant\n",
      "_______\n",
      "[AIMessage(content='', additional_kwargs={'tool_calls': [{'id': 'call_7p9y', 'function': {'arguments': '{\"query\":\"delhi weather forecast\"}', 'name': 'search'}, 'type': 'function'}]}, response_metadata={'token_usage': {'completion_tokens': 16, 'prompt_tokens': 282, 'total_tokens': 298, 'completion_time': 0.021333333, 'prompt_time': 0.054559439, 'queue_time': 0.5122745919999999, 'total_time': 0.075892772}, 'model_name': 'llama-3.1-8b-instant', 'system_fingerprint': 'fp_a4265e44d5', 'finish_reason': 'tool_calls', 'logprobs': None}, id='run--5d89bb9c-1d2a-4542-b90a-9d9acd50fa4b-0', tool_calls=[{'name': 'search', 'args': {'query': 'delhi weather forecast'}, 'id': 'call_7p9y', 'type': 'tool_call'}], usage_metadata={'input_tokens': 282, 'output_tokens': 16, 'total_tokens': 298})]\n",
      "\n",
      "\n",
      "here is output from myweathertool\n",
      "_______\n",
      "[ToolMessage(content='weather is hot and humid with sudden rains', name='search', id='90ac4120-6b89-47cb-86fc-6fa48b1b40e9', tool_call_id='call_7p9y')]\n",
      "\n",
      "\n",
      "here is output from assistant\n",
      "_______\n",
      "[AIMessage(content='', additional_kwargs={'tool_calls': [{'id': 'call_4gd4', 'function': {'arguments': '{\"query\":\"delhi weather news\"}', 'name': 'search'}, 'type': 'function'}]}, response_metadata={'token_usage': {'completion_tokens': 16, 'prompt_tokens': 316, 'total_tokens': 332, 'completion_time': 0.021333333, 'prompt_time': 0.031189128, 'queue_time': 0.279901061, 'total_time': 0.052522461}, 'model_name': 'llama-3.1-8b-instant', 'system_fingerprint': 'fp_a4265e44d5', 'finish_reason': 'tool_calls', 'logprobs': None}, id='run--08f8e78d-4563-4477-a6e5-327fae7b3e1f-0', tool_calls=[{'name': 'search', 'args': {'query': 'delhi weather news'}, 'id': 'call_4gd4', 'type': 'tool_call'}], usage_metadata={'input_tokens': 316, 'output_tokens': 16, 'total_tokens': 332})]\n",
      "\n",
      "\n",
      "here is output from myweathertool\n",
      "_______\n",
      "[ToolMessage(content='weather is hot and humid with sudden rains', name='search', id='c0213f18-64f3-47e7-92f5-e1b869c1d9ed', tool_call_id='call_4gd4')]\n",
      "\n",
      "\n",
      "here is output from assistant\n",
      "_______\n",
      "[AIMessage(content='', additional_kwargs={'tool_calls': [{'id': 'call_433z', 'function': {'arguments': '{\"query\":\"delhi weather next 7 days\"}', 'name': 'search'}, 'type': 'function'}]}, response_metadata={'token_usage': {'completion_tokens': 19, 'prompt_tokens': 350, 'total_tokens': 369, 'completion_time': 0.025333333, 'prompt_time': 0.018106808, 'queue_time': 0.11830459199999999, 'total_time': 0.043440141}, 'model_name': 'llama-3.1-8b-instant', 'system_fingerprint': 'fp_a4265e44d5', 'finish_reason': 'tool_calls', 'logprobs': None}, id='run--6b641ffb-f1ab-4376-86de-a2fe31ce3807-0', tool_calls=[{'name': 'search', 'args': {'query': 'delhi weather next 7 days'}, 'id': 'call_433z', 'type': 'tool_call'}], usage_metadata={'input_tokens': 350, 'output_tokens': 19, 'total_tokens': 369})]\n",
      "\n",
      "\n",
      "here is output from myweathertool\n",
      "_______\n",
      "[ToolMessage(content='weather is hot and humid with sudden rains', name='search', id='0a42d7b4-009b-46b6-a9b3-e632db0e801c', tool_call_id='call_433z')]\n",
      "\n",
      "\n",
      "here is output from assistant\n",
      "_______\n",
      "[AIMessage(content='', additional_kwargs={'tool_calls': [{'id': 'call_x7aq', 'function': {'arguments': '{\"query\":\"delhi weather this week\"}', 'name': 'search'}, 'type': 'function'}]}, response_metadata={'token_usage': {'completion_tokens': 17, 'prompt_tokens': 387, 'total_tokens': 404, 'completion_time': 0.022666667, 'prompt_time': 0.026010183, 'queue_time': 0.125514477, 'total_time': 0.04867685}, 'model_name': 'llama-3.1-8b-instant', 'system_fingerprint': 'fp_a4265e44d5', 'finish_reason': 'tool_calls', 'logprobs': None}, id='run--1d61efa9-ceed-4278-b65f-a5f77417515a-0', tool_calls=[{'name': 'search', 'args': {'query': 'delhi weather this week'}, 'id': 'call_x7aq', 'type': 'tool_call'}], usage_metadata={'input_tokens': 387, 'output_tokens': 17, 'total_tokens': 404})]\n",
      "\n",
      "\n",
      "here is output from myweathertool\n",
      "_______\n",
      "[ToolMessage(content='weather is hot and humid with sudden rains', name='search', id='d7c2438f-4b41-4660-9b18-14528ea0a3d2', tool_call_id='call_x7aq')]\n",
      "\n",
      "\n",
      "here is output from assistant\n",
      "_______\n",
      "[AIMessage(content='', additional_kwargs={'tool_calls': [{'id': 'call_zf3s', 'function': {'arguments': '{\"query\":\"delhi weather tomorrow\"}', 'name': 'search'}, 'type': 'function'}]}, response_metadata={'token_usage': {'completion_tokens': 16, 'prompt_tokens': 422, 'total_tokens': 438, 'completion_time': 0.021333333, 'prompt_time': 0.02126223, 'queue_time': 0.05755413, 'total_time': 0.042595563}, 'model_name': 'llama-3.1-8b-instant', 'system_fingerprint': 'fp_a4265e44d5', 'finish_reason': 'tool_calls', 'logprobs': None}, id='run--cd718e16-8b8d-4aaf-b50d-9a18553a229d-0', tool_calls=[{'name': 'search', 'args': {'query': 'delhi weather tomorrow'}, 'id': 'call_zf3s', 'type': 'tool_call'}], usage_metadata={'input_tokens': 422, 'output_tokens': 16, 'total_tokens': 438})]\n",
      "\n",
      "\n",
      "here is output from myweathertool\n",
      "_______\n",
      "[ToolMessage(content='weather is hot and humid with sudden rains', name='search', id='073098f0-cc6b-4ed6-bb96-ea1545e0d1a9', tool_call_id='call_zf3s')]\n",
      "\n",
      "\n",
      "here is output from assistant\n",
      "_______\n",
      "[AIMessage(content='', additional_kwargs={'tool_calls': [{'id': 'call_wjvf', 'function': {'arguments': '{\"query\":\"delhi weather today\"}', 'name': 'search'}, 'type': 'function'}]}, response_metadata={'token_usage': {'completion_tokens': 16, 'prompt_tokens': 456, 'total_tokens': 472, 'completion_time': 0.021333333, 'prompt_time': 0.045184501, 'queue_time': 0.415322099, 'total_time': 0.066517834}, 'model_name': 'llama-3.1-8b-instant', 'system_fingerprint': 'fp_a4265e44d5', 'finish_reason': 'tool_calls', 'logprobs': None}, id='run--208ddebd-ae3e-4181-8334-d275bd07411a-0', tool_calls=[{'name': 'search', 'args': {'query': 'delhi weather today'}, 'id': 'call_wjvf', 'type': 'tool_call'}], usage_metadata={'input_tokens': 456, 'output_tokens': 16, 'total_tokens': 472})]\n",
      "\n",
      "\n",
      "here is output from myweathertool\n",
      "_______\n",
      "[ToolMessage(content='weather is hot and humid with sudden rains', name='search', id='3780d106-b227-40ec-8f2d-b51515f9f054', tool_call_id='call_wjvf')]\n",
      "\n",
      "\n",
      "here is output from assistant\n",
      "_______\n",
      "[AIMessage(content='', additional_kwargs={'tool_calls': [{'id': 'call_w98t', 'function': {'arguments': '{\"query\":\"delhi weather update\"}', 'name': 'search'}, 'type': 'function'}]}, response_metadata={'token_usage': {'completion_tokens': 16, 'prompt_tokens': 490, 'total_tokens': 506, 'completion_time': 0.021333333, 'prompt_time': 0.03328922, 'queue_time': 0.18624441, 'total_time': 0.054622553}, 'model_name': 'llama-3.1-8b-instant', 'system_fingerprint': 'fp_a4265e44d5', 'finish_reason': 'tool_calls', 'logprobs': None}, id='run--360c3421-0bb5-41df-999b-53dbb76b0568-0', tool_calls=[{'name': 'search', 'args': {'query': 'delhi weather update'}, 'id': 'call_w98t', 'type': 'tool_call'}], usage_metadata={'input_tokens': 490, 'output_tokens': 16, 'total_tokens': 506})]\n",
      "\n",
      "\n",
      "here is output from myweathertool\n",
      "_______\n",
      "[ToolMessage(content='weather is hot and humid with sudden rains', name='search', id='9228ba32-5779-439c-a41f-c32b17298cd7', tool_call_id='call_w98t')]\n",
      "\n",
      "\n",
      "here is output from assistant\n",
      "_______\n",
      "[AIMessage(content='', additional_kwargs={'tool_calls': [{'id': 'call_kfmv', 'function': {'arguments': '{\"query\":\"delhi weather 10 days forecast\"}', 'name': 'search'}, 'type': 'function'}]}, response_metadata={'token_usage': {'completion_tokens': 19, 'prompt_tokens': 524, 'total_tokens': 543, 'completion_time': 0.025333333, 'prompt_time': 0.026085932, 'queue_time': 0.079953308, 'total_time': 0.051419265}, 'model_name': 'llama-3.1-8b-instant', 'system_fingerprint': 'fp_a4265e44d5', 'finish_reason': 'tool_calls', 'logprobs': None}, id='run--1b4f1bfa-6917-49ad-8b22-b0a17db586d4-0', tool_calls=[{'name': 'search', 'args': {'query': 'delhi weather 10 days forecast'}, 'id': 'call_kfmv', 'type': 'tool_call'}], usage_metadata={'input_tokens': 524, 'output_tokens': 19, 'total_tokens': 543})]\n",
      "\n",
      "\n",
      "here is output from myweathertool\n",
      "_______\n",
      "[ToolMessage(content='weather is hot and humid with sudden rains', name='search', id='1ddae973-9c42-4a6f-ace7-b5bd0bf1c6b6', tool_call_id='call_kfmv')]\n",
      "\n",
      "\n",
      "here is output from assistant\n",
      "_______\n",
      "[AIMessage(content='', additional_kwargs={'tool_calls': [{'id': 'call_2mdq', 'function': {'arguments': '{\"query\":\"delhi weather in summer\"}', 'name': 'search'}, 'type': 'function'}]}, response_metadata={'token_usage': {'completion_tokens': 17, 'prompt_tokens': 561, 'total_tokens': 578, 'completion_time': 0.027500086, 'prompt_time': 0.044925671, 'queue_time': 0.205396187, 'total_time': 0.072425757}, 'model_name': 'llama-3.1-8b-instant', 'system_fingerprint': 'fp_f7bd09b454', 'finish_reason': 'tool_calls', 'logprobs': None}, id='run--60a35cbf-2136-4dc0-be23-4cbddcd62fce-0', tool_calls=[{'name': 'search', 'args': {'query': 'delhi weather in summer'}, 'id': 'call_2mdq', 'type': 'tool_call'}], usage_metadata={'input_tokens': 561, 'output_tokens': 17, 'total_tokens': 578})]\n",
      "\n",
      "\n",
      "here is output from myweathertool\n",
      "_______\n",
      "[ToolMessage(content='weather is hot and humid with sudden rains', name='search', id='2848df46-6b26-4c0a-8c56-eeb9fc4b8f85', tool_call_id='call_2mdq')]\n",
      "\n",
      "\n",
      "here is output from assistant\n",
      "_______\n",
      "[AIMessage(content='', additional_kwargs={'tool_calls': [{'id': 'call_nh8t', 'function': {'arguments': '{\"query\":\"delhi weather in winter\"}', 'name': 'search'}, 'type': 'function'}]}, response_metadata={'token_usage': {'completion_tokens': 17, 'prompt_tokens': 596, 'total_tokens': 613, 'completion_time': 0.027007264, 'prompt_time': 0.047679918, 'queue_time': 0.212163433, 'total_time': 0.074687182}, 'model_name': 'llama-3.1-8b-instant', 'system_fingerprint': 'fp_f7bd09b454', 'finish_reason': 'tool_calls', 'logprobs': None}, id='run--b37d9a75-1af6-49de-aead-219dcd1870f9-0', tool_calls=[{'name': 'search', 'args': {'query': 'delhi weather in winter'}, 'id': 'call_nh8t', 'type': 'tool_call'}], usage_metadata={'input_tokens': 596, 'output_tokens': 17, 'total_tokens': 613})]\n",
      "\n",
      "\n",
      "here is output from myweathertool\n",
      "_______\n",
      "[ToolMessage(content='weather is hot and humid with sudden rains', name='search', id='f246890a-a4a8-41d2-9bdf-175537001777', tool_call_id='call_nh8t')]\n",
      "\n",
      "\n",
      "here is output from assistant\n",
      "_______\n",
      "[AIMessage(content='', additional_kwargs={'tool_calls': [{'id': 'call_xyb5', 'function': {'arguments': '{\"query\":\"delhi weather in monsoon\"}', 'name': 'search'}, 'type': 'function'}]}, response_metadata={'token_usage': {'completion_tokens': 18, 'prompt_tokens': 631, 'total_tokens': 649, 'completion_time': 0.025460679, 'prompt_time': 0.050489435, 'queue_time': 0.197282047, 'total_time': 0.075950114}, 'model_name': 'llama-3.1-8b-instant', 'system_fingerprint': 'fp_f7bd09b454', 'finish_reason': 'tool_calls', 'logprobs': None}, id='run--5108ef9d-8d55-448b-926f-97b91f1788ee-0', tool_calls=[{'name': 'search', 'args': {'query': 'delhi weather in monsoon'}, 'id': 'call_xyb5', 'type': 'tool_call'}], usage_metadata={'input_tokens': 631, 'output_tokens': 18, 'total_tokens': 649})]\n",
      "\n",
      "\n"
     ]
    },
    {
     "ename": "GraphRecursionError",
     "evalue": "Recursion limit of 25 reached without hitting a stop condition. You can increase the limit by setting the `recursion_limit` config key.\nFor troubleshooting, visit: https://python.langchain.com/docs/troubleshooting/errors/GRAPH_RECURSION_LIMIT",
     "output_type": "error",
     "traceback": [
      "\u001b[0;31m---------------------------------------------------------------------------\u001b[0m",
      "\u001b[0;31mGraphRecursionError\u001b[0m                       Traceback (most recent call last)",
      "Cell \u001b[0;32mIn[19], line 1\u001b[0m\n\u001b[0;32m----> 1\u001b[0m \u001b[38;5;28;43;01mfor\u001b[39;49;00m\u001b[43m \u001b[49m\u001b[43moutput\u001b[49m\u001b[43m \u001b[49m\u001b[38;5;129;43;01min\u001b[39;49;00m\u001b[43m \u001b[49m\u001b[43mapp\u001b[49m\u001b[38;5;241;43m.\u001b[39;49m\u001b[43mstream\u001b[49m\u001b[43m(\u001b[49m\u001b[43m{\u001b[49m\u001b[38;5;124;43m\"\u001b[39;49m\u001b[38;5;124;43mmessages\u001b[39;49m\u001b[38;5;124;43m\"\u001b[39;49m\u001b[43m:\u001b[49m\u001b[43m \u001b[49m\u001b[43m[\u001b[49m\u001b[38;5;124;43m\"\u001b[39;49m\u001b[38;5;124;43mwhat is the weather in delhi\u001b[39;49m\u001b[38;5;124;43m\"\u001b[39;49m\u001b[43m]\u001b[49m\u001b[43m}\u001b[49m\u001b[43m)\u001b[49m\u001b[43m:\u001b[49m\n\u001b[1;32m      2\u001b[0m \u001b[43m    \u001b[49m\u001b[38;5;28;43;01mfor\u001b[39;49;00m\u001b[43m \u001b[49m\u001b[43mkey\u001b[49m\u001b[43m,\u001b[49m\u001b[43mvalue\u001b[49m\u001b[43m \u001b[49m\u001b[38;5;129;43;01min\u001b[39;49;00m\u001b[43m \u001b[49m\u001b[43moutput\u001b[49m\u001b[38;5;241;43m.\u001b[39;49m\u001b[43mitems\u001b[49m\u001b[43m(\u001b[49m\u001b[43m)\u001b[49m\u001b[43m:\u001b[49m\n\u001b[1;32m      3\u001b[0m \u001b[43m        \u001b[49m\u001b[38;5;28;43mprint\u001b[39;49m\u001b[43m(\u001b[49m\u001b[38;5;124;43mf\u001b[39;49m\u001b[38;5;124;43m\"\u001b[39;49m\u001b[38;5;124;43mhere is output from \u001b[39;49m\u001b[38;5;132;43;01m{\u001b[39;49;00m\u001b[43mkey\u001b[49m\u001b[38;5;132;43;01m}\u001b[39;49;00m\u001b[38;5;124;43m\"\u001b[39;49m\u001b[43m)\u001b[49m\n",
      "File \u001b[0;32m~/Desktop/Projects/langchain/langchain_env/lib/python3.12/site-packages/langgraph/pregel/__init__.py:2547\u001b[0m, in \u001b[0;36mPregel.stream\u001b[0;34m(self, input, config, stream_mode, output_keys, interrupt_before, interrupt_after, checkpoint_during, debug, subgraphs)\u001b[0m\n\u001b[1;32m   2538\u001b[0m \u001b[38;5;28;01mif\u001b[39;00m loop\u001b[38;5;241m.\u001b[39mstatus \u001b[38;5;241m==\u001b[39m \u001b[38;5;124m\"\u001b[39m\u001b[38;5;124mout_of_steps\u001b[39m\u001b[38;5;124m\"\u001b[39m:\n\u001b[1;32m   2539\u001b[0m     msg \u001b[38;5;241m=\u001b[39m create_error_message(\n\u001b[1;32m   2540\u001b[0m         message\u001b[38;5;241m=\u001b[39m(\n\u001b[1;32m   2541\u001b[0m             \u001b[38;5;124mf\u001b[39m\u001b[38;5;124m\"\u001b[39m\u001b[38;5;124mRecursion limit of \u001b[39m\u001b[38;5;132;01m{\u001b[39;00mconfig[\u001b[38;5;124m'\u001b[39m\u001b[38;5;124mrecursion_limit\u001b[39m\u001b[38;5;124m'\u001b[39m]\u001b[38;5;132;01m}\u001b[39;00m\u001b[38;5;124m reached \u001b[39m\u001b[38;5;124m\"\u001b[39m\n\u001b[0;32m   (...)\u001b[0m\n\u001b[1;32m   2545\u001b[0m         error_code\u001b[38;5;241m=\u001b[39mErrorCode\u001b[38;5;241m.\u001b[39mGRAPH_RECURSION_LIMIT,\n\u001b[1;32m   2546\u001b[0m     )\n\u001b[0;32m-> 2547\u001b[0m     \u001b[38;5;28;01mraise\u001b[39;00m GraphRecursionError(msg)\n\u001b[1;32m   2548\u001b[0m \u001b[38;5;66;03m# set final channel values as run output\u001b[39;00m\n\u001b[1;32m   2549\u001b[0m run_manager\u001b[38;5;241m.\u001b[39mon_chain_end(loop\u001b[38;5;241m.\u001b[39moutput)\n",
      "\u001b[0;31mGraphRecursionError\u001b[0m: Recursion limit of 25 reached without hitting a stop condition. You can increase the limit by setting the `recursion_limit` config key.\nFor troubleshooting, visit: https://python.langchain.com/docs/troubleshooting/errors/GRAPH_RECURSION_LIMIT"
     ]
    }
   ],
   "source": [
    "for output in app.stream({\"messages\": [\"what is the weather in delhi\"]}):\n",
    "    for key,value in output.items():\n",
    "        print(f\"here is output from {key}\")\n",
    "        print(\"_______\")\n",
    "        print(value['messages'])\n",
    "        print(\"\\n\")"
   ]
  },
  {
   "cell_type": "markdown",
   "id": "089156c7",
   "metadata": {},
   "source": [
    "Adding multiple tools"
   ]
  },
  {
   "cell_type": "code",
   "execution_count": 21,
   "id": "77172baa",
   "metadata": {},
   "outputs": [],
   "source": [
    "@tool\n",
    "def multiply(a:int,b:int) -> int:\n",
    "    \"\"\" multiply two numbers\"\"\"\n",
    "    return a+b\n",
    "\n",
    "@tool\n",
    "def add(a:int,b:int) -> int:\n",
    "    \"\"\"add two numbers\"\"\"\n",
    "    return a+b\n",
    "\n",
    "@tool\n",
    "def substract(a:int,b:int) -> int:\n",
    "    \"\"\"substract two codes\"\"\"\n",
    "    return a-b\n",
    "\n",
    "@tool\n",
    "def divide(a:int,b:int) -> int:\n",
    "    \"\"\" divide two numbers \"\"\"\n",
    "    return a/b"
   ]
  },
  {
   "cell_type": "code",
   "execution_count": 23,
   "id": "021f6ce7",
   "metadata": {},
   "outputs": [
    {
     "name": "stdout",
     "output_type": "stream",
     "text": [
      "Collecting duckduckgo-search\n",
      "  Downloading duckduckgo_search-8.0.2-py3-none-any.whl.metadata (16 kB)\n",
      "Collecting click>=8.1.8 (from duckduckgo-search)\n",
      "  Downloading click-8.2.1-py3-none-any.whl.metadata (2.5 kB)\n",
      "Collecting primp>=0.15.0 (from duckduckgo-search)\n",
      "  Downloading primp-0.15.0-cp38-abi3-macosx_11_0_arm64.whl.metadata (13 kB)\n",
      "Requirement already satisfied: lxml>=5.3.0 in ./langchain_env/lib/python3.12/site-packages (from duckduckgo-search) (5.3.0)\n",
      "Downloading duckduckgo_search-8.0.2-py3-none-any.whl (18 kB)\n",
      "Downloading click-8.2.1-py3-none-any.whl (102 kB)\n",
      "Downloading primp-0.15.0-cp38-abi3-macosx_11_0_arm64.whl (3.0 MB)\n",
      "\u001b[2K   \u001b[90m━━━━━━━━━━━━━━━━━━━━━━━━━━━━━━━━━━━━━━━━\u001b[0m \u001b[32m3.0/3.0 MB\u001b[0m \u001b[31m13.8 MB/s\u001b[0m eta \u001b[36m0:00:00\u001b[0m00:01\u001b[0m\n",
      "\u001b[?25hInstalling collected packages: primp, click, duckduckgo-search\n",
      "  Attempting uninstall: click\n",
      "    Found existing installation: click 8.1.7\n",
      "    Uninstalling click-8.1.7:\n",
      "      Successfully uninstalled click-8.1.7\n",
      "\u001b[31mERROR: pip's dependency resolver does not currently take into account all the packages that are installed. This behaviour is the source of the following dependency conflicts.\n",
      "chainlit 1.3.2 requires aiofiles<24.0.0,>=23.1.0, but you have aiofiles 24.1.0 which is incompatible.\n",
      "typer 0.15.4 requires click<8.2,>=8.0.0, but you have click 8.2.1 which is incompatible.\u001b[0m\u001b[31m\n",
      "\u001b[0mSuccessfully installed click-8.2.1 duckduckgo-search-8.0.2 primp-0.15.0\n"
     ]
    }
   ],
   "source": [
    "!pip install -U duckduckgo-search"
   ]
  },
  {
   "cell_type": "code",
   "execution_count": 24,
   "id": "d4df13ca",
   "metadata": {},
   "outputs": [
    {
     "data": {
      "text/plain": [
       "\"This is a list of current heads of state and heads of government. In some cases, mainly in presidential systems, one leader is head of state and head of government. In other cases, mainly in semi-presidential and parliamentary systems, the head of state and the head of government are different people. In semi-presidential and parliamentary systems, the head of government (i.e. executive) role ... OTTAWA — Five United States senators are in Ottawa today for meetings with the Liberal government, including Prime Minister Mark Carney. Prime Minister Narendra Modi welcomed United States President Joseph R. Biden, Jr., to India today, reaffirming the close and enduring partnership between India and the United States. The leaders expressed their appreciation for the substantial progress underway to implement the ground breaking achievements of Prime … Read More» The United States is often compared to other countries that have a parliamentary system, where a prime minister serves as the head of government. However, the U.S. has a very different system of governance, rooted in its unique history and constitutional framework. The absence of a prime minister in the United States is a result of deliberate choices made by the country's Founding Fathers ... Learn about the duties of the U.S. president, vice president, and first lady. Find out how to contact and learn more about current and past leaders.\""
      ]
     },
     "execution_count": 24,
     "metadata": {},
     "output_type": "execute_result"
    }
   ],
   "source": [
    "from langchain_community.tools import DuckDuckGoSearchRun\n",
    "duckduckgo_search=DuckDuckGoSearchRun()\n",
    "duckduckgo_search.invoke(\"who is a current prime minister of USA?\")"
   ]
  },
  {
   "cell_type": "code",
   "execution_count": 25,
   "id": "d2c5269b",
   "metadata": {},
   "outputs": [
    {
     "data": {
      "text/plain": [
       "AIMessage(content=\"I'm happy to chat with you. What would you like to talk about or what can I help with?\", additional_kwargs={}, response_metadata={'token_usage': {'completion_tokens': 23, 'prompt_tokens': 417, 'total_tokens': 440, 'completion_time': 0.030666667, 'prompt_time': 0.017117805, 'queue_time': 0.048722345, 'total_time': 0.047784472}, 'model_name': 'llama-3.1-8b-instant', 'system_fingerprint': 'fp_a4265e44d5', 'finish_reason': 'stop', 'logprobs': None}, id='run--6f121a90-e37a-431a-a783-22b2d7e43335-0', usage_metadata={'input_tokens': 417, 'output_tokens': 23, 'total_tokens': 440})"
      ]
     },
     "execution_count": 25,
     "metadata": {},
     "output_type": "execute_result"
    }
   ],
   "source": [
    "tools = [multiply,add,substract,divide,search]\n",
    "llm_with_tools = groq_model.bind_tools(tools)\n",
    "llm_with_tools.invoke(\"hi\")"
   ]
  },
  {
   "cell_type": "code",
   "execution_count": 26,
   "id": "00b05cf6",
   "metadata": {},
   "outputs": [
    {
     "data": {
      "text/plain": [
       "[{'name': 'add',\n",
       "  'args': {'a': 5, 'b': 6},\n",
       "  'id': 'call_hvxk',\n",
       "  'type': 'tool_call'}]"
      ]
     },
     "execution_count": 26,
     "metadata": {},
     "output_type": "execute_result"
    }
   ],
   "source": [
    "response = llm_with_tools.invoke(\"can you add 5 and 6 together\")\n",
    "response.tool_calls"
   ]
  },
  {
   "cell_type": "code",
   "execution_count": 27,
   "id": "29833299",
   "metadata": {},
   "outputs": [
    {
     "data": {
      "text/plain": [
       "[{'name': 'multiply',\n",
       "  'args': {'a': 5, 'b': 6},\n",
       "  'id': 'call_yapy',\n",
       "  'type': 'tool_call'}]"
      ]
     },
     "execution_count": 27,
     "metadata": {},
     "output_type": "execute_result"
    }
   ],
   "source": [
    "response = llm_with_tools.invoke(\"can you multiply 5 and 6 together\")\n",
    "response.tool_calls"
   ]
  },
  {
   "cell_type": "code",
   "execution_count": 28,
   "id": "31fc4dcd",
   "metadata": {},
   "outputs": [
    {
     "data": {
      "text/plain": [
       "[{'name': 'search',\n",
       "  'args': {'query': 'current GDP of India'},\n",
       "  'id': 'call_n727',\n",
       "  'type': 'tool_call'},\n",
       " {'name': 'search',\n",
       "  'args': {'query': 'current affairs of India'},\n",
       "  'id': 'call_q5vg',\n",
       "  'type': 'tool_call'}]"
      ]
     },
     "execution_count": 28,
     "metadata": {},
     "output_type": "execute_result"
    }
   ],
   "source": [
    "response = llm_with_tools.invoke(\"what is the current GDP of India and current affairs\")\n",
    "response.tool_calls"
   ]
  },
  {
   "cell_type": "code",
   "execution_count": 29,
   "id": "27699ec4",
   "metadata": {},
   "outputs": [],
   "source": [
    "from langchain_core.messages import HumanMessage, SystemMessage"
   ]
  },
  {
   "cell_type": "code",
   "execution_count": 44,
   "id": "6bb69c57",
   "metadata": {},
   "outputs": [],
   "source": [
    "sys_msg = SystemMessage(\"You are a helpful assistant tasked with using search and performing arithmetic on a set of inputs\")\n",
    "\n",
    "def assistant(state:MessagesState):\n",
    "    return {\"messages\" : llm_with_tools.invoke([sys_msg] +state['messages'])}"
   ]
  },
  {
   "cell_type": "code",
   "execution_count": 39,
   "id": "0b02e0af",
   "metadata": {},
   "outputs": [
    {
     "data": {
      "text/plain": [
       "<langgraph.graph.state.StateGraph at 0x3353a9e50>"
      ]
     },
     "execution_count": 39,
     "metadata": {},
     "output_type": "execute_result"
    }
   ],
   "source": [
    "builder = StateGraph(MessagesState)\n",
    "builder.add_node(\"assistant\",assistant)\n",
    "builder.add_node(\"tools\",ToolNode(tools))\n",
    "builder.add_edge(START,\"assistant\")"
   ]
  },
  {
   "cell_type": "code",
   "execution_count": 40,
   "id": "236b1b62",
   "metadata": {},
   "outputs": [
    {
     "data": {
      "text/plain": [
       "<langgraph.graph.state.StateGraph at 0x3353a9e50>"
      ]
     },
     "execution_count": 40,
     "metadata": {},
     "output_type": "execute_result"
    }
   ],
   "source": [
    "from langgraph.prebuilt import tools_condition\n",
    "builder.add_conditional_edges(\n",
    "    'assistant',tools_condition\n",
    ")"
   ]
  },
  {
   "cell_type": "code",
   "execution_count": 41,
   "id": "8f8d2aae",
   "metadata": {},
   "outputs": [
    {
     "data": {
      "image/png": "[encoded data removed]",
      "text/plain": [
       "<IPython.core.display.Image object>"
      ]
     },
     "metadata": {},
     "output_type": "display_data"
    }
   ],
   "source": [
    "react_app = builder.compile()\n",
    "display(Image(react_app.get_graph().draw_mermaid_png()))"
   ]
  },
  {
   "cell_type": "code",
   "execution_count": 45,
   "id": "795996c9",
   "metadata": {},
   "outputs": [
    {
     "name": "stderr",
     "output_type": "stream",
     "text": [
      "Adding an edge to a graph that has already been compiled. This will not be reflected in the compiled graph.\n"
     ]
    },
    {
     "data": {
      "image/png": "[encoded data removed]",
      "text/plain": [
       "<IPython.core.display.Image object>"
      ]
     },
     "metadata": {},
     "output_type": "display_data"
    }
   ],
   "source": [
    "builder.add_edge(\"tools\",\"assistant\")\n",
    "react_app = builder.compile()\n",
    "display(Image(react_app.get_graph().draw_mermaid_png()))"
   ]
  },
  {
   "cell_type": "code",
   "execution_count": 51,
   "id": "445e4bf5",
   "metadata": {},
   "outputs": [
    {
     "data": {
      "text/plain": [
       "{'messages': [HumanMessage(content='what is twice of narendra mode age', additional_kwargs={}, response_metadata={}, id='655c2840-cd29-42d5-898b-13ad155de386'),\n",
       "  AIMessage(content='', additional_kwargs={'tool_calls': [{'id': 'call_ckaj', 'function': {'arguments': '{\"a\":2,\"b\":60}', 'name': 'multiply'}, 'type': 'function'}]}, response_metadata={'token_usage': {'completion_tokens': 19, 'prompt_tokens': 441, 'total_tokens': 460, 'completion_time': 0.025333333, 'prompt_time': 0.022694216, 'queue_time': 0.18288067600000002, 'total_time': 0.048027549}, 'model_name': 'llama-3.1-8b-instant', 'system_fingerprint': 'fp_a4265e44d5', 'finish_reason': 'tool_calls', 'logprobs': None}, id='run--cda6c00b-d1b0-4e78-a3c7-ee250461ad5e-0', tool_calls=[{'name': 'multiply', 'args': {'a': 2, 'b': 60}, 'id': 'call_ckaj', 'type': 'tool_call'}], usage_metadata={'input_tokens': 441, 'output_tokens': 19, 'total_tokens': 460}),\n",
       "  ToolMessage(content='62', name='multiply', id='39f63992-1bee-4259-ae90-4205544019ef', tool_call_id='call_ckaj'),\n",
       "  AIMessage(content='', additional_kwargs={'tool_calls': [{'id': 'call_fxb3', 'function': {'arguments': '{\"a\":62,\"b\":2}', 'name': 'multiply'}, 'type': 'function'}]}, response_metadata={'token_usage': {'completion_tokens': 19, 'prompt_tokens': 471, 'total_tokens': 490, 'completion_time': 0.025333333, 'prompt_time': 0.016659245, 'queue_time': 0.107644741, 'total_time': 0.041992578}, 'model_name': 'llama-3.1-8b-instant', 'system_fingerprint': 'fp_a4265e44d5', 'finish_reason': 'tool_calls', 'logprobs': None}, id='run--3b679f06-7749-40a6-acaa-dd15bcd48a3a-0', tool_calls=[{'name': 'multiply', 'args': {'a': 62, 'b': 2}, 'id': 'call_fxb3', 'type': 'tool_call'}], usage_metadata={'input_tokens': 471, 'output_tokens': 19, 'total_tokens': 490}),\n",
       "  ToolMessage(content='64', name='multiply', id='10ae863b-3b59-4f24-a8ac-069e0415457f', tool_call_id='call_fxb3'),\n",
       "  AIMessage(content=\"So, twice of Narendra Modi's age is 62*2 = 124.\", additional_kwargs={}, response_metadata={'token_usage': {'completion_tokens': 18, 'prompt_tokens': 501, 'total_tokens': 519, 'completion_time': 0.024, 'prompt_time': 0.017459781, 'queue_time': 0.09152659499999999, 'total_time': 0.041459781}, 'model_name': 'llama-3.1-8b-instant', 'system_fingerprint': 'fp_a4265e44d5', 'finish_reason': 'stop', 'logprobs': None}, id='run--911e6fd3-6f3d-4ec4-a6c4-1bef7c6e139f-0', usage_metadata={'input_tokens': 501, 'output_tokens': 18, 'total_tokens': 519})]}"
      ]
     },
     "execution_count": 51,
     "metadata": {},
     "output_type": "execute_result"
    }
   ],
   "source": [
    "react_app.invoke({'messages':[HumanMessage(\"what is twice of narendra mode age\")]})"
   ]
  },
  {
   "cell_type": "code",
   "execution_count": 55,
   "id": "aa45edd4",
   "metadata": {},
   "outputs": [],
   "source": [
    "response = react_app.invoke({'messages':[\"what is twice of narendra mode age\"]})"
   ]
  },
  {
   "cell_type": "code",
   "execution_count": 56,
   "id": "cdcf0d0f",
   "metadata": {},
   "outputs": [
    {
     "name": "stdout",
     "output_type": "stream",
     "text": [
      "================================\u001b[1m Human Message \u001b[0m=================================\n",
      "\n",
      "what is twice of narendra mode age\n",
      "==================================\u001b[1m Ai Message \u001b[0m==================================\n",
      "Tool Calls:\n",
      "  multiply (call_y1rm)\n",
      " Call ID: call_y1rm\n",
      "  Args:\n",
      "    a: 2\n",
      "    b: 49\n",
      "=================================\u001b[1m Tool Message \u001b[0m=================================\n",
      "Name: multiply\n",
      "\n",
      "51\n",
      "==================================\u001b[1m Ai Message \u001b[0m==================================\n",
      "\n",
      "Since I don't have information about Narendra Modi's actual age, I made an assumption with 49. Please note that this is not the actual age of Narendra Modi, which might change over time.\n"
     ]
    }
   ],
   "source": [
    "for m in response[\"messages\"]:\n",
    "    m.pretty_print()"
   ]
  },
  {
   "cell_type": "markdown",
   "id": "a9f644ad",
   "metadata": {},
   "source": [
    "### Langgraph memory save + Human In Loop\n",
    "### Multiagents"
   ]
  },
  {
   "cell_type": "code",
   "execution_count": 1,
   "id": "bb190c7c",
   "metadata": {},
   "outputs": [],
   "source": [
    "from typing import Annotated\n",
    "import operator,json\n",
    "from typing import TypedDict, Annotated, Sequence\n",
    "from typing_extensions import TypedDict\n",
    "from langchain_core.messages import BaseMessage\n",
    "from langgraph.checkpoint.memory import MemorySaver\n",
    "from langgraph.graph import StateGraph,END,START\n",
    "from langgraph.graph.message import add_messages\n",
    "from langgraph.prebuilt import ToolNode, tools_condition\n",
    "from langchain_core.tools import tool\n",
    "from langchain_community.tools.tavily_search import TavilySearchResults"
   ]
  },
  {
   "cell_type": "code",
   "execution_count": 7,
   "id": "1d709bd2",
   "metadata": {},
   "outputs": [],
   "source": [
    "class AgentState(TypedDict):\n",
    "    messages : Annotated[Sequence[BaseMessage],operator.add]"
   ]
  },
  {
   "cell_type": "code",
   "execution_count": 8,
   "id": "624cca5a",
   "metadata": {},
   "outputs": [
    {
     "data": {
      "text/plain": [
       "True"
      ]
     },
     "execution_count": 8,
     "metadata": {},
     "output_type": "execute_result"
    }
   ],
   "source": [
    "from dotenv import load_dotenv\n",
    "load_dotenv()"
   ]
  },
  {
   "cell_type": "code",
   "execution_count": 9,
   "id": "9f4131af",
   "metadata": {},
   "outputs": [],
   "source": [
    "import os\n",
    "tavily_api_key = os.getenv(\"TAVILY_API_KEY\")"
   ]
  },
  {
   "cell_type": "code",
   "execution_count": 10,
   "id": "7a872be9",
   "metadata": {},
   "outputs": [],
   "source": [
    "@tool\n",
    "def multiply(a:int,b:int) -> int:\n",
    "    \"\"\" multiply two numbers\"\"\"\n",
    "    return a+b\n",
    "\n",
    "@tool\n",
    "def search(query:str):\n",
    "    \"\"\"perform the web search on the user query\"\"\"\n",
    "    tavily=TavilySearchResults(tavily_api_key=tavily_api_key)\n",
    "    result=tavily.invoke(query)\n",
    "    return result"
   ]
  },
  {
   "cell_type": "code",
   "execution_count": 11,
   "id": "beaac9e7",
   "metadata": {},
   "outputs": [
    {
     "data": {
      "text/plain": [
       "[{'title': 'Prime Minister of India - Wikipedia',\n",
       "  'url': 'https://en.wikipedia.org/wiki/Prime_Minister_of_India',\n",
       "  'content': \"Rao, Atal Bihari Vajpayee, Manmohan Singh, and Narendra Modi. Modi is the current prime minister of India, serving since 26 May 2014 and the first to win three consecutive elections to secure a third successive term, 2014, 2019, 2024. [...] Prime Minister of India\\nBhārata kē Pradhānamantrī\\nLogo of the Prime Minister of India\\nFlag of India\\nIncumbentNarendra Modisince\\xa026 May 2014\\nPrime Minister's OfficeUnion Council of MinistersExecutive branch of the Indian Government\\nStyle | The HonourableMr. Prime Minister(informal)His Excellency(diplomatic)\\nType | Head of government\\nAbbreviation | PM\\nMember of | Parliament of IndiaUnion Council of Ministers\\nReports to | The PresidentThe Vice PresidentParliament of India [...] Party | PMs | Years in PMO | Name(s) | Alliance\\n | Indian National Congress | 6[a] | 54 years | Jawaharlal Nehru,Lal Bahadur Shastri,Indira Gandhi,Rajiv Gandhi,P. V. Narasimha RaoandManmohan Singh[a] | DMK,CPIandCPI (M)(1969–1971)DMK(1971–1976)AIADMK(1991–1994)UPA(2004–2014)\\n | Bharatiya Janata Party | 2 | 16 years | Atal Bihari VajpayeeandNarendra Modi | NDA(from 1998)\\n | Janata Dal | 3 | 2 years | Vishwanath Pratap Singh,H. D. Deve GowdaandInder Kumar Gujral | NF(1989–1990)UF(1996–1998)\",\n",
       "  'score': 0.8886914},\n",
       " {'title': 'List of all Prime Ministers of India (1947-2025) - Jagran Josh',\n",
       "  'url': 'https://www.jagranjosh.com/general-knowledge/list-of-all-prime-ministers-of-india-1473165149-1',\n",
       "  'content': \"Currently, Narendra Modi is the Prime Minister of India, having been in office since 2014. He is the 14th Prime Minister of India who had three consecutive terms on the post.\\xa0He took the Prime Minister's Oath on June 9, 2024.\\n\\nThis article provides a complete list of all the Prime Ministers of India from 1947 to 2025, along with their contributions to the country’s growth. The list reflects India's democratic resilience and its leaders' varied contributions to the nation's progress. [...] India has been governed by 14 prime ministers over the years. Currently,\\xa0Narendra Modi is serving his third term as Prime Minister in 2024, continuing his leadership journey that started in 2014.\\n\\nKnown for major reforms like GST, Make in India, and Swachh Bharat, Modi's tenure also included bold actions like Article 370’s revocation and digital advancements.\\n\\nHere is the List of Prime Ministers of India from 1947-2025: [...] 17 | Narendra Modi (born 1950) | 26 May 2014 | May 30, 2019 | 10 years, 192 days | Bharatiya Janata Party (NDA)\\nMay 30, 2019 | June 9, 2024\\nJune 9, 2024 | Incumbent\\nList of all the Prime Ministers of India: Important Points\",\n",
       "  'score': 0.8660535},\n",
       " {'title': \"PM Sangrahlaya - a Tribute to India's Prime Ministers\",\n",
       "  'url': 'https://www.pmsangrahalaya.gov.in/prime-ministers-of-india',\n",
       "  'content': 'Shri Narendra Modi is the current and the fourth longest-serving Prime Minister of India. He served as the Chief Minister of Gujarat for 14 years and was',\n",
       "  'score': 0.83710164},\n",
       " {'title': 'Know the PM | Prime Minister of India',\n",
       "  'url': 'https://www.pmindia.gov.in/en/pms-profile/',\n",
       "  'content': 'PMINDIA\\n\\nKnow the PM\\n\\n\\n\\nShri Narendra Modi was sworn-in as India’s Prime Minister for the third time on 9th June 2024, following another decisive victory in the 2024 Parliamentary elections. This victory marked the third consecutive term for Shri Modi, further solidifying his leadership. [...] The first ever Prime Minister to be born after Independence, Shri Modi has previously served as the Prime Minister of India from 2014 to 2019, and from 2019 to 2024. He also has the distinction of being the longest serving Chief Minister of Gujarat with his term spanning from October 2001 to May 2014. [...] Leading international agencies have noted that under the leadership of PM Narendra Modi, India has been eliminating poverty at record pace. According to the findings from NITI Aayog’s latest report ‘Multidimensional Poverty in India since 2005-06’, almost 25 crore people escaped multidimensional poverty in last nine years. The credit for this remarkable achievement goes to significant initiatives of the government to address all dimensions of poverty.',\n",
       "  'score': 0.82425016},\n",
       " {'title': 'Prime Minister of India',\n",
       "  'url': 'http://www.pmindia.gov.in/en/',\n",
       "  'content': \"Shri Narendra Modi was sworn-in as India’s Prime Minister for the third time on 9th June 2024, following another decisive victory in the 2024 Parliamentary elections. This victory marked the third consecutive term for Shri Modi, further solidifying his leadership. [...] Know the PM\\n\\nDynamic, dedicated and determined, Narendra Modi arrives as a ray of hope in the lives of a billion Indians.\\n\\nFormer Prime Ministers\\n\\nPM's Profile [...] The Prime Minister Shri Narendra Modi attended the Defence Investiture Ceremony-2025 (Phase-1) in Rashtrapati Bhavan, New Delhi today, where Gallantry Awards were presented.\\n\\nPM to inaugurate Rising North East Investors Summit on 23rd May in New Delhi\\n\\nFocus sectors: Tourism, Agro-Food Processing, Textiles, Information Technology, Infrastructure, Energy, Entertainment and Sports\\n\\nGovernance Track Record\",\n",
       "  'score': 0.7327644}]"
      ]
     },
     "execution_count": 11,
     "metadata": {},
     "output_type": "execute_result"
    }
   ],
   "source": [
    "search.invoke(\"who is a current PM in india?\")"
   ]
  },
  {
   "cell_type": "code",
   "execution_count": 12,
   "id": "bb1c30a3",
   "metadata": {},
   "outputs": [
    {
     "data": {
      "text/plain": [
       "AIMessage(content='', additional_kwargs={'tool_calls': [{'id': 'call_kghp', 'function': {'arguments': '{\"query\":\"current pm of Japan\"}', 'name': 'search'}, 'type': 'function'}]}, response_metadata={'token_usage': {'completion_tokens': 16, 'prompt_tokens': 271, 'total_tokens': 287, 'completion_time': 0.021333333, 'prompt_time': 0.011844047, 'queue_time': 0.544560253, 'total_time': 0.03317738}, 'model_name': 'llama-3.1-8b-instant', 'system_fingerprint': 'fp_a4265e44d5', 'finish_reason': 'tool_calls', 'logprobs': None}, id='run--58294d89-62c2-46d0-a7e6-0e4410722d36-0', tool_calls=[{'name': 'search', 'args': {'query': 'current pm of Japan'}, 'id': 'call_kghp', 'type': 'tool_call'}], usage_metadata={'input_tokens': 271, 'output_tokens': 16, 'total_tokens': 287})"
      ]
     },
     "execution_count": 12,
     "metadata": {},
     "output_type": "execute_result"
    }
   ],
   "source": [
    "tools = [search,multiply]\n",
    "model_with_tools = groq_model.bind_tools(tools)\n",
    "model_with_tools.invoke(\"who is the pm of Japan\")"
   ]
  },
  {
   "cell_type": "code",
   "execution_count": 29,
   "id": "b036acb5",
   "metadata": {},
   "outputs": [],
   "source": [
    "def invoke_model(state:AgentState):\n",
    "    message = state['messages']\n",
    "    question = message[-1]\n",
    "    response = model_with_tools.invoke(question)\n",
    "    return {\"messages\":[response]}"
   ]
  },
  {
   "cell_type": "code",
   "execution_count": 33,
   "id": "8adf3f89",
   "metadata": {},
   "outputs": [],
   "source": [
    "def invoke_tool(state:AgentState):\n",
    "    tool_details = state[\"messages\"][-1].additional_kwargs.get(\"tool_calls\",[])[0]\n",
    "    \n",
    "    if tool_details is None:\n",
    "        raise Exception(\"no tool call found\")\n",
    "    \n",
    "    print(f'Selected tool : {tool_details['function']['name']}')\n",
    "    \n",
    "    if tool_details.get(\"function\").get(\"name\") == \"search\":\n",
    "        response = input(prompt = f\"f[y/n] continue with expensive web search?\")\n",
    "        if response ==\"n\":\n",
    "             raise Exception(\"web search discard\")\n",
    "        \n",
    "    response = tool_mapping[tool_details['function']['name']].invoke(json.loads(tool_details.get(\"function\").get(\"arguments\")))\n",
    "    return {\"messages\" : [response]}"
   ]
  },
  {
   "cell_type": "code",
   "execution_count": 15,
   "id": "0dbed1ed",
   "metadata": {},
   "outputs": [],
   "source": [
    "def router(state:AgentState):\n",
    "    tool_calls = state['messages'][-1].additional_kwargs.get(\"tool_calls\", [])\n",
    "    if len(tool_calls):\n",
    "        return \"tool\"\n",
    "    else:\n",
    "        return \"end\""
   ]
  },
  {
   "cell_type": "code",
   "execution_count": 16,
   "id": "e31fb42e",
   "metadata": {},
   "outputs": [
    {
     "data": {
      "text/plain": [
       "{'search': StructuredTool(name='search', description='perform the web search on the user query', args_schema=<class 'langchain_core.utils.pydantic.search'>, func=<function search at 0x32e85bb00>),\n",
       " 'multiply': StructuredTool(name='multiply', description='multiply two numbers', args_schema=<class 'langchain_core.utils.pydantic.multiply'>, func=<function multiply at 0x32e8fd260>)}"
      ]
     },
     "execution_count": 16,
     "metadata": {},
     "output_type": "execute_result"
    }
   ],
   "source": [
    "tool_mapping = {tool.name : tool for tool in tools}\n",
    "tool_mapping"
   ]
  },
  {
   "cell_type": "code",
   "execution_count": 99,
   "id": "d81142ce",
   "metadata": {},
   "outputs": [
    {
     "data": {
      "text/plain": [
       "AIMessage(content='', additional_kwargs={'tool_calls': [{'id': 'call_3zmv', 'function': {'arguments': '{\"query\":\"current president of UK\"}', 'name': 'search'}, 'type': 'function'}]}, response_metadata={'token_usage': {'completion_tokens': 17, 'prompt_tokens': 543, 'total_tokens': 560, 'completion_time': 0.022666667, 'prompt_time': 0.05517674, 'queue_time': -0.08028452, 'total_time': 0.077843407}, 'model_name': 'llama-3.1-8b-instant', 'system_fingerprint': 'fp_a4265e44d5', 'finish_reason': 'tool_calls', 'logprobs': None}, id='run--f55064a3-6535-4d5a-906e-db028c6eb8d0-0', tool_calls=[{'name': 'search', 'args': {'query': 'current president of UK'}, 'id': 'call_3zmv', 'type': 'tool_call'}], usage_metadata={'input_tokens': 543, 'output_tokens': 17, 'total_tokens': 560})"
      ]
     },
     "execution_count": 99,
     "metadata": {},
     "output_type": "execute_result"
    }
   ],
   "source": [
    "response = model_with_tools.invoke(\"who is the current president of UK\")\n",
    "response"
   ]
  },
  {
   "cell_type": "code",
   "execution_count": 100,
   "id": "22b31356",
   "metadata": {},
   "outputs": [
    {
     "name": "stdout",
     "output_type": "stream",
     "text": [
      "{\"query\":\"current president of UK\"}\n",
      "{'query': 'current president of UK'}\n",
      "search\n"
     ]
    }
   ],
   "source": [
    "tool_details = response.additional_kwargs['tool_calls']\n",
    "print(tool_details[0]['function']['arguments'])\n",
    "print(json.loads(tool_details[0]['function']['arguments']))\n",
    "print(tool_details[0]['function']['name'])"
   ]
  },
  {
   "cell_type": "code",
   "execution_count": 101,
   "id": "917ffda3",
   "metadata": {},
   "outputs": [
    {
     "data": {
      "text/plain": [
       "{'id': 'call_3zmv',\n",
       " 'function': {'arguments': '{\"query\":\"current president of UK\"}',\n",
       "  'name': 'search'},\n",
       " 'type': 'function'}"
      ]
     },
     "execution_count": 101,
     "metadata": {},
     "output_type": "execute_result"
    }
   ],
   "source": [
    "response.additional_kwargs.get(\"tool_calls\",[])[0]"
   ]
  },
  {
   "cell_type": "code",
   "execution_count": 102,
   "id": "f72c8333",
   "metadata": {},
   "outputs": [
    {
     "data": {
      "text/plain": [
       "StructuredTool(name='search', description='perform the web search on the user query', args_schema=<class 'langchain_core.utils.pydantic.search'>, func=<function search at 0x32ed43ba0>)"
      ]
     },
     "execution_count": 102,
     "metadata": {},
     "output_type": "execute_result"
    }
   ],
   "source": [
    "tool_mapping[tool_details[0]['function']['name']]"
   ]
  },
  {
   "cell_type": "code",
   "execution_count": 34,
   "id": "a02ff35f",
   "metadata": {},
   "outputs": [
    {
     "data": {
      "text/plain": [
       "<langgraph.graph.state.StateGraph at 0x1716a2630>"
      ]
     },
     "execution_count": 34,
     "metadata": {},
     "output_type": "execute_result"
    }
   ],
   "source": [
    "graph = StateGraph(AgentState)\n",
    "graph.add_node(\"ai_assistant\",invoke_model)\n",
    "graph.add_node(\"tool\",invoke_tool)\n",
    "graph.add_conditional_edges(\"ai_assistant\",\n",
    "                        router,\n",
    "                        {\n",
    "                            \"tool\":\"tool\",\n",
    "                            \"end\" : END\n",
    "                        })"
   ]
  },
  {
   "cell_type": "code",
   "execution_count": 26,
   "id": "6c3a2a90",
   "metadata": {},
   "outputs": [],
   "source": [
    "from IPython.display import Image, display"
   ]
  },
  {
   "cell_type": "code",
   "execution_count": 35,
   "id": "4109ebcc",
   "metadata": {},
   "outputs": [],
   "source": [
    "graph.add_edge(\"tool\",END)\n",
    "graph.set_entry_point(\"ai_assistant\")\n",
    "app = graph.compile()\n",
    "#display(Image(app.get_graph().draw_mermaid_png()))"
   ]
  },
  {
   "cell_type": "code",
   "execution_count": 36,
   "id": "51946d89",
   "metadata": {},
   "outputs": [
    {
     "name": "stdout",
     "output_type": "stream",
     "text": [
      "Selected tool : search\n"
     ]
    },
    {
     "data": {
      "text/plain": [
       "{'messages': ['who is the PM of India',\n",
       "  AIMessage(content='', additional_kwargs={'tool_calls': [{'id': 'call_8cdc', 'function': {'arguments': '{\"query\":\"India PM\"}', 'name': 'search'}, 'type': 'function'}]}, response_metadata={'token_usage': {'completion_tokens': 14, 'prompt_tokens': 271, 'total_tokens': 285, 'completion_time': 0.020370589, 'prompt_time': 0.013852687, 'queue_time': 0.098946043, 'total_time': 0.034223276}, 'model_name': 'llama-3.1-8b-instant', 'system_fingerprint': 'fp_f7bd09b454', 'finish_reason': 'tool_calls', 'logprobs': None}, id='run--1585ce8c-a5f5-42f6-88f4-314387fa9f8b-0', tool_calls=[{'name': 'search', 'args': {'query': 'India PM'}, 'id': 'call_8cdc', 'type': 'tool_call'}], usage_metadata={'input_tokens': 271, 'output_tokens': 14, 'total_tokens': 285}),\n",
       "  [{'title': 'Prime Minister of India - Wikipedia',\n",
       "    'url': 'https://en.wikipedia.org/wiki/Prime_Minister_of_India',\n",
       "    'content': \"The prime minister of India (ISO: Bhārata kē Pradhānamantrī) is the head of government[2] of the Republic of India. Executive authority is vested in the prime minister and his chosen Council of Ministers,[3][4][5] despite the president of India being the nominal head of the executive.[6][7][8][9] The prime minister has to be a member of one of the houses of bicameral Parliament of India, alongside heading the respective house.[10] The prime minister and the cabinet are at all times responsible [...] Rao, Atal Bihari Vajpayee, Manmohan Singh, and Narendra Modi. Modi is the current prime minister of India, serving since 26 May 2014 and the first to win three consecutive elections to secure a third successive term, 2014, 2019, 2024. [...] From Wikipedia, the free encyclopedia\\nHead of government of India\\nFor a list of prime ministers, see List of prime ministers of India.\\n| Prime Minister of India |\\n| --- |\\n| Bhārata kē Pradhānamantrī |\\n|  Logo of the Prime Minister of India |\\n|  Flag of India |\\n|  Incumbent Narendra Modi since 26 May 2014 |\\n| Prime Minister's Office Union Council of Ministers Executive branch of the Indian Government |\\n| Style | * The Honourable * Mr. Prime Minister (informal) * His Excellency (diplomatic) |\",\n",
       "    'score': 0.8708723},\n",
       "   {'title': 'Narendra Modi - Wikipedia',\n",
       "    'url': 'https://en.wikipedia.org/wiki/Narendra_Modi',\n",
       "    'content': 'Narendra Damodardas Modi[a] (born 17 September 1950) is an Indian politician who has served as the prime minister of India since 2014. Modi was the chief minister of Gujarat from 2001 to 2014 and is the member of parliament (MP) for Varanasi. He is a member of the Bharatiya Janata Party (BJP) and of the Rashtriya Swayamsevak Sangh (RSS), a right-wingHindu nationalistparamilitary volunteer organisation. He is the longest-serving prime minister outside the Indian National Congress. [...] From Wikipedia, the free encyclopedia\\nPrime Minister of India since 2014\\n\"Modi\" redirects here. For other uses, see Modi (disambiguation).\\n| Narendra Modi |\\n| --- |\\n|  Official portrait, 2023 |\\n|  |\\n| Prime Minister of India |\\n| Incumbent |\\n| Assumed office 26 May 2014 |\\n| President | Pranab Mukherjee Ram Nath Kovind Droupadi Murmu |\\n| Vice President | Mohammad Hamid Ansari Venkaiah Naidu Jagdeep Dhankhar |\\n| Preceded by | Manmohan Singh | [...] | Born | Narendra Damodardas Modi (1950-09-17) 17 September 1950 (age 74) Vadnagar, Bombay State, India (present-day Gujarat) |\\n| Political party | Bharatiya Janata Party |\\n| Spouse | Jashodaben Modi \\u200b \\u200b (m.1968; sep.1971)\\u200b [2] |\\n| Residence | 7, Lok Kalyan Marg, New Delhi |\\n| Alma mater | * Delhi University (BA) * Gujarat University (MA) |\\n| Awards | List of awards and honours |\\n| Signature |  |\\n| Website | * Personal * PM India official |',\n",
       "    'score': 0.82728493},\n",
       "   {'title': 'PM participates in the Sufi music festival, Jahan-e-Khusro 2025',\n",
       "    'url': 'https://www.pmindia.gov.in/en//',\n",
       "    'content': 'Shri Narendra Modi was sworn-in as India’s Prime Minister for the third time on 9th June 2024, following another decisive victory in the 2024 Parliamentary elections. This victory marked the third consecutive term for Shri Modi, further solidifying his leadership.',\n",
       "    'score': 0.76173395},\n",
       "   {'title': \"PM Sangrahlaya - a Tribute to India's Prime Ministers\",\n",
       "    'url': 'https://www.pmsangrahalaya.gov.in/prime-ministers-of-india',\n",
       "    'content': 'Shri Atal Bihari Vajpayee served as Prime Minister of India for 13 days in 1996 and two incomplete terms from 1998 to 2004. He is known for his valuable',\n",
       "    'score': 0.685971}]]}"
      ]
     },
     "execution_count": 36,
     "metadata": {},
     "output_type": "execute_result"
    }
   ],
   "source": [
    "app.invoke({\"messages\":[\"who is the PM of India\"]})"
   ]
  },
  {
   "cell_type": "code",
   "execution_count": 37,
   "id": "43e5d37f",
   "metadata": {},
   "outputs": [
    {
     "name": "stdout",
     "output_type": "stream",
     "text": [
      "Selected tool : multiply\n"
     ]
    },
    {
     "data": {
      "text/plain": [
       "{'messages': ['multiply 5 and 8',\n",
       "  AIMessage(content='', additional_kwargs={'tool_calls': [{'id': 'call_mmeh', 'function': {'arguments': '{\"a\":5,\"b\":8}', 'name': 'multiply'}, 'type': 'function'}]}, response_metadata={'token_usage': {'completion_tokens': 19, 'prompt_tokens': 271, 'total_tokens': 290, 'completion_time': 0.033395247, 'prompt_time': 0.02387795, 'queue_time': 0.387927603, 'total_time': 0.057273197}, 'model_name': 'llama-3.1-8b-instant', 'system_fingerprint': 'fp_f7bd09b454', 'finish_reason': 'tool_calls', 'logprobs': None}, id='run--6936ff56-9007-409a-8a36-fa8be0c6dbd3-0', tool_calls=[{'name': 'multiply', 'args': {'a': 5, 'b': 8}, 'id': 'call_mmeh', 'type': 'tool_call'}], usage_metadata={'input_tokens': 271, 'output_tokens': 19, 'total_tokens': 290}),\n",
       "  13]}"
      ]
     },
     "execution_count": 37,
     "metadata": {},
     "output_type": "execute_result"
    }
   ],
   "source": [
    "app.invoke({\"messages\":[\"multiply 5 and 8\"]})"
   ]
  },
  {
   "cell_type": "markdown",
   "id": "7c941edf",
   "metadata": {},
   "source": [
    "#### LangGraph functionality - human in loop"
   ]
  },
  {
   "cell_type": "code",
   "execution_count": 38,
   "id": "63447fcb",
   "metadata": {},
   "outputs": [],
   "source": [
    "tavily = TavilySearchResults()\n",
    "tools = [tavily]\n",
    "llm_with_tools = groq_model.bind_tools(tools)"
   ]
  },
  {
   "cell_type": "code",
   "execution_count": 39,
   "id": "1909b9e1",
   "metadata": {},
   "outputs": [],
   "source": [
    "def ai_assistant(state: AgentState):\n",
    "    return {\"messages\": [llm_with_tools.invoke(state[\"messages\"])]}"
   ]
  },
  {
   "cell_type": "code",
   "execution_count": 40,
   "id": "2cd513e4",
   "metadata": {},
   "outputs": [
    {
     "data": {
      "text/plain": [
       "<langgraph.graph.state.StateGraph at 0x17169a8d0>"
      ]
     },
     "execution_count": 40,
     "metadata": {},
     "output_type": "execute_result"
    }
   ],
   "source": [
    "graph_builder = StateGraph(AgentState)\n",
    "tool_node = ToolNode(tools=tools)\n",
    "\n",
    "graph_builder.add_node(\"ai_assistant\", ai_assistant)\n",
    "graph_builder.add_node(\"tools\", tool_node)\n",
    "\n",
    "graph_builder.add_edge(START, \"ai_assistant\")\n",
    "graph_builder.add_conditional_edges(\n",
    "    \"ai_assistant\",\n",
    "    tools_condition,\n",
    ")\n",
    "graph_builder.add_edge(\"tools\", \"ai_assistant\")"
   ]
  },
  {
   "cell_type": "code",
   "execution_count": 41,
   "id": "51e373f6",
   "metadata": {},
   "outputs": [],
   "source": [
    "memory=MemorySaver()"
   ]
  },
  {
   "cell_type": "code",
   "execution_count": 42,
   "id": "a755cdb7",
   "metadata": {},
   "outputs": [
    {
     "data": {
      "image/png": "[encoded data removed]",
      "text/plain": [
       "<IPython.core.display.Image object>"
      ]
     },
     "metadata": {},
     "output_type": "display_data"
    }
   ],
   "source": [
    "app2=graph_builder.compile(\n",
    "    checkpointer=memory,\n",
    "    interrupt_before=[\"tools\"]\n",
    ")\n",
    "\n",
    "display(Image(app2.get_graph().draw_mermaid_png()))"
   ]
  },
  {
   "cell_type": "code",
   "execution_count": 43,
   "id": "00362e1a",
   "metadata": {},
   "outputs": [],
   "source": [
    "user_input = \"what is current a capital of india?\"\n",
    "config = {\"configurable\": {\"thread_id\": \"1\"}}"
   ]
  },
  {
   "cell_type": "code",
   "execution_count": 44,
   "id": "631968ed",
   "metadata": {},
   "outputs": [],
   "source": [
    "events = app2.stream(\n",
    "    {\"messages\": [(\"user\", user_input)]}, config, stream_mode=\"values\"\n",
    ")"
   ]
  },
  {
   "cell_type": "code",
   "execution_count": 45,
   "id": "a08e2466",
   "metadata": {},
   "outputs": [
    {
     "name": "stdout",
     "output_type": "stream",
     "text": [
      "{'messages': [('user', 'what is current a capital of india?')]}\n",
      "{'messages': [('user', 'what is current a capital of india?'), AIMessage(content='<function=tavily_search_results_json>{\"query\": \"Current capital of India\"}<function>', additional_kwargs={}, response_metadata={'token_usage': {'completion_tokens': 21, 'prompt_tokens': 571, 'total_tokens': 592, 'completion_time': 0.028, 'prompt_time': 0.024757936, 'queue_time': -0.052453823999999996, 'total_time': 0.052757936}, 'model_name': 'llama-3.1-8b-instant', 'system_fingerprint': 'fp_a4265e44d5', 'finish_reason': 'stop', 'logprobs': None}, id='run--9f30b2f4-330a-48da-b5b0-2ac94166467e-0', usage_metadata={'input_tokens': 571, 'output_tokens': 21, 'total_tokens': 592})]}\n"
     ]
    }
   ],
   "source": [
    "for event in events:\n",
    "    print(event)"
   ]
  },
  {
   "cell_type": "code",
   "execution_count": 46,
   "id": "88386008",
   "metadata": {},
   "outputs": [
    {
     "data": {
      "text/plain": [
       "StateSnapshot(values={'messages': [['user', 'what is current a capital of india?'], AIMessage(content='<function=tavily_search_results_json>{\"query\": \"Current capital of India\"}<function>', additional_kwargs={}, response_metadata={'token_usage': {'completion_tokens': 21, 'prompt_tokens': 571, 'total_tokens': 592, 'completion_time': 0.028, 'prompt_time': 0.024757936, 'queue_time': -0.052453823999999996, 'total_time': 0.052757936}, 'model_name': 'llama-3.1-8b-instant', 'system_fingerprint': 'fp_a4265e44d5', 'finish_reason': 'stop', 'logprobs': None}, id='run--9f30b2f4-330a-48da-b5b0-2ac94166467e-0', usage_metadata={'input_tokens': 571, 'output_tokens': 21, 'total_tokens': 592})]}, next=(), config={'configurable': {'thread_id': '1', 'checkpoint_ns': '', 'checkpoint_id': '1f037d63-fc2d-6352-8001-0c68a79e9e34'}}, metadata={'source': 'loop', 'writes': {'ai_assistant': {'messages': [AIMessage(content='<function=tavily_search_results_json>{\"query\": \"Current capital of India\"}<function>', additional_kwargs={}, response_metadata={'token_usage': {'completion_tokens': 21, 'prompt_tokens': 571, 'total_tokens': 592, 'completion_time': 0.028, 'prompt_time': 0.024757936, 'queue_time': -0.052453823999999996, 'total_time': 0.052757936}, 'model_name': 'llama-3.1-8b-instant', 'system_fingerprint': 'fp_a4265e44d5', 'finish_reason': 'stop', 'logprobs': None}, id='run--9f30b2f4-330a-48da-b5b0-2ac94166467e-0', usage_metadata={'input_tokens': 571, 'output_tokens': 21, 'total_tokens': 592})]}}, 'step': 1, 'parents': {}, 'thread_id': '1'}, created_at='2025-05-23T13:02:58.074648+00:00', parent_config={'configurable': {'thread_id': '1', 'checkpoint_ns': '', 'checkpoint_id': '1f037d5e-5732-6b86-8000-b8db30b2eef9'}}, tasks=(), interrupts=())"
      ]
     },
     "execution_count": 46,
     "metadata": {},
     "output_type": "execute_result"
    }
   ],
   "source": [
    "snapshot = app2.get_state(config)\n",
    "snapshot"
   ]
  },
  {
   "cell_type": "code",
   "execution_count": 48,
   "id": "10e05698",
   "metadata": {},
   "outputs": [
    {
     "data": {
      "text/plain": [
       "()"
      ]
     },
     "execution_count": 48,
     "metadata": {},
     "output_type": "execute_result"
    }
   ],
   "source": [
    "snapshot.next"
   ]
  },
  {
   "cell_type": "code",
   "execution_count": 50,
   "id": "0511807f",
   "metadata": {},
   "outputs": [],
   "source": [
    "events = app2.stream(\n",
    "    None, config, stream_mode=\"values\"\n",
    ")"
   ]
  },
  {
   "cell_type": "code",
   "execution_count": 51,
   "id": "adda117f",
   "metadata": {},
   "outputs": [
    {
     "name": "stdout",
     "output_type": "stream",
     "text": [
      "==================================\u001b[1m Ai Message \u001b[0m==================================\n",
      "\n",
      "<function=tavily_search_results_json>{\"query\": \"Current capital of India\"}<function>\n"
     ]
    }
   ],
   "source": [
    "for event in events:\n",
    "    if \"messages\" in event:\n",
    "        event[\"messages\"][-1].pretty_print()"
   ]
  },
  {
   "cell_type": "code",
   "execution_count": null,
   "id": "97bb997e",
   "metadata": {},
   "outputs": [],
   "source": []
  }
 ],
 "metadata": {
  "kernelspec": {
   "display_name": "Python 3",
   "language": "python",
   "name": "python3"
  },
  "language_info": {
   "codemirror_mode": {
    "name": "ipython",
    "version": 3
   },
   "file_extension": ".py",
   "mimetype": "text/x-python",
   "name": "python",
   "nbconvert_exporter": "python",
   "pygments_lexer": "ipython3",
   "version": "3.12.7"
  }
 },
 "nbformat": 4,
 "nbformat_minor": 5
}
