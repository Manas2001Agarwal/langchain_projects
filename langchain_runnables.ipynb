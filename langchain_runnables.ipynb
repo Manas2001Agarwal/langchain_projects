{
 "cells": [
  {
   "cell_type": "code",
   "execution_count": 2,
   "id": "eed104a1",
   "metadata": {},
   "outputs": [
    {
     "data": {
      "text/plain": [
       "True"
      ]
     },
     "execution_count": 2,
     "metadata": {},
     "output_type": "execute_result"
    }
   ],
   "source": [
    "from dotenv import load_dotenv\n",
    "load_dotenv()"
   ]
  },
  {
   "cell_type": "code",
   "execution_count": 3,
   "id": "f12e511b",
   "metadata": {},
   "outputs": [
    {
     "data": {
      "text/plain": [
       "AIMessage(content='The capital of the United States of America (USA) is Washington, D.C. (short for District of Columbia).', additional_kwargs={}, response_metadata={'token_usage': {'completion_tokens': 25, 'prompt_tokens': 40, 'total_tokens': 65, 'completion_time': 0.033333333, 'prompt_time': 0.003731155, 'queue_time': 0.40697916500000003, 'total_time': 0.037064488}, 'model_name': 'llama-3.1-8b-instant', 'system_fingerprint': 'fp_f7bd09b454', 'finish_reason': 'stop', 'logprobs': None}, id='run--333163dc-004f-4188-8473-017a5628a0b7-0', usage_metadata={'input_tokens': 40, 'output_tokens': 25, 'total_tokens': 65})"
      ]
     },
     "execution_count": 3,
     "metadata": {},
     "output_type": "execute_result"
    }
   ],
   "source": [
    "from langchain_groq import ChatGroq\n",
    "groq_model=ChatGroq(model=\"llama-3.1-8b-instant\")\n",
    "groq_model.invoke(\"what is capital of USA\")"
   ]
  },
  {
   "cell_type": "code",
   "execution_count": 4,
   "id": "3078b9fb",
   "metadata": {},
   "outputs": [
    {
     "data": {
      "text/plain": [
       "AIMessage(content='New Delhi.', additional_kwargs={}, response_metadata={'token_usage': {'completion_tokens': 4, 'prompt_tokens': 45, 'total_tokens': 49, 'completion_time': 0.005333333, 'prompt_time': 0.003619136, 'queue_time': 0.42789258399999996, 'total_time': 0.008952469}, 'model_name': 'llama-3.1-8b-instant', 'system_fingerprint': 'fp_f7bd09b454', 'finish_reason': 'stop', 'logprobs': None}, id='run--43a78763-9292-46af-9bc0-b3116df00458-0', usage_metadata={'input_tokens': 45, 'output_tokens': 4, 'total_tokens': 49})"
      ]
     },
     "execution_count": 4,
     "metadata": {},
     "output_type": "execute_result"
    }
   ],
   "source": [
    "groq_model.invoke(\"what is capital of India. Give one word answer\")"
   ]
  },
  {
   "cell_type": "code",
   "execution_count": 5,
   "id": "5e295617",
   "metadata": {},
   "outputs": [],
   "source": [
    "from langchain_core.prompts import PromptTemplate\n",
    "from langchain_core.output_parsers import StrOutputParser"
   ]
  },
  {
   "cell_type": "markdown",
   "id": "0b41c93c",
   "metadata": {},
   "source": [
    "Simple_Chain"
   ]
  },
  {
   "cell_type": "code",
   "execution_count": 8,
   "id": "188a4704",
   "metadata": {},
   "outputs": [],
   "source": [
    "prompt = PromptTemplate(\n",
    "    template = \"Give 5 interesting facts about {topic}\",\n",
    "    input_variables = \"topic\"\n",
    ")\n",
    "parser = StrOutputParser()"
   ]
  },
  {
   "cell_type": "code",
   "execution_count": 10,
   "id": "da60f2a5",
   "metadata": {},
   "outputs": [
    {
     "name": "stdout",
     "output_type": "stream",
     "text": [
      "Here are 5 interesting facts about football:\n",
      "\n",
      "1. **The First Football Game**: The first intercollegiate football game was played on November 6, 1869, between Rutgers University and Princeton University. However, this game was more like soccer, with 25 players on each side and a round ball.\n",
      "\n",
      "2. **The Birth of the Forward Pass**: The forward pass was banned in football until 1894, when John Heisman, a renowned football coach, successfully lobbied for its introduction. This allowed teams to throw the ball downfield, revolutionizing the game.\n",
      "\n",
      "3. **The Origins of the Name 'Quarterback'**: The term 'quarterback' originated in the mid-19th century, when players would stand 10-15 yards behind the center. This position was considered the 'quarter' of the field, and the player in this position was the 'quarterback.'\n",
      "\n",
      "4. **The First Touchdown**: The first touchdown in football history was scored in 1869 by Rutgers University's William J. Leggett. The game was played without a scoreboard, but the Rutgers team was declared the winner.\n",
      "\n",
      "5. **The Super Bowl's Original Name**: The Super Bowl was originally called the AFL-NFL World Championship Game. It wasn't until Super Bowl V that the name 'Super Bowl' was officially adopted, reportedly by Lamar Hunt, the owner of the Kansas City Chiefs.\n",
      "\n",
      "These facts highlight the evolution of the game and some of its interesting historical anecdotes.\n"
     ]
    }
   ],
   "source": [
    "simple_chain = prompt | groq_model | parser\n",
    "output_text = simple_chain.invoke({'topic':'football'})\n",
    "print(output_text)"
   ]
  },
  {
   "cell_type": "code",
   "execution_count": 11,
   "id": "3bfee3af",
   "metadata": {},
   "outputs": [
    {
     "name": "stdout",
     "output_type": "stream",
     "text": [
      "Here are five interesting facts about neural networks:\n",
      "\n",
      "1. **Inspiration from the Human Brain**: Neural networks are inspired by the structure and function of the human brain. They are composed of interconnected nodes or \"neurons\" that process and transmit information. This similarity to the brain is the reason they are called \"neural\" networks.\n",
      "\n",
      "2. **Training with Backpropagation**: One of the key algorithms used to train neural networks is backpropagation. This involves propagating the error backwards through the network, adjusting the weights and biases of each node to minimize the error. This process is repeated multiple times, with the network adjusting its weights and biases until it converges on an optimal solution.\n",
      "\n",
      "3. **The First Neural Network was Created in the 1940s**: The first neural network was created by Warren McCulloch and Walter Pitts in 1943. This network was a simple binary threshold logic network that could learn and adapt to new information. Since then, neural networks have evolved significantly, with the introduction of new algorithms, architectures, and applications.\n",
      "\n",
      "4. **Neural Networks can Learn from Experience**: Neural networks have the ability to learn from experience, a process known as reinforcement learning. This involves training the network on a task, then providing feedback in the form of rewards or penalties. The network uses this feedback to adjust its weights and biases, allowing it to learn and improve over time.\n",
      "\n",
      "5. **Neural Networks can be Used for Self-Driving Cars**: Neural networks are being used in the development of self-driving cars. They are used to process visual data from cameras and sensors, detect obstacles and other vehicles, and make decisions about steering, acceleration, and braking. This is an example of a complex task that requires a combination of computer vision, machine learning, and control systems.\n",
      "\n",
      "These facts demonstrate the power and versatility of neural networks, and highlight some of the exciting applications and possibilities of this technology.\n"
     ]
    }
   ],
   "source": [
    "output_text = simple_chain.invoke({'topic':'Neural Networks'})\n",
    "print(output_text)"
   ]
  },
  {
   "cell_type": "code",
   "execution_count": 13,
   "id": "712a9c02",
   "metadata": {},
   "outputs": [
    {
     "name": "stdout",
     "output_type": "stream",
     "text": [
      "     +-------------+       \n",
      "     | PromptInput |       \n",
      "     +-------------+       \n",
      "            *              \n",
      "            *              \n",
      "            *              \n",
      "    +----------------+     \n",
      "    | PromptTemplate |     \n",
      "    +----------------+     \n",
      "            *              \n",
      "            *              \n",
      "            *              \n",
      "      +----------+         \n",
      "      | ChatGroq |         \n",
      "      +----------+         \n",
      "            *              \n",
      "            *              \n",
      "            *              \n",
      "   +-----------------+     \n",
      "   | StrOutputParser |     \n",
      "   +-----------------+     \n",
      "            *              \n",
      "            *              \n",
      "            *              \n",
      "+-----------------------+  \n",
      "| StrOutputParserOutput |  \n",
      "+-----------------------+  \n"
     ]
    }
   ],
   "source": [
    "simple_chain.get_graph().print_ascii()"
   ]
  },
  {
   "cell_type": "markdown",
   "id": "803f5870",
   "metadata": {},
   "source": [
    "Sequential_Chain"
   ]
  },
  {
   "cell_type": "code",
   "execution_count": 15,
   "id": "7f2c98f2",
   "metadata": {},
   "outputs": [
    {
     "name": "stdout",
     "output_type": "stream",
     "text": [
      "Here's a 5-pointer summary of the content:\n",
      "\n",
      "1. **Cricket History and Popularity**: Cricket is a team sport with a rich history dating back to the 16th century, played globally with international tournaments and leagues drawing massive audiences.\n",
      "\n",
      "2. **Types of Cricket**: There are several formats of cricket including Test Cricket, One-Day Internationals (ODIs), Twenty20 (T20), and First-Class Cricket, each with its unique rules and gameplay.\n",
      "\n",
      "3. **Cricket Equipment and Rules**: The game requires specific equipment such as bats, balls, protective gear, and wickets. The rules of cricket include scoring runs, ways of getting out, and the game is played between two teams with eleven players each.\n",
      "\n",
      "4. **Notable Cricket Tournaments**: The sport has several prestigious tournaments including the ICC World Cup, Indian Premier League (IPL), Big Bash League (BBL), Pakistan Super League (PSL), and The Ashes.\n",
      "\n",
      "5. **Famous Cricketers**: Cricket has produced many legendary players like Sir Donald Bradman, Sir Garfield Sobers, Sachin Tendulkar, Brian Lara, and Shane Warne, who are considered among the greatest cricketers of all time.\n"
     ]
    }
   ],
   "source": [
    "prompt1 = PromptTemplate(\n",
    "    template = \"Generate a detailed report on the {topic}\",\n",
    "    input_variables = \"topic\"\n",
    ")\n",
    "prompt2 = PromptTemplate(\n",
    "    template = \"Give 5 pointer summary from the following texts {text}\",\n",
    "    input_variables = \"text\"\n",
    ")\n",
    "\n",
    "chain = prompt1 | groq_model | prompt2 | groq_model | parser\n",
    "print(chain.invoke({\"topic\":\"cricket\"}))"
   ]
  },
  {
   "cell_type": "code",
   "execution_count": 16,
   "id": "8887bd37",
   "metadata": {},
   "outputs": [
    {
     "name": "stdout",
     "output_type": "stream",
     "text": [
      "     +-------------+       \n",
      "     | PromptInput |       \n",
      "     +-------------+       \n",
      "            *              \n",
      "            *              \n",
      "            *              \n",
      "    +----------------+     \n",
      "    | PromptTemplate |     \n",
      "    +----------------+     \n",
      "            *              \n",
      "            *              \n",
      "            *              \n",
      "      +----------+         \n",
      "      | ChatGroq |         \n",
      "      +----------+         \n",
      "            *              \n",
      "            *              \n",
      "            *              \n",
      "    +----------------+     \n",
      "    | PromptTemplate |     \n",
      "    +----------------+     \n",
      "            *              \n",
      "            *              \n",
      "            *              \n",
      "      +----------+         \n",
      "      | ChatGroq |         \n",
      "      +----------+         \n",
      "            *              \n",
      "            *              \n",
      "            *              \n",
      "   +-----------------+     \n",
      "   | StrOutputParser |     \n",
      "   +-----------------+     \n",
      "            *              \n",
      "            *              \n",
      "            *              \n",
      "+-----------------------+  \n",
      "| StrOutputParserOutput |  \n",
      "+-----------------------+  \n"
     ]
    }
   ],
   "source": [
    "chain.get_graph().print_ascii()"
   ]
  },
  {
   "cell_type": "markdown",
   "id": "0b9bc7c6",
   "metadata": {},
   "source": [
    "Parallel Chain"
   ]
  },
  {
   "cell_type": "code",
   "execution_count": 17,
   "id": "7d72747b",
   "metadata": {},
   "outputs": [],
   "source": [
    "prompt1 = PromptTemplate(\n",
    "    template = \"Generate short and simple notes from the following : {text}\",\n",
    "    input_variables = [\"text\"]\n",
    ")\n",
    "\n",
    "prompt2 = PromptTemplate(\n",
    "    template = \"Generate 5 question and answers based on following text {text}\",\n",
    "    input_variables = \"text\"\n",
    ")\n",
    "\n",
    "prompt3 = PromptTemplate(\n",
    "    template = \"Merge the provided notes and quiz into one single document \\n Notes -> \\n {notes} \\n QUIZ -> \\n {quiz}\",\n",
    "    input_variables = \"text\"\n",
    ")"
   ]
  },
  {
   "cell_type": "code",
   "execution_count": 20,
   "id": "12930c51",
   "metadata": {},
   "outputs": [],
   "source": [
    "from langchain.schema.runnable import RunnableParallel ## helps run multiple chains parallely\n",
    "parallel_chain = RunnableParallel({\n",
    "    'notes' : prompt1 | groq_model | parser,\n",
    "    'quiz' : prompt2 | groq_model | parser\n",
    "})"
   ]
  },
  {
   "cell_type": "code",
   "execution_count": 22,
   "id": "02887fb6",
   "metadata": {},
   "outputs": [
    {
     "name": "stdout",
     "output_type": "stream",
     "text": [
      "          +---------------------------+            \n",
      "          | Parallel<notes,quiz>Input |            \n",
      "          +---------------------------+            \n",
      "                ***             ***                \n",
      "              **                   **              \n",
      "            **                       **            \n",
      "+----------------+              +----------------+ \n",
      "| PromptTemplate |              | PromptTemplate | \n",
      "+----------------+              +----------------+ \n",
      "          *                             *          \n",
      "          *                             *          \n",
      "          *                             *          \n",
      "    +----------+                  +----------+     \n",
      "    | ChatGroq |                  | ChatGroq |     \n",
      "    +----------+                  +----------+     \n",
      "          *                             *          \n",
      "          *                             *          \n",
      "          *                             *          \n",
      "+-----------------+            +-----------------+ \n",
      "| StrOutputParser |            | StrOutputParser | \n",
      "+-----------------+            +-----------------+ \n",
      "                ***             ***                \n",
      "                   **         **                   \n",
      "                     **     **                     \n",
      "          +----------------------------+           \n",
      "          | Parallel<notes,quiz>Output |           \n",
      "          +----------------------------+           \n"
     ]
    }
   ],
   "source": [
    "parallel_chain.get_graph().print_ascii()"
   ]
  },
  {
   "cell_type": "code",
   "execution_count": 21,
   "id": "5d0e34db",
   "metadata": {},
   "outputs": [
    {
     "name": "stdout",
     "output_type": "stream",
     "text": [
      "          +---------------------------+            \n",
      "          | Parallel<notes,quiz>Input |            \n",
      "          +---------------------------+            \n",
      "                ***             ***                \n",
      "              **                   **              \n",
      "            **                       **            \n",
      "+----------------+              +----------------+ \n",
      "| PromptTemplate |              | PromptTemplate | \n",
      "+----------------+              +----------------+ \n",
      "          *                             *          \n",
      "          *                             *          \n",
      "          *                             *          \n",
      "    +----------+                  +----------+     \n",
      "    | ChatGroq |                  | ChatGroq |     \n",
      "    +----------+                  +----------+     \n",
      "          *                             *          \n",
      "          *                             *          \n",
      "          *                             *          \n",
      "+-----------------+            +-----------------+ \n",
      "| StrOutputParser |            | StrOutputParser | \n",
      "+-----------------+            +-----------------+ \n",
      "                ***             ***                \n",
      "                   **         **                   \n",
      "                     **     **                     \n",
      "          +----------------------------+           \n",
      "          | Parallel<notes,quiz>Output |           \n",
      "          +----------------------------+           \n",
      "                         *                         \n",
      "                         *                         \n",
      "                         *                         \n",
      "                +----------------+                 \n",
      "                | PromptTemplate |                 \n",
      "                +----------------+                 \n",
      "                         *                         \n",
      "                         *                         \n",
      "                         *                         \n",
      "                   +----------+                    \n",
      "                   | ChatGroq |                    \n",
      "                   +----------+                    \n",
      "                         *                         \n",
      "                         *                         \n",
      "                         *                         \n",
      "                +-----------------+                \n",
      "                | StrOutputParser |                \n",
      "                +-----------------+                \n",
      "                         *                         \n",
      "                         *                         \n",
      "                         *                         \n",
      "            +-----------------------+              \n",
      "            | StrOutputParserOutput |              \n",
      "            +-----------------------+              \n"
     ]
    }
   ],
   "source": [
    "merge_chain = prompt3 | groq_model | parser\n",
    "chain = parallel_chain | merge_chain\n",
    "\n",
    "chain.get_graph().print_ascii()"
   ]
  },
  {
   "cell_type": "code",
   "execution_count": 23,
   "id": "b2fa2b9e",
   "metadata": {},
   "outputs": [
    {
     "name": "stdout",
     "output_type": "stream",
     "text": [
      "**RAG System Evaluation Metrics and Quiz**\n",
      "\n",
      "---\n",
      "\n",
      "**Introduction**\n",
      "\n",
      "RAG (Retrieval-Augmented Generation) systems are designed to generate answers based on the context of a given query. To evaluate the effectiveness of these systems, several metrics can be used. Here are the 5 key metrics for evaluating RAG systems along with a brief quiz to reinforce understanding.\n",
      "\n",
      "**Evaluation Metrics for RAG Systems**\n",
      "\n",
      "1. **Correctness**: The Correctness metric verifies that the generated answer matches the reference answer. This ensures that the system is producing accurate results.\n",
      "\n",
      "2. **Faithfulness**: The Faithfulness metric ensures that the answer accurately reflects the retrieved context, without any distortions or fabrications. This means that the system should produce answers that are true to the information it has been given.\n",
      "\n",
      "3. **Context Relevancy**: Context Relevancy checks the relevance of the retrieved context and the answer to the original query. This ensures that the system retrieves relevant information in response to a user's request.\n",
      "\n",
      "4. **Guideline Adherence**: The Guideline Adherence metric verifies that the predicted answer follows established guidelines and norms, such as stylistic, factual, and ethical standards.\n",
      "\n",
      "5. **Embedding Semantic Similarity**: Embedding Semantic Similarity compares the generated and reference answers for semantic similarity by calculating a similarity score between their embeddings. This helps estimate the closeness of the generated response to a reference in terms of semantic content.\n",
      "\n",
      "**Quiz**\n",
      "\n",
      "Here are 5 questions and answers based on the evaluation metrics for RAG systems:\n",
      "\n",
      "**Q1: What does the Correctness metric in RAG systems evaluate?**\n",
      "A1: The Correctness metric in RAG systems evaluates whether the generated answer aligns with a given query's reference answer.\n",
      "\n",
      "**Q2: What is the purpose of the Faithfulness metric in RAG systems?**\n",
      "A2: The Faithfulness metric in RAG systems ensures that the answer accurately reflects the information in the retrieved context, free from distortions or fabrications.\n",
      "\n",
      "**Q3: What is Context Relevancy in RAG systems, and what does it measure?**\n",
      "A3: Context Relevancy in RAG systems measures the relevance of the retrieved context and the resulting answer to the original query, ensuring the system retrieves relevant information to the user's request.\n",
      "\n",
      "**Q4: What does the Guideline Adherence metric in RAG systems determine?**\n",
      "A4: The Guideline Adherence metric in RAG systems determines if the predicted answer follows established guidelines, including stylistic, factual, and ethical standards.\n",
      "\n",
      "**Q5: What does Embedding Semantic Similarity involve in RAG systems?**\n",
      "A5: Embedding Semantic Similarity in RAG systems involves calculating a similarity score between the generated and reference answers' embeddings to estimate the closeness of the generated response to a reference in terms of semantic content.\n"
     ]
    }
   ],
   "source": [
    "text =\"\"\"\n",
    "Here are five commonly used metrics for evaluating RAG systems:\n",
    "1. Correctness: This metric assesses whether the generated answer aligns with a given query’s reference answer. It requires labels and involves verifying the accuracy of the generated answer by comparing it to a predefined reference answer.\n",
    "2. Faithfulness: This evaluates the integrity of the answer concerning the retrieved contexts. The faithfulness metric ensures that the answer accurately reflects the information in the retrieved context, free from distortions or fabrications that might misrepresent the source material.\n",
    "3. Context Relevancy: This measures the relevance of the retrieved context and the resulting answer to the original query. The goal is to ensure the system retrieves relevant information to the user’s request.\n",
    "4. Guideline Adherence: This metric determines if the predicted answer follows established guidelines. It checks whether the response meets predefined criteria, including stylistic, factual,\n",
    "and ethical standards, ensuring the answer responds to the query and adheres to specific norms.\n",
    "5.Embedding Semantic Similarity: This involves calculating a similarity score between the generated and reference answers’ embeddings. It requires reference labels and helps estimate the closeness of the generated response to a reference in terms of semantic content.\n",
    "\"\"\"\n",
    "print(chain.invoke({\"text\":text}))"
   ]
  },
  {
   "cell_type": "markdown",
   "id": "eb2c0bb9",
   "metadata": {},
   "source": [
    "Conditional Chain"
   ]
  },
  {
   "cell_type": "code",
   "execution_count": 26,
   "id": "ea1fa35a",
   "metadata": {},
   "outputs": [
    {
     "data": {
      "text/plain": [
       "'The sentiment of the feedback is negative. The word \"terrible\" has a strongly negative connotation and indicates that the smartphone is of poor quality or not satisfactory to the user.'"
      ]
     },
     "execution_count": 26,
     "metadata": {},
     "output_type": "execute_result"
    }
   ],
   "source": [
    "prompt1 = PromptTemplate(\n",
    "    template = \"Classify the sentiment of following feedback into positive or negative : {feedback}\",\n",
    "    input_variables = [\"feedback\"]\n",
    ")\n",
    "classifier_chain = prompt1 | groq_model | parser\n",
    "classifier_chain.invoke({\"feedback\":\"this is a terrible smartphone\"})"
   ]
  },
  {
   "cell_type": "code",
   "execution_count": 28,
   "id": "1d54dadf",
   "metadata": {},
   "outputs": [
    {
     "data": {
      "text/plain": [
       "Feedback(sentiment='negative')"
      ]
     },
     "execution_count": 28,
     "metadata": {},
     "output_type": "execute_result"
    }
   ],
   "source": [
    "from langchain_core.output_parsers import PydanticOutputParser\n",
    "from pydantic import BaseModel, Field\n",
    "from typing import Literal\n",
    "\n",
    "class Feedback(BaseModel):\n",
    "    sentiment: Literal['positive','negative'] = Field(description = \"Classify the sentiment of following feedback\")\n",
    "    \n",
    "parser2 = PydanticOutputParser(pydantic_object = Feedback)\n",
    "\n",
    "prompt1 = PromptTemplate(\n",
    "    template = \"Classify the sentiment of following feedback into positive or negative : {feedback} \\n {format_instructions}\",\n",
    "    input_variables = [\"feedback\"],\n",
    "    partial_variables = {'format_instructions':parser2.get_format_instructions()}\n",
    ")\n",
    "\n",
    "classifier_chain = prompt1 | groq_model | parser2\n",
    "classifier_chain.invoke({\"feedback\":\"this is a terrible smartphone\"})"
   ]
  },
  {
   "cell_type": "code",
   "execution_count": 32,
   "id": "06019b11",
   "metadata": {},
   "outputs": [],
   "source": [
    "from langchain.schema.runnable import RunnableBranch, RunnableLambda"
   ]
  },
  {
   "cell_type": "code",
   "execution_count": 36,
   "id": "bf743f59",
   "metadata": {},
   "outputs": [],
   "source": [
    "prompt2 = PromptTemplate(\n",
    "    template='Write an appropriate response to this positive feedback \\n {feedback}',\n",
    "    input_variables=['feedback']\n",
    ")\n",
    "\n",
    "prompt3 = PromptTemplate(\n",
    "    template='Write an appropriate response to this negative feedback \\n {feedback}',\n",
    "    input_variables=['feedback']\n",
    ")"
   ]
  },
  {
   "cell_type": "code",
   "execution_count": 37,
   "id": "07c9fe9c",
   "metadata": {},
   "outputs": [
    {
     "name": "stdout",
     "output_type": "stream",
     "text": [
      "\"I'm so glad to hear that you're satisfied with the experience. Your kind words mean a lot to me, and I'll keep working hard to ensure that I consistently meet and exceed your expectations.\"\n"
     ]
    }
   ],
   "source": [
    "branch_chain = RunnableBranch(\n",
    "    (lambda x:x.sentiment == 'positive', prompt2 | groq_model | parser),\n",
    "    (lambda x:x.sentiment == 'negative', prompt3 | groq_model | parser),\n",
    "    RunnableLambda(lambda x: \"could not find sentiment\")\n",
    ")\n",
    "\n",
    "chain = classifier_chain | branch_chain\n",
    "\n",
    "print(chain.invoke({'feedback': 'This is a beautiful phone'}))"
   ]
  },
  {
   "cell_type": "code",
   "execution_count": 35,
   "id": "e40da19f",
   "metadata": {},
   "outputs": [
    {
     "name": "stdout",
     "output_type": "stream",
     "text": [
      "    +-------------+      \n",
      "    | PromptInput |      \n",
      "    +-------------+      \n",
      "            *            \n",
      "            *            \n",
      "            *            \n",
      "   +----------------+    \n",
      "   | PromptTemplate |    \n",
      "   +----------------+    \n",
      "            *            \n",
      "            *            \n",
      "            *            \n",
      "      +----------+       \n",
      "      | ChatGroq |       \n",
      "      +----------+       \n",
      "            *            \n",
      "            *            \n",
      "            *            \n",
      "+----------------------+ \n",
      "| PydanticOutputParser | \n",
      "+----------------------+ \n",
      "            *            \n",
      "            *            \n",
      "            *            \n",
      "       +--------+        \n",
      "       | Branch |        \n",
      "       +--------+        \n",
      "            *            \n",
      "            *            \n",
      "            *            \n",
      "    +--------------+     \n",
      "    | BranchOutput |     \n",
      "    +--------------+     \n"
     ]
    }
   ],
   "source": [
    "chain.get_graph().print_ascii()"
   ]
  },
  {
   "cell_type": "markdown",
   "id": "e4b13cc6",
   "metadata": {},
   "source": [
    "Understanding_Runnables"
   ]
  },
  {
   "cell_type": "code",
   "execution_count": 49,
   "id": "b73de9e5",
   "metadata": {},
   "outputs": [
    {
     "name": "stdout",
     "output_type": "stream",
     "text": [
      "this is a string check this out ---> 8 + 9\n"
     ]
    }
   ],
   "source": [
    "variable1 = 8\n",
    "variable2 = 9\n",
    "input_dict = {'variable1':variable1,\"variable2\":variable2}\n",
    "str1 = \"this is a string check this out ---> {variable1} + {variable2}\"\n",
    "print(str1.format(**input_dict))"
   ]
  },
  {
   "cell_type": "code",
   "execution_count": 59,
   "id": "a81e89d0",
   "metadata": {},
   "outputs": [],
   "source": [
    "import random \n",
    "\n",
    "class NakliLLM:\n",
    "    def __init__(self):\n",
    "        print(\"llm created\")\n",
    "        \n",
    "    def predict(self,prompt):\n",
    "        response_list = [\n",
    "            \"response_1 - I am a Disco Dancer\",\n",
    "            \"response_2 - Zindagi mera gana\",\n",
    "            \"response_3 - To Jhomo aur nacho aur gao\"\n",
    "        ]\n",
    "        return {\"response\":random.choice(response_list)}\n",
    "    \n",
    "class NakliPromptTemplate:\n",
    "    def __init__(self,template,input_variable):\n",
    "        self.template = template\n",
    "        self.input_variable = input_variable\n",
    "        \n",
    "    def format(self,input_dict):\n",
    "        return self.template.format(**input_dict)\n",
    "\n",
    "class NakliStrOutputParser():\n",
    "    def __init__(self):\n",
    "        pass\n",
    "    \n",
    "    def parse(self,output):\n",
    "        return output['response']"
   ]
  },
  {
   "cell_type": "code",
   "execution_count": 53,
   "id": "8832bda4",
   "metadata": {},
   "outputs": [
    {
     "data": {
      "text/plain": [
       "{'response': 'response_3 - To Jhomo aur nacho aur gao'}"
      ]
     },
     "execution_count": 53,
     "metadata": {},
     "output_type": "execute_result"
    }
   ],
   "source": [
    "llm = NakliLLM()\n",
    "llm.predict(\"this is a sample prompt\")"
   ]
  },
  {
   "cell_type": "code",
   "execution_count": 64,
   "id": "2f9307fa",
   "metadata": {},
   "outputs": [
    {
     "name": "stdout",
     "output_type": "stream",
     "text": [
      "response_2 - Zindagi mera gana\n"
     ]
    }
   ],
   "source": [
    "prompt_template = NakliPromptTemplate(\n",
    "    template = \"This is sample prompt with {placeholder1} and {placeholder2}\",\n",
    "    input_variable = ['placeholder1','placeholder2']\n",
    ")\n",
    "\n",
    "prompt_formatted = prompt_template.format({\n",
    "    \"placeholder1\" : \"1st placeholder\",\n",
    "    \"placeholder2\" : \"2nd placeholder\"\n",
    "})\n",
    "\n",
    "parser = NakliStrOutputParser()\n",
    "\n",
    "output = llm.predict(prompt_formatted)\n",
    "response = parser.parse(output)\n",
    "print(response)"
   ]
  },
  {
   "cell_type": "code",
   "execution_count": 67,
   "id": "8b08ce70",
   "metadata": {},
   "outputs": [],
   "source": [
    "class NakliLLMchain:\n",
    "    \n",
    "    def __init__(self,llm,prompt_template):\n",
    "        self.prompt_template = prompt_template\n",
    "        self.llm = llm\n",
    "        \n",
    "    def run(self,input_dict):\n",
    "        formatted_prompt = self.prompt_template.format(input_dict)\n",
    "        return self.llm.predict(formatted_prompt)\n",
    "    \n",
    "    "
   ]
  },
  {
   "cell_type": "code",
   "execution_count": 70,
   "id": "beb3f73a",
   "metadata": {},
   "outputs": [
    {
     "data": {
      "text/plain": [
       "{'response': 'response_1 - I am a Disco Dancer'}"
      ]
     },
     "execution_count": 70,
     "metadata": {},
     "output_type": "execute_result"
    }
   ],
   "source": [
    "llm_chain = NakliLLMchain(llm,prompt_template)\n",
    "llm_chain.run({\n",
    "    \"placeholder1\" : \"1st placeholder\",\n",
    "    \"placeholder2\" : \"2nd placeholder\"\n",
    "})"
   ]
  },
  {
   "cell_type": "code",
   "execution_count": 74,
   "id": "24043ee3",
   "metadata": {},
   "outputs": [],
   "source": [
    "from abc import ABC, abstractmethod\n",
    "class Runnable(ABC):\n",
    "\n",
    "  @abstractmethod\n",
    "  def invoke(input_data):\n",
    "    pass\n",
    "\n",
    "import random \n",
    "\n",
    "class NakliLLM(Runnable):\n",
    "    def __init__(self):\n",
    "        print(\"llm created\")\n",
    "        \n",
    "    def invoke(self,prompt):\n",
    "        response_list = [\n",
    "            \"response_1 - I am a Disco Dancer\",\n",
    "            \"response_2 - Zindagi mera gana\",\n",
    "            \"response_3 - To Jhomo aur nacho aur gao\"\n",
    "        ]\n",
    "        return {\"response\":random.choice(response_list)}\n",
    "    \n",
    "class NakliPromptTemplate(Runnable):\n",
    "    def __init__(self,template,input_variable):\n",
    "        self.template = template\n",
    "        self.input_variable = input_variable\n",
    "        \n",
    "    def invoke(self,input_dict):\n",
    "        return self.template.format(**input_dict)\n",
    "\n",
    "class NakliStrOutputParser(Runnable):\n",
    "    def __init__(self):\n",
    "        pass\n",
    "    \n",
    "    def invoke(self,output):\n",
    "        return output['response']\n",
    "      \n",
    "class RunnableConnector(Runnable):\n",
    "  \n",
    "  def __init__(self,runnable_list):\n",
    "    self.runnable_list = runnable_list\n",
    "    \n",
    "  def invoke(self,input_data):\n",
    "    for runnable in self.runnable_list:\n",
    "      input_data = runnable.invoke(input_data)\n",
    "      \n",
    "    return input_data"
   ]
  },
  {
   "cell_type": "code",
   "execution_count": 77,
   "id": "96700088",
   "metadata": {},
   "outputs": [
    {
     "name": "stdout",
     "output_type": "stream",
     "text": [
      "llm created\n"
     ]
    },
    {
     "data": {
      "text/plain": [
       "'response_3 - To Jhomo aur nacho aur gao'"
      ]
     },
     "execution_count": 77,
     "metadata": {},
     "output_type": "execute_result"
    }
   ],
   "source": [
    "llm = NakliLLM()\n",
    "\n",
    "prompt_template1 = NakliPromptTemplate(\n",
    "    template = \"This is sample prompt with {placeholder1} and {placeholder2}\",\n",
    "    input_variable = ['placeholder1','placeholder2']\n",
    ")\n",
    "prompt_template2 = NakliPromptTemplate(\n",
    "    template = \"This is sample prompt with {response}\",\n",
    "    input_variable = ['placeholder3']\n",
    ")\n",
    "\n",
    "parser = NakliStrOutputParser()\n",
    "\n",
    "chain = RunnableConnector(runnable_list = [prompt_template1,llm,prompt_template2,llm,parser])\n",
    "chain.invoke({\n",
    "    \"placeholder1\" : \"1st placeholder\",\n",
    "    \"placeholder2\" : \"2nd placeholder\"\n",
    "})"
   ]
  },
  {
   "cell_type": "markdown",
   "id": "d1c5a19c",
   "metadata": {},
   "source": [
    "Runnable Sequence"
   ]
  },
  {
   "cell_type": "code",
   "execution_count": 79,
   "id": "b641930d",
   "metadata": {},
   "outputs": [],
   "source": [
    "from langchain.schema.runnable import RunnableSequence\n",
    "prompt = PromptTemplate(template = \"Write a job about {topic}\",\n",
    "                        input_variables = ['topic'])\n",
    "parser = StrOutputParser()\n",
    "\n",
    "chain = RunnableSequence(prompt,groq_model,parser)"
   ]
  },
  {
   "cell_type": "code",
   "execution_count": 80,
   "id": "c27d9923",
   "metadata": {},
   "outputs": [
    {
     "data": {
      "text/plain": [
       "\"**Job Title:** Artificial Intelligence (AI) Research Scientist\\n\\n**Job Description:**\\n\\nWe are seeking an exceptional Artificial Intelligence (AI) Research Scientist to join our dynamic team. As an AI Research Scientist, you will be responsible for designing, developing, and implementing cutting-edge AI solutions to drive innovation and business growth. You will work closely with cross-functional teams to identify opportunities, develop prototypes, and deploy AI-powered products and services.\\n\\n**Key Responsibilities:**\\n\\n1. **Research and Development:** Conduct thorough research on emerging AI trends, technologies, and methodologies to stay up-to-date with the latest advancements.\\n2. **Design and Development:** Design and develop AI-powered prototypes, models, and algorithms to solve complex business problems.\\n3. **Implementation and Deployment:** Collaborate with software engineers to integrate AI solutions into production-ready code and deploy them in a scalable and maintainable manner.\\n4. **Testing and Evaluation:** Conduct thorough testing and evaluation of AI solutions to ensure their accuracy, reliability, and performance.\\n5. **Collaboration and Communication:** Work closely with stakeholders, including business leaders, product managers, and engineers, to understand business needs, communicate AI capabilities, and provide technical guidance.\\n6. **Knowledge Sharing:** Share knowledge and best practices with the team, contribute to the development of AI-related content, and participate in industry conferences and events.\\n7. **Data Management:** Collect, preprocess, and analyze large datasets to train and validate AI models.\\n8. **Experimentation and Debugging:** Conduct experiments to validate AI model performance, identify issues, and debug problems.\\n\\n**Requirements:**\\n\\n1. **Education:** Master's or Ph.D. in Computer Science, Artificial Intelligence, Machine Learning, or a related field.\\n2. **Experience:** 3+ years of experience in AI research, development, and deployment.\\n3. **Technical Skills:**\\n\\t* Proficiency in programming languages, such as Python, Java, or C++.\\n\\t* Experience with deep learning frameworks, such as TensorFlow, PyTorch, or Keras.\\n\\t* Familiarity with natural language processing (NLP), computer vision, or other AI domains.\\n\\t* Knowledge of cloud platforms, such as AWS or GCP.\\n4. **Soft Skills:**\\n\\t* Excellent communication and collaboration skills.\\n\\t* Strong problem-solving and analytical skills.\\n\\t* Ability to work in a fast-paced environment and adapt to changing priorities.\\n\\n**Nice to Have:**\\n\\n1. **Experience with cloud-based services, such as Google Cloud AI Platform or Microsoft Azure Machine Learning.**\\n2. **Familiarity with containerization, such as Docker or Kubernetes.**\\n3. **Experience with DevOps and CI/CD pipelines.**\\n\\n**What We Offer:**\\n\\n1. **Competitive Salary and Benefits Package.**\\n2. **Opportunities for Professional Growth and Development.**\\n3. **Collaborative and Dynamic Work Environment.**\\n4. **Access to cutting-edge AI technologies and tools.**\\n5. **Recognition and Rewards for outstanding performance.**\\n\\n**How to Apply:**\\n\\nIf you are a motivated and innovative AI Research Scientist looking to join a dynamic team, please submit your application, including your resume, cover letter, and portfolio, to [insert contact information]. We look forward to hearing from you!\""
      ]
     },
     "execution_count": 80,
     "metadata": {},
     "output_type": "execute_result"
    }
   ],
   "source": [
    "chain.invoke({\"topic\":\"AI\"})"
   ]
  },
  {
   "cell_type": "code",
   "execution_count": 81,
   "id": "e5b4693b",
   "metadata": {},
   "outputs": [
    {
     "data": {
      "text/plain": [
       "'The joke in the job posting is in the following sentence:\\n\\n\"Occasional on-site visits\"\\n\\nIt\\'s a humorous observation that the job is \"Remote\" but still requires \"occasional on-site visits\". This is ironic because \"remote\" typically implies that the job can be done entirely from a distance, but the fact that it requires on-site visits suggests that the job may not be as remote as the title suggests. It\\'s a lighthearted commentary on the ambiguity of remote work and the potential for it to be less remote than expected.'"
      ]
     },
     "execution_count": 81,
     "metadata": {},
     "output_type": "execute_result"
    }
   ],
   "source": [
    "from langchain.schema.runnable import RunnableSequence\n",
    "prompt1 = PromptTemplate(template = \"Write a job about {topic}\",\n",
    "                        input_variables = ['topic'])\n",
    "\n",
    "prompt2 = PromptTemplate(template = \"Explain the joke in the following {text}\",\n",
    "                        input_variables = ['text'])\n",
    "\n",
    "parser = StrOutputParser()\n",
    "\n",
    "chain = RunnableSequence(prompt1,groq_model,parser,prompt2,groq_model,parser)\n",
    "chain.invoke({\"topic\":\"AI\"})"
   ]
  },
  {
   "cell_type": "markdown",
   "id": "6dce51e8",
   "metadata": {},
   "source": [
    "RunnableParallel"
   ]
  },
  {
   "cell_type": "code",
   "execution_count": 85,
   "id": "2a17b46a",
   "metadata": {},
   "outputs": [],
   "source": [
    "from langchain.schema.runnable import RunnableSequence\n",
    "prompt1 = PromptTemplate(template = \"Generate a tweet about {topic}\",\n",
    "                        input_variables = ['topic'])\n",
    "\n",
    "prompt2 = PromptTemplate(template = \"Generate a Linkedin Post about {topic}\",\n",
    "                        input_variables = ['topic'])\n",
    "\n",
    "parser = StrOutputParser()\n",
    "\n",
    "chain = RunnableParallel({\n",
    "    \"tweet\" : RunnableSequence(prompt1,groq_model,parser),\n",
    "    \"linkedin_post\" : RunnableSequence(prompt2,groq_model,parser)\n",
    "})\n",
    "\n",
    "result = chain.invoke({'topic':'AI'})"
   ]
  },
  {
   "cell_type": "code",
   "execution_count": 86,
   "id": "9a92a43b",
   "metadata": {},
   "outputs": [
    {
     "name": "stdout",
     "output_type": "stream",
     "text": [
      "{'tweet': '\"As AI continues to evolve, one thing is certain: the future is being written by machines. What impact will the next generation of AI have on our world? #ArtificialIntelligence #FutureOfTech\"', 'linkedin_post': \"**The Future is Here: Harnessing the Power of Artificial Intelligence**\\n\\nAs we continue to navigate the rapidly evolving world of technology, one thing is clear: Artificial Intelligence (AI) is revolutionizing the way we live, work, and interact with one another.\\n\\nFrom intelligent chatbots to predictive analytics, AI is transforming industries and unlocking new opportunities for growth, innovation, and efficiency. But what does this mean for businesses, professionals, and individuals looking to stay ahead of the curve?\\n\\n**The Benefits of AI:**\\n\\n- **Increased Productivity**: AI automates repetitive tasks, freeing up time for more strategic and creative work.\\n- **Improved Decision-Making**: AI-driven insights and predictions enable data-driven decision-making and informed business strategies.\\n- **Enhanced Customer Experience**: AI-powered chatbots and personalization engines deliver tailored experiences that drive customer loyalty and engagement.\\n- **New Revenue Streams**: AI-based products and services create new opportunities for businesses to innovate, disrupt, and monetize.\\n\\n**The Skills of Tomorrow:**\\n\\nAs AI continues to advance, it's essential to develop the skills that will complement and augment this technology. Some of the most in-demand skills in AI include:\\n\\n- **Machine Learning**: Design, develop, and deploy AI models that learn from data and improve over time.\\n- **Data Science**: Collect, analyze, and interpret complex data to inform business decisions and drive growth.\\n- **Cloud Computing**: Leverage cloud-based infrastructure to scale AI applications and ensure seamless integration.\\n- **Cybersecurity**: Protect AI systems and data from emerging threats and vulnerabilities.\\n\\n**Join the Conversation:**\\n\\nAs we navigate the future of AI, I'd love to hear from you: What are your thoughts on the impact of AI on your industry or profession? How are you leveraging AI to drive growth and innovation?\\n\\nLet's connect and explore the possibilities of this exciting technology together!\\n\\n**#ArtificialIntelligence #AI #MachineLearning #DataScience #CloudComputing #Cybersecurity #FutureOfWork #Innovation #Growth**\"}\n"
     ]
    }
   ],
   "source": [
    "print(result)"
   ]
  },
  {
   "cell_type": "markdown",
   "id": "1c0a4d4b",
   "metadata": {},
   "source": [
    "RunnablePassthrough"
   ]
  },
  {
   "cell_type": "code",
   "execution_count": 90,
   "id": "3716cfa5",
   "metadata": {},
   "outputs": [
    {
     "name": "stdout",
     "output_type": "stream",
     "text": [
      "{'joke': '**Job Title: Chicken Farmer**\\n\\n**Location:** Green Acres Farm, rural area\\n\\n**Job Type:** Full-time\\n\\n**About Us:**\\n\\nWe are a family-owned farm dedicated to raising healthy and happy chickens for eggs and meat. Our farm is committed to providing a safe and sustainable environment for our animals, while also ensuring the highest quality products for our customers.\\n\\n**Job Summary:**\\n\\nWe are seeking a reliable and skilled Chicken Farmer to join our team. The successful candidate will be responsible for the daily care and management of our chicken flock, including feeding, watering, and monitoring the health and well-being of the birds. This is a physically demanding role that requires a strong work ethic and a passion for animal care.\\n\\n**Responsibilities:**\\n\\n- Feed, water, and monitor the health and well-being of the chicken flock\\n- Clean and maintain the chicken coops and run areas\\n- Collect eggs from the coops and transport them to the farm office\\n- Monitor the flock for signs of disease or stress and take action to address any issues\\n- Maintain accurate records of chicken health, feed consumption, and egg production\\n- Assist with the breeding and hatching of chicks\\n- Maintain a safe and clean working environment for both humans and animals\\n- Collaborate with other farm staff to achieve farm goals and objectives\\n\\n**Requirements:**\\n\\n- 2+ years of experience in chicken farming or a related field\\n- High school diploma or equivalent required; degree in animal science or a related field preferred\\n- Strong knowledge of chicken health, behavior, and nutrition\\n- Ability to lift 50 pounds and work in a fast-paced environment\\n- Strong communication and problem-solving skills\\n- Ability to work independently and as part of a team\\n- Familiarity with farm equipment and technology, such as feeders and waterers\\n\\n**Preferred Qualifications:**\\n\\n- Experience with organic or free-range chicken farming\\n- Knowledge of regenerative agriculture practices\\n- Certification in animal welfare or a related field\\n- Bilingual or multilingual skills\\n\\n**What We Offer:**\\n\\n- Competitive salary and benefits package\\n- Opportunities for professional growth and development\\n- A supportive and collaborative work environment\\n- The chance to work with a dedicated team of farmers and animal lovers\\n- A chance to be part of a sustainable and socially responsible farming operation\\n\\n**How to Apply:**\\n\\nIf you are a motivated and animal-loving individual who is passionate about sustainable farming practices, please submit your application, including a cover letter and resume, to [insert contact information]. We look forward to hearing from you!', 'explaination': 'The joke in the job title \"Chicken Farmer\" is that it\\'s a straightforward and literal job title, but the humor comes from the fact that it\\'s a job title that you would typically expect to see in a rural or country area, but the job posting itself implies that the workplace is a typical office or corporate environment. \\n\\nThe phrase \"Green Acres Farm, rural area\" in the location section is ironic because it suggests that the farm is in a remote, countryside location, but the job posting itself is written in a formal and corporate tone, suggesting that the workplace is more of a standard office environment. The humor comes from the contrast between the rural setting implied by the job title and the location, and the formal, corporate tone of the job posting itself.\\n\\nThe joke can also be interpreted as a commentary on the modernization of farming and the blurring of lines between traditional rural work and corporate office culture. The job posting itself is written in a way that is typical of corporate job postings, with a focus on \"opportunities for professional growth and development\" and a \"supportive and collaborative work environment.\" This suggests that the farm is trying to present itself as a modern, corporate workplace, which is humorous given the traditional and rural nature of farming.'}\n"
     ]
    }
   ],
   "source": [
    "from langchain.schema.runnable import RunnableSequence, RunnablePassthrough, RunnableParallel\n",
    "\n",
    "from langchain.schema.runnable import RunnableSequence\n",
    "prompt1 = PromptTemplate(template = \"Write a job about {topic}\",\n",
    "                        input_variables = ['topic'])\n",
    "\n",
    "prompt2 = PromptTemplate(template = \"Explain the joke in the following {text}\",\n",
    "                        input_variables = ['text'])\n",
    "\n",
    "parser = StrOutputParser()\n",
    "\n",
    "joke_gen_chain = RunnableSequence(prompt1,groq_model,parser)\n",
    "parallel_chain = RunnableParallel({\n",
    "    'joke' : RunnablePassthrough(),\n",
    "    'explaination': RunnableSequence(prompt2,groq_model,parser)\n",
    "})\n",
    "\n",
    "final_chain = RunnableSequence(joke_gen_chain,parallel_chain)\n",
    "\n",
    "result = final_chain.invoke({\"topic\":\"Chickens\"})\n",
    "print(result)\n"
   ]
  },
  {
   "cell_type": "code",
   "execution_count": 93,
   "id": "977bd394",
   "metadata": {},
   "outputs": [
    {
     "data": {
      "text/plain": [
       "5"
      ]
     },
     "execution_count": 93,
     "metadata": {},
     "output_type": "execute_result"
    }
   ],
   "source": [
    "from langchain.schema.runnable import RunnableSequence, RunnablePassthrough, RunnableParallel, RunnableLambda\n",
    "\n",
    "def word_counter(text):\n",
    "    return len(text.split())\n",
    "\n",
    "word_counter_runnable = RunnableLambda(word_counter)\n",
    "word_counter_runnable.invoke(\"this is runnable lambda demo\")"
   ]
  },
  {
   "cell_type": "code",
   "execution_count": 94,
   "id": "a2bdcfc6",
   "metadata": {},
   "outputs": [
    {
     "name": "stdout",
     "output_type": "stream",
     "text": [
      "{'joke': \"**Job Title: Chicken Farm Manager**\\n\\n**Location:** Rural Area, USA\\n\\n**Job Type:** Full-time\\n\\n**About Us:**\\n\\nWe are a family-owned chicken farm that has been producing high-quality eggs and meat for over 20 years. We are looking for a skilled and experienced Chicken Farm Manager to join our team. The successful candidate will be responsible for overseeing the daily operations of the farm, ensuring the health and well-being of our chickens, and maintaining our high standards of quality and productivity.\\n\\n**Responsibilities:**\\n\\n- Oversee the daily operations of the farm, including feeding, watering, and monitoring the health of the chickens.\\n- Develop and implement plans to increase egg production and improve the quality of our products.\\n- Manage the farm's budget, including purchasing feed, supplies, and equipment.\\n- Supervise and train farm staff, including farmers, handlers, and maintenance personnel.\\n- Ensure compliance with all relevant regulations and industry standards, including animal welfare and environmental regulations.\\n- Collaborate with veterinarians and other experts to ensure the health and well-being of our chickens.\\n- Develop and implement strategies to reduce waste and improve the farm's environmental sustainability.\\n- Manage the farm's maintenance and repair needs, including equipment maintenance and repairs.\\n\\n**Requirements:**\\n\\n- 5+ years of experience in chicken farming or a related field.\\n- Bachelor's degree in agriculture, animal science, or a related field.\\n- Proven experience in managing a farm or agricultural operation.\\n- Strong knowledge of chicken health and nutrition, as well as animal welfare and environmental regulations.\\n- Excellent communication and leadership skills.\\n- Ability to work in a fast-paced environment and make decisions quickly.\\n- Physical ability to work in a farm environment, including lifting, bending, and standing for long periods.\\n\\n**Preferred Qualifications:**\\n\\n- Master's degree in agriculture, animal science, or a related field.\\n- Experience with farm management software and technology.\\n- Knowledge of organic or free-range chicken production methods.\\n- Certification in chicken health and welfare or a related field.\\n\\n**What We Offer:**\\n\\n- Competitive salary and benefits package.\\n- Opportunity to work in a dynamic and growing industry.\\n- Collaborative and supportive work environment.\\n- Professional development opportunities.\\n- Fun and rewarding work experience.\\n\\n**How to Apply:**\\n\\nIf you are a motivated and experienced chicken farmer looking for a new challenge, please submit your resume and a cover letter outlining your experience and qualifications. We look forward to hearing from you!\\n\\n**Contact Information:**\\n\\nEmail: [chickensfarm@gmail.com](mailto:chickensfarm@gmail.com)\\nPhone: 555-555-5555\\nAddress: 123 Farm Drive, Rural Area, USA\", 'word_count': 406}\n"
     ]
    }
   ],
   "source": [
    "from langchain.schema.runnable import RunnableSequence, RunnablePassthrough, RunnableParallel\n",
    "\n",
    "from langchain.schema.runnable import RunnableSequence\n",
    "prompt1 = PromptTemplate(template = \"Write a job about {topic}\",\n",
    "                        input_variables = ['topic'])\n",
    "\n",
    "parser = StrOutputParser()\n",
    "\n",
    "joke_gen_chain = RunnableSequence(prompt1,groq_model,parser)\n",
    "\n",
    "def word_counter(text):\n",
    "    return len(text.split())\n",
    "\n",
    "branch_chain = RunnableBranch(\n",
    "    (lambda x:x.sentiment == 'positive', prompt2 | groq_model | parser),\n",
    "    (lambda x:x.sentiment == 'negative', prompt3 | groq_model | parser),\n",
    "    RunnableLambda(lambda x: \"could not find sentiment\")\n",
    ")\n",
    "\n",
    "final_chain = RunnableSequence(joke_gen_chain,parallel_chain)\n",
    "\n",
    "result = final_chain.invoke({\"topic\":\"Chickens\"})\n",
    "print(result)"
   ]
  },
  {
   "cell_type": "code",
   "execution_count": null,
   "id": "64ae9db0",
   "metadata": {},
   "outputs": [],
   "source": []
  },
  {
   "cell_type": "code",
   "execution_count": null,
   "id": "2ca69a48",
   "metadata": {},
   "outputs": [],
   "source": []
  }
 ],
 "metadata": {
  "kernelspec": {
   "display_name": "Python 3",
   "language": "python",
   "name": "python3"
  },
  "language_info": {
   "codemirror_mode": {
    "name": "ipython",
    "version": 3
   },
   "file_extension": ".py",
   "mimetype": "text/x-python",
   "name": "python",
   "nbconvert_exporter": "python",
   "pygments_lexer": "ipython3",
   "version": "3.12.7"
  }
 },
 "nbformat": 4,
 "nbformat_minor": 5
}
