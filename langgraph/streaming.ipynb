{
 "cells": [
  {
   "cell_type": "code",
   "execution_count": 1,
   "id": "9684af1f",
   "metadata": {},
   "outputs": [],
   "source": [
    "from langgraph.graph import StateGraph, START, END\n",
    "from typing import Annotated, List,TypedDict\n",
    "from langchain_groq import ChatGroq\n",
    "from langgraph.graph.message import add_messages\n",
    "from langchain_core.messages import HumanMessage,AnyMessage, RemoveMessage\n",
    "from IPython.display import display, Image\n",
    "from langgraph.checkpoint.memory import MemorySaver"
   ]
  },
  {
   "cell_type": "code",
   "execution_count": 2,
   "id": "5a466bae",
   "metadata": {},
   "outputs": [],
   "source": [
    "model = ChatGroq(model=\"llama-3.1-8b-instant\",temperature=0)"
   ]
  },
  {
   "cell_type": "code",
   "execution_count": 3,
   "id": "1f3c7107",
   "metadata": {},
   "outputs": [],
   "source": [
    "class State(TypedDict):\n",
    "    messages:Annotated[List[AnyMessage],add_messages]\n",
    "    summary:str"
   ]
  },
  {
   "cell_type": "code",
   "execution_count": 4,
   "id": "9cba0e68",
   "metadata": {},
   "outputs": [],
   "source": [
    "def assistant(state:State):\n",
    "    summary = state.get(\"summary\")\n",
    "    \n",
    "    if summary:\n",
    "        return {\"messages\":model.invoke([HumanMessage(summary)]+state['messages'])}\n",
    "    \n",
    "    return {\"messages\":model.invoke(state[\"messages\"])}"
   ]
  },
  {
   "cell_type": "code",
   "execution_count": 5,
   "id": "32e0d64c",
   "metadata": {},
   "outputs": [
    {
     "data": {
      "text/plain": [
       "[8, 9]"
      ]
     },
     "execution_count": 5,
     "metadata": {},
     "output_type": "execute_result"
    }
   ],
   "source": [
    "a = [8,9,10,11]\n",
    "a[:-2]"
   ]
  },
  {
   "cell_type": "code",
   "execution_count": 6,
   "id": "383230fb",
   "metadata": {},
   "outputs": [],
   "source": [
    "def summary_assistant(state:State):\n",
    "    summary = state.get(\"summary\")\n",
    "    \n",
    "    if summary:\n",
    "        prompt = f\"Given the summary {summary}. Extend it based on above messages. Keep length no longer than 100 words.\"\n",
    "        summary = model.invoke(state[\"messages\"]+[HumanMessage(prompt)])\n",
    "    else:\n",
    "        prompt = f\"Summarize the above complete chat in less than 100 words\"\n",
    "        summary = model.invoke(state[\"messages\"]+[HumanMessage(prompt)])\n",
    "        \n",
    "    \n",
    "    delete_message = [RemoveMessage(id=m.id) for m in state[\"messages\"]]\n",
    "    return {\"messages\":delete_message,\"summary\":summary.content}"
   ]
  },
  {
   "cell_type": "code",
   "execution_count": null,
   "id": "445f33cb",
   "metadata": {},
   "outputs": [],
   "source": [
    "# def router(state:State):\n",
    "#     if len(state['messages']) > 6:\n",
    "#         return \"summary_assistant\"\n",
    "#     return END"
   ]
  },
  {
   "cell_type": "code",
   "execution_count": 7,
   "id": "5a669236",
   "metadata": {},
   "outputs": [],
   "source": [
    "memory = MemorySaver()"
   ]
  },
  {
   "cell_type": "code",
   "execution_count": 8,
   "id": "4fcb46db",
   "metadata": {},
   "outputs": [
    {
     "data": {
      "image/png": "[encoded data removed]",
      "text/plain": [
       "<IPython.core.display.Image object>"
      ]
     },
     "metadata": {},
     "output_type": "display_data"
    }
   ],
   "source": [
    "builder = StateGraph(State)\n",
    "builder.add_node(\"assistant\",assistant)\n",
    "builder.add_node(\"summary_assistant\",summary_assistant)\n",
    "\n",
    "builder.add_edge(START,\"assistant\")\n",
    "# builder.add_conditional_edges(\"assistant\",router,{\n",
    "#     \"summary_assistant\" : \"summary_assistant\",\n",
    "#     END:END\n",
    "# })\n",
    "builder.add_edge(\"assistant\",\"summary_assistant\")\n",
    "builder.add_edge(\"summary_assistant\",END)\n",
    "\n",
    "graph = builder.compile(checkpointer=memory)\n",
    "display(Image(graph.get_graph().draw_mermaid_png()))"
   ]
  },
  {
   "cell_type": "code",
   "execution_count": 9,
   "id": "0549a10f",
   "metadata": {},
   "outputs": [],
   "source": [
    "config = {\"configurable\":{\"thread_id\":\"2\"}}"
   ]
  },
  {
   "cell_type": "code",
   "execution_count": null,
   "id": "e089c939",
   "metadata": {},
   "outputs": [],
   "source": [
    "for chunk in graph.stream({\"messages\":\"What is our galaxy called ?\"},config = config,stream_mode=\"values\"):\n",
    "    chunk['messages'][-1].pretty_print()"
   ]
  },
  {
   "cell_type": "code",
   "execution_count": null,
   "id": "d8f9dfde",
   "metadata": {},
   "outputs": [],
   "source": [
    "for chunk in graph.stream({\"messages\":\"can you tell me about galaxies\"},config = config,stream_mode=\"values\"):\n",
    "    chunk['messages'][-1].pretty_print()"
   ]
  },
  {
   "cell_type": "code",
   "execution_count": null,
   "id": "dfcc7104",
   "metadata": {},
   "outputs": [],
   "source": [
    "graph.get_state(config=config)"
   ]
  },
  {
   "cell_type": "code",
   "execution_count": null,
   "id": "41715d6c",
   "metadata": {},
   "outputs": [],
   "source": [
    "result = graph.invoke({\"messages\":\"can you tell me about galaxies\"},config = config)\n",
    "result"
   ]
  },
  {
   "cell_type": "code",
   "execution_count": null,
   "id": "7de0cd99",
   "metadata": {},
   "outputs": [],
   "source": [
    "result = graph.invoke({\"messages\":\"Earth is in which galaxy\"},config = config)\n",
    "result"
   ]
  },
  {
   "cell_type": "code",
   "execution_count": null,
   "id": "5b812f30",
   "metadata": {},
   "outputs": [],
   "source": [
    "result = graph.invoke({\"messages\":\"What is Solar System\"},config = config)\n",
    "result"
   ]
  },
  {
   "cell_type": "code",
   "execution_count": null,
   "id": "72dc638f",
   "metadata": {},
   "outputs": [],
   "source": [
    "result = graph.invoke({\"messages\":\"What is earths position with solar system\"},config = config)\n",
    "result"
   ]
  },
  {
   "cell_type": "code",
   "execution_count": null,
   "id": "0d024497",
   "metadata": {},
   "outputs": [],
   "source": [
    "result = graph.invoke({\"messages\":\"What comes after ?\"},config = config)\n",
    "result"
   ]
  },
  {
   "cell_type": "code",
   "execution_count": null,
   "id": "3d6cd186",
   "metadata": {},
   "outputs": [],
   "source": [
    "result = graph.invoke({\"messages\":\"most beautiful planet in solar system ?\"},config = config)\n",
    "result"
   ]
  },
  {
   "cell_type": "code",
   "execution_count": null,
   "id": "c9e5b68a",
   "metadata": {},
   "outputs": [],
   "source": [
    "result['summary']"
   ]
  },
  {
   "cell_type": "code",
   "execution_count": 11,
   "id": "7283051b",
   "metadata": {},
   "outputs": [
    {
     "name": "stdout",
     "output_type": "stream",
     "text": [
      "{'assistant': {'messages': AIMessage(content='Our galaxy is called the Milky Way.', additional_kwargs={}, response_metadata={'token_usage': {'completion_tokens': 9, 'prompt_tokens': 98, 'total_tokens': 107, 'completion_time': 0.012357925, 'prompt_time': 0.005730082, 'queue_time': 0.05810783700000001, 'total_time': 0.018088007}, 'model_name': 'llama-3.1-8b-instant', 'system_fingerprint': 'fp_510c177af0', 'finish_reason': 'stop', 'logprobs': None}, id='run--4aac3095-1a11-419b-8413-a31f86315b6c-0', usage_metadata={'input_tokens': 98, 'output_tokens': 9, 'total_tokens': 107})}}\n",
      "{'summary_assistant': {'messages': [RemoveMessage(content='', additional_kwargs={}, response_metadata={}, id='73434dd6-21eb-47d0-a527-645c9ba62b28'), RemoveMessage(content='', additional_kwargs={}, response_metadata={}, id='run--4aac3095-1a11-419b-8413-a31f86315b6c-0')], 'summary': \"Our galaxy is called the Milky Way. It's a barred spiral galaxy with hundreds of billions of stars, interstellar gas, and dust. The Milky Way is approximately 100,000 light-years in diameter and contains between 200 and 400 billion stars. Our solar system is located in one of the galaxy's outer spiral arms, known as the Orion Arm. The Milky Way is thought to be about 13.6 billion years old, roughly the same age as the universe itself. It's a massive, dynamic system that continues to evolve and change over time.\"}}\n"
     ]
    }
   ],
   "source": [
    "for chunk in graph.stream({\"messages\":\"What is our galaxy called ?\"},config = config,stream_mode=\"updates\"):\n",
    "    print(chunk)"
   ]
  },
  {
   "cell_type": "code",
   "execution_count": 13,
   "id": "7d9fa68b",
   "metadata": {},
   "outputs": [
    {
     "name": "stdout",
     "output_type": "stream",
     "text": [
      "{'assistant': {'messages': AIMessage(content=\"Black holes are among the most fascinating and mysterious objects in the universe. They are regions in space where the gravitational pull is so strong that nothing, including light, can escape. Here's a brief overview:\\n\\n**What is a black hole?**\\n\\nA black hole is a region in space where a massive star has collapsed in on itself, causing a massive amount of matter to be compressed into an incredibly small space. This compression creates an intense gravitational field that warps the fabric of spacetime around the black hole.\\n\\n**How are black holes formed?**\\n\\nBlack holes are formed when a massive star runs out of fuel and dies. If the star is massive enough (about 3-4 times the size of the sun), its gravity will collapse the star in on itself, causing a supernova explosion. If the star is even more massive (about 10-20 times the size of the sun), the collapse will continue, creating a singularity, a point of infinite density and zero volume, at the center of the black hole.\\n\\n**Characteristics of black holes**\\n\\nBlack holes have several key characteristics:\\n\\n1. **Event Horizon**: The point of no return around a black hole, where the gravitational pull is so strong that anything that crosses the event horizon will be trapped by the black hole.\\n2. **Singularity**: The point at the center of a black hole where the density and gravity are infinite.\\n3. **Gravitational Pull**: Black holes have an incredibly strong gravitational pull, which is so strong that it warps the fabric of spacetime around them.\\n4. **No Emission**: Black holes do not emit any radiation or light, making them invisible to us.\\n\\n**Types of black holes**\\n\\nThere are four types of black holes, each with different properties and origins:\\n\\n1. **Stellar Black Holes**: Formed from the collapse of individual stars.\\n2. **Supermassive Black Holes**: Found at the centers of galaxies, with masses millions or even billions of times that of the sun.\\n3. **Intermediate-Mass Black Holes**: Black holes with masses that fall between those of stellar and supermassive black holes.\\n4. **Primordial Black Holes**: Hypothetical black holes that may have formed in the early universe before the first stars formed.\\n\\n**Observational evidence for black holes**\\n\\nWhile black holes themselves are invisible, their presence can be inferred by observing the effects they have on the surrounding environment. Some of the observational evidence for black holes includes:\\n\\n1. **X-rays and Gamma Rays**: Telescopes can detect X-rays and gamma rays emitted by hot gas swirling around black holes.\\n2. **Radio Waves**: Radio telescopes can detect radio waves emitted by matter as it spirals into a black hole.\\n3. **Star Motions**: Astronomers can observe the motions of stars near a suspected black hole to determine if they are being affected by its gravity.\\n4. **Gravitational Waves**: The detection of gravitational waves by LIGO and VIRGO provide strong evidence for the existence of black holes.\\n\\nIn summary, black holes are regions in space where the gravitational pull is so strong that nothing, including light, can escape. They are formed from the collapse of massive stars and have several key characteristics, including an event horizon, singularity, and strong gravitational pull.\", additional_kwargs={}, response_metadata={'token_usage': {'completion_tokens': 671, 'prompt_tokens': 168, 'total_tokens': 839, 'completion_time': 0.894666667, 'prompt_time': 0.009913267, 'queue_time': 0.05362281099999999, 'total_time': 0.904579934}, 'model_name': 'llama-3.1-8b-instant', 'system_fingerprint': 'fp_0f5c9bc037', 'finish_reason': 'stop', 'logprobs': None}, id='run--615f4016-7332-457e-acf0-e80647fe7622-0', usage_metadata={'input_tokens': 168, 'output_tokens': 671, 'total_tokens': 839})}}\n",
      "{'summary_assistant': {'messages': [RemoveMessage(content='', additional_kwargs={}, response_metadata={}, id='134f5ead-1322-4c32-ae9f-6434d9d7b2a6'), RemoveMessage(content='', additional_kwargs={}, response_metadata={}, id='run--615f4016-7332-457e-acf0-e80647fe7622-0')], 'summary': 'Our galaxy, the Milky Way, is a vast, dynamic system containing hundreds of billions of stars, interstellar gas, and dust. Its diameter is approximately 100,000 light-years, with our solar system located in the outer spiral arm, the Orion Arm. At its center lies a supermassive black hole, with a mass of approximately 4 million times that of our sun. This black hole, known as Sagittarius A* (Sgr A*), is thought to have formed around 13.6 billion years ago, roughly the same age as the universe. The galaxy is constantly evolving, with stars forming and dying.'}}\n"
     ]
    }
   ],
   "source": [
    "for chunk in graph.stream({\"messages\":\"What are black holes ?\"},config = config,stream_mode=\"updates\"):\n",
    "    print(chunk)"
   ]
  },
  {
   "cell_type": "code",
   "execution_count": 14,
   "id": "39c1ff41",
   "metadata": {},
   "outputs": [
    {
     "data": {
      "text/plain": [
       "StateSnapshot(values={'messages': [], 'summary': 'Our galaxy, the Milky Way, is a vast, dynamic system containing hundreds of billions of stars, interstellar gas, and dust. Its diameter is approximately 100,000 light-years, with our solar system located in the outer spiral arm, the Orion Arm. At its center lies a supermassive black hole, with a mass of approximately 4 million times that of our sun. This black hole, known as Sagittarius A* (Sgr A*), is thought to have formed around 13.6 billion years ago, roughly the same age as the universe. The galaxy is constantly evolving, with stars forming and dying.'}, next=(), config={'configurable': {'thread_id': '2', 'checkpoint_ns': '', 'checkpoint_id': '1f0588be-c66f-6572-800e-b49fab9d563b'}}, metadata={'source': 'loop', 'writes': {'summary_assistant': {'messages': [RemoveMessage(content='', additional_kwargs={}, response_metadata={}, id='134f5ead-1322-4c32-ae9f-6434d9d7b2a6'), RemoveMessage(content='', additional_kwargs={}, response_metadata={}, id='run--615f4016-7332-457e-acf0-e80647fe7622-0')], 'summary': 'Our galaxy, the Milky Way, is a vast, dynamic system containing hundreds of billions of stars, interstellar gas, and dust. Its diameter is approximately 100,000 light-years, with our solar system located in the outer spiral arm, the Orion Arm. At its center lies a supermassive black hole, with a mass of approximately 4 million times that of our sun. This black hole, known as Sagittarius A* (Sgr A*), is thought to have formed around 13.6 billion years ago, roughly the same age as the universe. The galaxy is constantly evolving, with stars forming and dying.'}}, 'step': 14, 'parents': {}, 'thread_id': '2'}, created_at='2025-07-04T04:04:03.835410+00:00', parent_config={'configurable': {'thread_id': '2', 'checkpoint_ns': '', 'checkpoint_id': '1f0588be-c233-6ae4-800d-c18e28eee58e'}}, tasks=(), interrupts=())"
      ]
     },
     "execution_count": 14,
     "metadata": {},
     "output_type": "execute_result"
    }
   ],
   "source": [
    "graph.get_state(config=config)"
   ]
  },
  {
   "cell_type": "code",
   "execution_count": null,
   "id": "a40e03cf",
   "metadata": {},
   "outputs": [],
   "source": [
    "async for events in graph.astream_events({\"messages\":\"What are black holes ?\"},config = config,stream_mode=\"updates\"):\n",
    "    print(events['event'],\" | \",events['metadata'].get(\"langgraph_node\"),\" | \",events['name'])"
   ]
  },
  {
   "cell_type": "code",
   "execution_count": null,
   "id": "177e308c",
   "metadata": {},
   "outputs": [],
   "source": [
    "async for events in graph.astream_events({\"messages\":\"explain their properties in detail ?\"},config = config,stream_mode=\"updates\"):\n",
    "    if events['event'] == \"on_chat_model_stream\" and events['metadata'].get(\"langgraph_node\",\"\") == \"assistant\":\n",
    "        print(events['data']['chunk'].content,end='')"
   ]
  },
  {
   "cell_type": "code",
   "execution_count": null,
   "id": "1a3df961",
   "metadata": {},
   "outputs": [],
   "source": [
    "async for events in graph.astream_events({\"messages\":\"nearest black hole to earth ?\"},config = config,stream_mode=\"updates\"):\n",
    "    if events['event'] == \"on_chat_model_stream\" and events['metadata'].get(\"langgraph_node\",\"\") == \"summary_assistant\":\n",
    "        print(events['data']['chunk'].content,end='')"
   ]
  },
  {
   "cell_type": "code",
   "execution_count": null,
   "id": "5ef461ea",
   "metadata": {},
   "outputs": [],
   "source": [
    "print(len(graph.get_state(config=config).values['summary']))"
   ]
  },
  {
   "cell_type": "code",
   "execution_count": null,
   "id": "668ba76f",
   "metadata": {},
   "outputs": [],
   "source": [
    "print(graph.get_state(config=config).values['summary'])"
   ]
  },
  {
   "cell_type": "code",
   "execution_count": null,
   "id": "10f4811e",
   "metadata": {},
   "outputs": [],
   "source": []
  }
 ],
 "metadata": {
  "kernelspec": {
   "display_name": "Python 3",
   "language": "python",
   "name": "python3"
  },
  "language_info": {
   "codemirror_mode": {
    "name": "ipython",
    "version": 3
   },
   "file_extension": ".py",
   "mimetype": "text/x-python",
   "name": "python",
   "nbconvert_exporter": "python",
   "pygments_lexer": "ipython3",
   "version": "3.12.7"
  }
 },
 "nbformat": 4,
 "nbformat_minor": 5
}
