{
 "cells": [
  {
   "cell_type": "code",
   "execution_count": 31,
   "id": "5f454e1a",
   "metadata": {},
   "outputs": [],
   "source": [
    "import os\n",
    "from langchain_core.messages import HumanMessage, AnyMessage\n",
    "from langchain_core.prompts import PromptTemplate\n",
    "from langchain_groq import ChatGroq\n",
    "from langgraph.graph import START, END, StateGraph\n",
    "from langgraph.checkpoint.memory import MemorySaver\n",
    "from langgraph.graph.message import add_messages\n",
    "from dotenv import load_dotenv\n",
    "from typing import List, Annotated, TypedDict\n",
    "from operator import add\n",
    "from langchain_community.tools import TavilySearchResults\n",
    "from langchain.document_loaders import WikipediaLoader\n",
    "from langchain_core.output_parsers import StrOutputParser\n",
    "from IPython.display import display, Image"
   ]
  },
  {
   "cell_type": "code",
   "execution_count": 32,
   "id": "eff2613f",
   "metadata": {},
   "outputs": [
    {
     "data": {
      "text/plain": [
       "True"
      ]
     },
     "execution_count": 32,
     "metadata": {},
     "output_type": "execute_result"
    }
   ],
   "source": [
    "load_dotenv()"
   ]
  },
  {
   "cell_type": "code",
   "execution_count": 33,
   "id": "c65e8525",
   "metadata": {},
   "outputs": [],
   "source": [
    "model = ChatGroq(model = \"llama-3.1-8b-instant\",temperature = 0)"
   ]
  },
  {
   "cell_type": "code",
   "execution_count": 34,
   "id": "e6f8279c",
   "metadata": {},
   "outputs": [],
   "source": [
    "class State(TypedDict):\n",
    "    question:str\n",
    "    answer:str\n",
    "    context:Annotated[List[str],add]\n",
    "    \n",
    "def web_search(state:State):\n",
    "    question = state.get(\"question\",\"\")\n",
    "    tavilly_api = TavilySearchResults()\n",
    "    web_search = \"/n\".join([cn['content'] for cn in tavilly_api.invoke(question,tavilly_api = os.getenv(\"TAVILY_API_KEY\"))])\n",
    "    return {\"context\":[web_search]}\n",
    "\n",
    "def wikipedia_search(state:State):\n",
    "    question = state.get(\"question\",\"\")\n",
    "    wikipedia = WikipediaLoader(question,load_max_docs=2).load()\n",
    "    result = \"/n\".join([doc.metadata['summary'] for doc in wikipedia])\n",
    "    return {\"context\":[result]}\n",
    "\n",
    "def doc_combine(state:State):\n",
    "    question = state.get(\"question\")\n",
    "    reference = \"\\n\".join(state['context'])\n",
    "    \n",
    "    prompt = PromptTemplate(\n",
    "        template = \"Using Web Search results and Wikipedia article as reference:\\n {reference}\\n\\n answer the following question:- {question} \",\n",
    "        input_variables=['reference','question']\n",
    "    )\n",
    "    \n",
    "    parser = StrOutputParser()\n",
    "    \n",
    "    chain = prompt | model | parser\n",
    "    \n",
    "    result = chain.invoke({\"question\":question,\"reference\":reference})\n",
    "    \n",
    "    return {\"answer\":result}"
   ]
  },
  {
   "cell_type": "code",
   "execution_count": 35,
   "id": "970f19dd",
   "metadata": {},
   "outputs": [
    {
     "data": {
      "image/png": "[encoded data removed]",
      "text/plain": [
       "<IPython.core.display.Image object>"
      ]
     },
     "metadata": {},
     "output_type": "display_data"
    }
   ],
   "source": [
    "builder = StateGraph(State)\n",
    "builder.add_node(\"web_search\",web_search)\n",
    "builder.add_node(\"wikipedia_search\",wikipedia_search)\n",
    "builder.add_node(\"doc_combine\",doc_combine)\n",
    "\n",
    "builder.add_edge(START,\"web_search\")\n",
    "builder.add_edge(START,\"wikipedia_search\")\n",
    "builder.add_edge(\"wikipedia_search\",\"doc_combine\")\n",
    "builder.add_edge(\"web_search\",\"doc_combine\")\n",
    "\n",
    "graph = builder.compile()\n",
    "\n",
    "display(Image(graph.get_graph().draw_mermaid_png()))"
   ]
  },
  {
   "cell_type": "code",
   "execution_count": 36,
   "id": "eb3bb19b",
   "metadata": {},
   "outputs": [
    {
     "data": {
      "text/plain": [
       "{'question': 'Who is Narendra Modi ?',\n",
       " 'answer': \"Narendra Modi is the current Prime Minister of India. He was born on September 17, 1950, in Vadnagar, Gujarat, India. He is a senior leader of the Bharatiya Janata Party (BJP), a right-wing political party in India. Modi has served as the Prime Minister of India since May 2014 and has been re-elected for a second and third term in 2019 and 2024, respectively.\\n\\nPrior to becoming the Prime Minister, Modi served as the Chief Minister of Gujarat state in western India from 2001 to 2014. He is known for his dynamic leadership and development-focused agenda, and has been a key figure in Indian politics for several decades.\\n\\nModi is also known by various names, including NaMo, which is a widely used abbreviation derived from the first two letters of his first and last names. He is a member of the Rashtriya Swayamsevak Sangh (RSS) and has been an active member of the organization for many years.\\n\\nModi's personal life is also notable, as he was married to Jashodaben Narendrabhai Modi in 1968, but the couple separated soon after and Modi did not acknowledge the marriage publicly until he was legally required to do so prior to the 2014 Indian general elections.\\n\\nIn addition to his political career, Modi is also associated with the Narendra Modi Stadium, a cricket ground in Motera, Ahmedabad, Gujarat, India, which is the world's largest stadium with a total capacity of 132,000. The stadium was named after him in 2021 in honor of his contributions to Indian politics and governance.\",\n",
       " 'context': [\"Narendra Modi (born September 17, 1950, Vadnagar, India) is an Indian politician and government official who rose to become a senior leader of the Bharatiya Janata Party (BJP). In 2014 he led his party to victory in elections to the Lok Sabha (lower chamber of the Indian parliament), after which he was sworn in as prime minister of India. Prior to that he had served (2001–14) as chief minister (head of government) of Gujarat state in western India. The Modi-led BJP (and the BJP-led NDA [...] ## Early life and political career\\n\\nNarendra Modi\\n\\nNarendra ModiIndian Prime Minister Narendra Modi was elected to the office in 2014. He won a second term in 2019 and was sworn in for a third term on June 9, 2024.(more) [...] Narendra Modi\\nChief minister of Gujarat state Narendra Modi speaking at the World Economic Forum's India Economic Summit, November 2008. Modi became the prime minister of India in 2014.\\n\\n(more)\\n\\n# Narendra Modi\\n\\nprime minister of India\\n\\nAsk the Chatbot a Question\\n\\nMore Actions\\n\\nPrint\\n\\nCite\\n\\nShare\\n\\nFeedback\\n\\nExternal Websites\\n\\nAlso known as: Narendra Damodardas Modi\\n\\nWritten by\\n\\nShanthie Mariet D'Souza/nNarendra Modi Biography\\n\\nNarendra Modi Picture\\n\\nNarendra Modi, (full name, Narendra Damodardas Modi), the 14th Prime Minister of India, is a charismatic and influential leader who has left an indelible mark on the nation’s political landscape. Born on September 17, 1950, in Vadnagar, a small town in Gujarat, Modi’s journey to the pinnacle of Indian politics is a remarkable tale of perseverance, determination, and astute leadership. [...] Prime Minister Narendra Modi Biography: Narendra Modi, the current Prime Minister of India, has had a significant impact on Indian politics and governance. PM Modi Birthday is celebrated on September 17. He was born in 1950, in Vadnagar, Gujarat, Modi rose from humble beginnings to become a key political figure. He holds a degree in Political Science and has been an active member of the Rashtriya Swayamsevak Sangh (RSS). Known for his dynamic leadership and development-focused agenda, Modi’s [...] The full name of Narendra Modi is Narendra Damodardas Modi, is recognized by various names that shows the different aspects of his personality and roles. He is commonly referred to as NaMo, a widely used abbreviation derived from the first two letters of his first and last names, signifying a sense of familiarity and closeness. Various other names of narendra Modi has been recognised as:\\n\\nNarendra Modi Birth and Age/n(born 1950). Indian politician Narendra Modi is the prime minister of India. He is a senior leader of the Bharatiya Janata Party (BJP), a pro-Hindu political party. Modi began his first term as prime minister in 2014. After the BJP’s success in the elections of 2019 and 2024, he was retained in office for a second and then third term./nSubscribe\\n\\nHome / Narendra Modi\\n\\nImage 6: Who is Narendra Modi?)\\n\\nNarendra Modi\\n-------------\\n\\nAbout Narendra Modi\\n\\n Image 7: Star Follow \\n\\nWho is Narendra Modi?\\n=====================\\n\\nNarendra Modi is the current Prime Minister of India. He represents Varanasi constituency in the Lok Sabha. He is a prominent leader of the Bharatiya Janata Party (BJP). He assumed office as Prime Minister for his third term on June 9, 2024 after securing a decisive mandate in the 2024 Lok Sabha elections./nNarendra Modi Biography Prime Minister Narendra Modi: Narendra Modi, born on September 17, 1950, in Vadnagar, Gujarat, India, is an Indian politician who has served as the Prime Minister of India since May 2014. He belongs to the Bharatiya Janata Party (BJP), a right-wing political party in India.\",\n",
       "  \"Narendra Modi Stadium is a cricket ground in Motera, Ahmedabad, Gujarat, India. With a total capacity of 132,000, it is the world's largest stadium. It is owned by the Gujarat Cricket Association, and hosts both domestic and international cricket matches. The stadium has hosted several high-profile matches, such as the 2023 One Day International World Cup final. It is named after the Prime Minister of India, Narendra Modi. \\nIt replaced the Sardar Patel Stadium, which hosted domestic and international cricket in the city until its demolition in 2015, including the 1987, 1996, and 2011 Cricket World Cups. In 2014, it was decided that a new stadium should be built on the same plot. The new stadium, originally named Motera Stadium, was designed by Populous and built by Larsen and Toubro. It took five years to build, at an estimated cost of ₹800 crore (US$95 million). After completion, the new arena replaced the Melbourne Cricket Ground as the world's largest cricket stadium. The stadium has four dressing rooms, 11 centre pitches, and two practice grounds. The practice grounds can also serve as venues for domestic matches.\\nThe new stadium opened to the public in 2020 amid the Namaste Trump event. In 2021, the stadium was renamed Narendra Modi Stadium in honour of the Indian Prime Minister Narendra Modi, who  had previously served as chief minister of Gujarat (2001–2014) and president of the GCA (2009-2014). In 2021, the stadium was inaugurated with Indian President Ram Nath Kovind presiding over the event.\\nOn 24 February 2021, the stadium hosted its first Test match, when home side India played against England. It was also its first day-night test game. On 29 September 2022, the opening ceremony of the 2022 National Games of India was held in the stadium.\\n\\n/nJashodaben Narendrabhai Modi (née Chimanlal Modi; born 1952) is an Indian former school teacher and the estranged wife of Narendra Modi, the Prime Minister of India. The couple were married in 1968 when she was about 16 and Modi was 18. A couple years into the marriage, her husband, Narendra Modi, left her. He did not acknowledge the marriage publicly until he was legally required to do so prior to the 2014 Indian general elections to the Lok Sabha. In 2015, Jashodaben retired from her teaching job.\"]}"
      ]
     },
     "execution_count": 36,
     "metadata": {},
     "output_type": "execute_result"
    }
   ],
   "source": [
    "graph.invoke({\"question\":\"Who is Narendra Modi ?\"})"
   ]
  },
  {
   "cell_type": "code",
   "execution_count": 37,
   "id": "486eae9b",
   "metadata": {},
   "outputs": [
    {
     "data": {
      "text/plain": [
       "{'question': 'How to control sex Urges ?',\n",
       " 'answer': \"Based on the provided information, here are some tips to control sex urges:\\n\\n1. **Identify the triggers**: Understand what triggers your sex urges and try to avoid those situations.\\n2. **Seek immediate solutions**: Engage in activities that distract you from your sex urges, such as going for a walk, talking to a friend or coworker, or creating a to-do list.\\n3. **Practice stress-relieving techniques**: Regular exercise, creative hobbies, or meditation can help reduce stress and manage sex urges.\\n4. **Avoid pornography**: Limit or avoid exposure to explicit content that can fuel sex urges.\\n5. **Consider abstaining from drugs or alcohol**: Substance use can increase the likelihood of engaging in risky sexual behavior.\\n6. **Talk to others who can help**: Share your concerns with a trusted friend, partner, or mental health professional.\\n7. **Set boundaries**: Establish clear boundaries with yourself and others to maintain healthy relationships and manage sex urges.\\n8. **Practice mindfulness**: Be present in the moment and focus on your thoughts and feelings to better manage sex urges.\\n9. **Exercise regularly**: Physical activity can help reduce stress and improve overall well-being.\\n10. **Seek professional help**: If sex urges are interfering with daily life, relationships, or overall well-being, consider seeking guidance from a mental health professional.\\n\\nAdditionally, consider the following:\\n\\n* **Abstain from masturbation**: While masturbation is a normal and healthy aspect of human sexuality, excessive or compulsive masturbation can be a sign of underlying issues.\\n* **Minimize stress**: High levels of stress can contribute to increased sex urges.\\n* **Keep yourself busy**: Engage in activities that keep you occupied and focused on other aspects of life.\\n* **Have a healthy relationship**: A fulfilling and healthy relationship can help manage sex urges and promote overall well-being.\\n\\nRemember, controlling sex urges is a personal and ongoing process that requires self-awareness, effort, and support. If you're struggling with sex urges that are interfering with your life, consider seeking help from a mental health professional.\",\n",
       " 'context': [\"If you have trouble controlling your sexual urges, try to avoid situations that trigger you, such as steamy love scenes in movies or pornography. To immediately diffuse your sexual urges, step away from your current environment by going for a walk, or try asking a trusted friend or therapist to help keep you accountable. You may also want to consider abstaining from drugs or alcohol, since being under the influence can make risky sexual behavior more likely. In addition, consider trying [...] ## Tips for Controlling Sexual Desire\\n\\nReduce sexual urges by seeking immediate productive solutions, like going for a walk, talking to a co-worker, or creating a to-do list. Spend time identifying potential triggers and practice stress-relieving techniques, like exercise, creative hobbies, or meditation.\\n\\n## Steps\\n\\n### Seeking Immediate Solutions [...] PDF download\\nStep 1 Identify the triggers for your sexual urges.\\nStep 2 Avoid pornography.\\nStep 3 Consider avoiding masturbation.\\nStep 4 Abstain from drugs or alcohol.\\nStep 5 Find effective methods to control your thoughts.\\nStep 6 Minimize stress.\\nStep 7 Keep yourself busy.\\nStep 8 Exercise.\\n\\n### Talking to Others Who Can Help You\\n\\nPDF download\\nStep 1 See your doctor.\\nStep 2 Talk to your partner about your feelings.\\nStep 3 Get a spiritual perspective./nHave sex with your partner in moderation, i.e., don't get obsessed with it all the time, don't escape from it either as if it were evil. Just/nSome practical ways to have self-control sexually are to set boundaries, identify triggers for your sexual urges, avoid tempting situations, avoid pornography, exercise, practice mindfulness, and abstain from drugs or alcohol./nControlling your sexual urges means not touching strange women on the bus, or not masturbating in public./nSexuality, intimacy, and the human need for connection are integral parts of our overall well-being. Yet, uncontrolled sexual urges can interfere with daily life, damage relationships, and undermine self-esteem. Recognizing triggers, seeking accountability, and exploring professional counseling can help keep your sex drive in check while preserving its healthy, pleasurable aspects. [...] A high sex drive only becomes a problem when it starts interfering with your daily responsibilities, relationships, and well-being. Below are proven tips to help manage overwhelming sexual urges.\\n\\n### 1. Identify the Triggers\\n\\n### 2. Know Your First Line of Defense\\n\\n### 3. Avoid Pornography\\n\\n### 4. Abstain from Drugs and Alcohol\\n\\n### 5. Talk to Others Who Can Help\\n\\ncute lgbtq couple\\ncute lgbtq couple\\n\\n## Is Having a High Sex Drive a Problem? [...] If you feel that your sexual urges negatively impact your life—or if you simply want expert guidance—consider reaching out to Kentucky Counseling Center (KCC). Our counselors have specialized training to help you navigate issues related to sexual behavior, relationships, and mental health. Don’t hesitate to book an appointment and take control of your well-being.\\n\\n#### Search Posts\\n\\n#### Category\\n\\n## One thought on “Controlling Sexual Desire: Practical Tips for Managing a High Sex Drive”\",\n",
       "  'In psychology, libido (; from Latin  libīdō) is a desiring energy, usually conceived of as sexual in nature, but sometimes also encompasses other forms of needs. The term was originally developed by Sigmund Freud, the pioneer of psychoanalysis. Initially referred only to specific sexual needs, he expanded the concept later to an universal desire thats great reservoir is the Id. As driving energy behind all life processes, libido became the source of the social engagement (maternal love instinct, f. e.), sexual behaviour, pursuit for nutrition, skin pleasure, knowledge and victory in all areas of self- and species preservation. \\nEquated the libido with the Eros of Platonic philosophy, Freud further differentiated two inherent operators: the life drive and the death drive. Both aspects are working complementary to each other: While the death drive, also called Destrudo or Thanatos, embodies the principle of \\'analytical\\' decomposition of complex phenomenon, the effect of life drive (Greek Bios) is to reassemble or synthesise the parts of the decomposition in a way that serves the organisms regeneration and reproduction. Freud\\'s most abstract description of libido represents an energetic potential that begins like a bow to tense up unpleasantly (noticeable \\'hunger\\') in order to pleasantly relax again (noticeable satisfaction); its nature is both physical and psychological. Starting from the id in the fertilised egg, libido initiates also the emergence of two further instances: the ego (function of conscious perception), and the superego, which specialises in retrievable storage of experiences (long-term memory). Together with the libido as their surce, this three instance represent the common core of all branches of psychoanalysis.\\nFrom a neurobiological point of view, the inner perception and regulation of the various innate needs are mediated through the nucleus accumbens by neurotransmitters and hormones; in relation to sexuality, these are mainly testosterone, oestrogen and dopamine. Each of the needs can be influenced by the others (e.g. baby feeding is inextricably connected with sociality); but above all, their fulfilment requires the libidinal satisfaction of curiosity. Without this \\'research instinct\\' of mind, the control of bodily motoric would be impossible, the arrow from the bow called life  wouldn\\'t do its work (death). Just as happiness is anchored in the fulfilment of all innate needs, disturbances through social stress resulting from lifestyle, traumatisation in early childhood or during war, mental and bodily illness lead to suffering that is inwardly noticeable and conscious to the ego. Through the capacity of empathy, linguistic and facial expressions of emotion ultimately also affect the human environment./nSafe sex is sexual activity using methods or contraceptive devices (such as condoms) to reduce the risk of transmitting or acquiring sexually transmitted infections (STIs), especially HIV. \"Safe sex\" is also sometimes referred to as safer sex or protected sex to indicate that some safe sex practices do not eliminate STI risks. It is also sometimes used colloquially to describe methods aimed at preventing pregnancy that may or may not also lower STI risks.\\nThe concept of \"safe sex\" emerged in the 1980s as a response to the global AIDS epidemic, and possibly more specifically to the AIDS crisis in the United States. Promoting safe sex is now one of the main aims of sex education and STI prevention, especially reducing new HIV infections. Safe sex is regarded as a harm reduction strategy aimed at reducing the risk of STI transmission.\\nAlthough some safe sex practices (like condoms) can also be used as birth control (contraception), most forms of contraception do not protect against STIs. Likewise, some safe sex practices, such as partner selection and low-risk sex behavior, might not be effective forms of contraception.']}"
      ]
     },
     "execution_count": 37,
     "metadata": {},
     "output_type": "execute_result"
    }
   ],
   "source": [
    "graph.invoke({\"question\":\"How to control sex Urges ?\"})"
   ]
  },
  {
   "cell_type": "code",
   "execution_count": null,
   "id": "a73fb769",
   "metadata": {},
   "outputs": [],
   "source": []
  },
  {
   "cell_type": "code",
   "execution_count": null,
   "id": "d6c3bc4e",
   "metadata": {},
   "outputs": [],
   "source": []
  },
  {
   "cell_type": "code",
   "execution_count": null,
   "id": "b59a932e",
   "metadata": {},
   "outputs": [],
   "source": []
  },
  {
   "cell_type": "code",
   "execution_count": null,
   "id": "c1aff21d",
   "metadata": {},
   "outputs": [],
   "source": []
  },
  {
   "cell_type": "code",
   "execution_count": null,
   "id": "63e44e24",
   "metadata": {},
   "outputs": [],
   "source": []
  },
  {
   "cell_type": "code",
   "execution_count": null,
   "id": "31d5e6da",
   "metadata": {},
   "outputs": [],
   "source": []
  }
 ],
 "metadata": {
  "kernelspec": {
   "display_name": "Python 3",
   "language": "python",
   "name": "python3"
  },
  "language_info": {
   "codemirror_mode": {
    "name": "ipython",
    "version": 3
   },
   "file_extension": ".py",
   "mimetype": "text/x-python",
   "name": "python",
   "nbconvert_exporter": "python",
   "pygments_lexer": "ipython3",
   "version": "3.12.7"
  }
 },
 "nbformat": 4,
 "nbformat_minor": 5
}
