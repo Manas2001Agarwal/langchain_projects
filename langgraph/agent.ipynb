{
 "cells": [
  {
   "cell_type": "code",
   "execution_count": 2,
   "id": "5d8cd5a8",
   "metadata": {},
   "outputs": [],
   "source": [
    "from dotenv import load_dotenv\n",
    "from langgraph.graph import StateGraph, START, END\n",
    "from langgraph.prebuilt import ToolNode, tools_condition\n",
    "from langgraph.graph.message import MessagesState\n",
    "from langchain_groq import ChatGroq"
   ]
  },
  {
   "cell_type": "code",
   "execution_count": 3,
   "id": "abbcc7a6",
   "metadata": {},
   "outputs": [
    {
     "data": {
      "text/plain": [
       "True"
      ]
     },
     "execution_count": 3,
     "metadata": {},
     "output_type": "execute_result"
    }
   ],
   "source": [
    "load_dotenv()"
   ]
  },
  {
   "cell_type": "code",
   "execution_count": 29,
   "id": "7db05209",
   "metadata": {},
   "outputs": [],
   "source": [
    "model = ChatGroq(model = \"llama-3.1-8b-instant\")"
   ]
  },
  {
   "cell_type": "code",
   "execution_count": 5,
   "id": "4d9327fb",
   "metadata": {},
   "outputs": [
    {
     "data": {
      "text/plain": [
       "AIMessage(content=\"I'm an artificial intelligence model known as a Large Language Model (LLM). I'm a computer program designed to understand and generate human-like text. My primary function is to assist and communicate with users by providing information, answering questions, and engaging in conversations.\\n\\nI was trained on a massive dataset of text from various sources, including books, articles, and online content. This training allows me to recognize patterns, understand context, and generate responses that are often helpful and informative.\\n\\nSome of my capabilities include:\\n\\n1. Answering questions on a wide range of topics, from science and history to entertainment and culture.\\n2. Generating text based on a prompt or topic.\\n3. Translating text from one language to another.\\n4. Summarizing long pieces of text into concise summaries.\\n5. Offering suggestions and ideas on a particular subject.\\n\\nI'm constantly learning and improving through user interactions, so feel free to ask me anything and help me become a better conversational partner!\", additional_kwargs={}, response_metadata={'token_usage': {'completion_tokens': 197, 'prompt_tokens': 38, 'total_tokens': 235, 'completion_time': 0.262666667, 'prompt_time': 0.002155521, 'queue_time': 0.050719328, 'total_time': 0.264822188}, 'model_name': 'llama-3.1-8b-instant', 'system_fingerprint': 'fp_0f5c9bc037', 'finish_reason': 'stop', 'logprobs': None}, id='run--5f0924e2-c9bf-4261-b4e9-b804e47f7f77-0', usage_metadata={'input_tokens': 38, 'output_tokens': 197, 'total_tokens': 235})"
      ]
     },
     "execution_count": 5,
     "metadata": {},
     "output_type": "execute_result"
    }
   ],
   "source": [
    "model.invoke(\"who are you\")"
   ]
  },
  {
   "cell_type": "code",
   "execution_count": 30,
   "id": "d1f66f84",
   "metadata": {},
   "outputs": [],
   "source": [
    "def multiply(a:int,b:int) -> int:\n",
    "    \"\"\"\n",
    "    Multiply the two number a and b\n",
    "    \n",
    "    args:\n",
    "    a:int\n",
    "    b:int\n",
    "    \"\"\"\n",
    "    return a*b\n",
    "\n",
    "def add(a:int,b:int) -> int:\n",
    "    \"\"\"\n",
    "    Add the two number a and b\n",
    "    \n",
    "    args:\n",
    "    a:int\n",
    "    b:int\n",
    "    \"\"\"\n",
    "    return a+b\n",
    "\n",
    "def divide(a:int,b:int) -> int:\n",
    "    \"\"\"\n",
    "    Divide the two number a and b\n",
    "    \n",
    "    args:\n",
    "    a:int\n",
    "    b:int\n",
    "    \"\"\"\n",
    "    return int(a/b)"
   ]
  },
  {
   "cell_type": "code",
   "execution_count": 9,
   "id": "98e996ee",
   "metadata": {},
   "outputs": [],
   "source": [
    "tools = [multiply,add,divide]\n",
    "llm_with_tools = model.bind_tools(tools)"
   ]
  },
  {
   "cell_type": "code",
   "execution_count": 10,
   "id": "a33afb4f",
   "metadata": {},
   "outputs": [],
   "source": [
    "class MessagesState(MessagesState):\n",
    "    pass"
   ]
  },
  {
   "cell_type": "code",
   "execution_count": 22,
   "id": "a487ed18",
   "metadata": {},
   "outputs": [],
   "source": [
    "from langchain_core.messages import SystemMessage\n",
    "def assistant(state:MessagesState):\n",
    "    system_message = SystemMessage(content = \"You are a helpful assistant that performs arithmatic operations\")\n",
    "    return {\"messages\":llm_with_tools.invoke([system_message] +  state['messages'])}"
   ]
  },
  {
   "cell_type": "code",
   "execution_count": 23,
   "id": "cce09d99",
   "metadata": {},
   "outputs": [],
   "source": [
    "builder = StateGraph(MessagesState)\n",
    "\n",
    "builder.add_node(\"assistant\",assistant)\n",
    "builder.add_node(\"tools\",ToolNode(tools))\n",
    "\n",
    "builder.add_edge(START,\"assistant\")\n",
    "builder.add_conditional_edges(\"assistant\",tools_condition)\n",
    "builder.add_edge(\"tools\",\"assistant\")\n",
    "\n",
    "graph = builder.compile()"
   ]
  },
  {
   "cell_type": "code",
   "execution_count": 24,
   "id": "622cb717",
   "metadata": {},
   "outputs": [
    {
     "data": {
      "image/png": "[encoded data removed]",
      "text/plain": [
       "<IPython.core.display.Image object>"
      ]
     },
     "metadata": {},
     "output_type": "display_data"
    }
   ],
   "source": [
    "from IPython.display import Image, display\n",
    "display(Image(graph.get_graph().draw_mermaid_png()))"
   ]
  },
  {
   "cell_type": "code",
   "execution_count": 25,
   "id": "28c5ad36",
   "metadata": {},
   "outputs": [
    {
     "data": {
      "text/plain": [
       "{'messages': [HumanMessage(content='Add 6 and 4, divide by 2 and multiply by 3', additional_kwargs={}, response_metadata={}, id='60cf828c-f7f9-4d7b-91fb-952cf8a2eb81'),\n",
       "  AIMessage(content='', additional_kwargs={'tool_calls': [{'id': 'vd9z9wdp8', 'function': {'arguments': '{\"a\":6,\"b\":4}', 'name': 'add'}, 'type': 'function'}, {'id': '55j61gsg8', 'function': {'arguments': '{\"a\":10,\"b\":2}', 'name': 'divide'}, 'type': 'function'}, {'id': 'fgvgxcrq3', 'function': {'arguments': '{\"a\":5,\"b\":3}', 'name': 'multiply'}, 'type': 'function'}]}, response_metadata={'token_usage': {'completion_tokens': 54, 'prompt_tokens': 817, 'total_tokens': 871, 'completion_time': 0.072, 'prompt_time': 0.052199331, 'queue_time': -0.117936481, 'total_time': 0.124199331}, 'model_name': 'llama-3.1-8b-instant', 'system_fingerprint': 'fp_8ab2e50475', 'finish_reason': 'tool_calls', 'logprobs': None}, id='run--791e50e4-c10e-406a-a504-d12a05a6fe7e-0', tool_calls=[{'name': 'add', 'args': {'a': 6, 'b': 4}, 'id': 'vd9z9wdp8', 'type': 'tool_call'}, {'name': 'divide', 'args': {'a': 10, 'b': 2}, 'id': '55j61gsg8', 'type': 'tool_call'}, {'name': 'multiply', 'args': {'a': 5, 'b': 3}, 'id': 'fgvgxcrq3', 'type': 'tool_call'}], usage_metadata={'input_tokens': 817, 'output_tokens': 54, 'total_tokens': 871}),\n",
       "  ToolMessage(content='10', name='add', id='eb513758-7dcd-4845-8793-6fc3ad244fac', tool_call_id='vd9z9wdp8'),\n",
       "  ToolMessage(content='5', name='divide', id='9ef4fe33-aea5-42c5-85eb-b5f751bc8470', tool_call_id='55j61gsg8'),\n",
       "  ToolMessage(content='15', name='multiply', id='dc2fd8ac-4d03-45c2-b17c-12bb57a5a521', tool_call_id='fgvgxcrq3'),\n",
       "  AIMessage(content='Note: The final result is 15 because we first added 6 and 4 to get 10, then divided by 2 to get 5, and finally multiplied by 3 to get 15.', additional_kwargs={}, response_metadata={'token_usage': {'completion_tokens': 44, 'prompt_tokens': 488, 'total_tokens': 532, 'completion_time': 0.071589549, 'prompt_time': 0.03245743, 'queue_time': 0.049949828999999994, 'total_time': 0.104046979}, 'model_name': 'llama-3.1-8b-instant', 'system_fingerprint': 'fp_0f5c9bc037', 'finish_reason': 'stop', 'logprobs': None}, id='run--e6a73de1-b997-4a05-9586-d537bebcd07f-0', usage_metadata={'input_tokens': 488, 'output_tokens': 44, 'total_tokens': 532})]}"
      ]
     },
     "execution_count": 25,
     "metadata": {},
     "output_type": "execute_result"
    }
   ],
   "source": [
    "messages = graph.invoke({\"messages\":\"Add 6 and 4, divide by 2 and multiply by 3\"})\n",
    "messages"
   ]
  },
  {
   "cell_type": "code",
   "execution_count": null,
   "id": "94b48eb1",
   "metadata": {},
   "outputs": [],
   "source": []
  },
  {
   "cell_type": "code",
   "execution_count": 27,
   "id": "bce74cc5",
   "metadata": {},
   "outputs": [],
   "source": [
    "from pydantic import BaseModel,Field\n",
    "from typing import Annotated, List\n",
    "from langgraph.graph import StateGraph, START, END\n",
    "from langgraph.graph.message import add_messages\n",
    "from langchain_core.messages.utils import AnyMessage"
   ]
  },
  {
   "cell_type": "code",
   "execution_count": 28,
   "id": "aad3dac2",
   "metadata": {},
   "outputs": [],
   "source": [
    "class State(BaseModel):\n",
    "    messages : Annotated[List[AnyMessage],add_messages]"
   ]
  },
  {
   "cell_type": "code",
   "execution_count": 31,
   "id": "68fa7191",
   "metadata": {},
   "outputs": [],
   "source": [
    "def multiply(a:int,b:int) -> int:\n",
    "    \"\"\"\n",
    "    Multiply the two number a and b\n",
    "    \n",
    "    args:\n",
    "    a:int\n",
    "    b:int\n",
    "    \"\"\"\n",
    "    return a*b\n",
    "\n",
    "def add(a:int,b:int) -> int:\n",
    "    \"\"\"\n",
    "    Add the two number a and b\n",
    "    \n",
    "    args:\n",
    "    a:int\n",
    "    b:int\n",
    "    \"\"\"\n",
    "    return a+b\n",
    "\n",
    "def divide(a:int,b:int) -> int:\n",
    "    \"\"\"\n",
    "    Divide the two number a and b\n",
    "    \n",
    "    args:\n",
    "    a:int\n",
    "    b:int\n",
    "    \"\"\"\n",
    "    return int(a/b)"
   ]
  },
  {
   "cell_type": "code",
   "execution_count": 32,
   "id": "485479a4",
   "metadata": {},
   "outputs": [],
   "source": [
    "tools = [multiply,divide,add]"
   ]
  },
  {
   "cell_type": "code",
   "execution_count": 33,
   "id": "970c1c14",
   "metadata": {},
   "outputs": [],
   "source": [
    "llm_with_tools = model.bind_tools(tools)"
   ]
  },
  {
   "cell_type": "code",
   "execution_count": 34,
   "id": "f6aed696",
   "metadata": {},
   "outputs": [
    {
     "data": {
      "text/plain": [
       "AIMessage(content='What would you like to do?', additional_kwargs={}, response_metadata={'token_usage': {'completion_tokens': 8, 'prompt_tokens': 383, 'total_tokens': 391, 'completion_time': 0.013086533, 'prompt_time': 0.022685281, 'queue_time': 0.049580413000000004, 'total_time': 0.035771814}, 'model_name': 'llama-3.1-8b-instant', 'system_fingerprint': 'fp_510c177af0', 'finish_reason': 'stop', 'logprobs': None}, id='run--adf1f1bc-5752-443b-9ac6-8785b9ed54b3-0', usage_metadata={'input_tokens': 383, 'output_tokens': 8, 'total_tokens': 391})"
      ]
     },
     "execution_count": 34,
     "metadata": {},
     "output_type": "execute_result"
    }
   ],
   "source": [
    "llm_with_tools.invoke(\"hi\")"
   ]
  },
  {
   "cell_type": "code",
   "execution_count": null,
   "id": "68c573e5",
   "metadata": {},
   "outputs": [],
   "source": [
    "def llm_tool_func(state:State):\n",
    "    return {\"messages\": llm_with_tools.invoke(state.messages)}"
   ]
  },
  {
   "cell_type": "code",
   "execution_count": 47,
   "id": "3cbcbd07",
   "metadata": {},
   "outputs": [],
   "source": [
    "from langgraph.prebuilt import ToolNode, tools_condition\n",
    "\n",
    "builder = StateGraph(State)\n",
    "builder.add_node(\"assistant\",llm_tool_func)\n",
    "builder.add_node(\"tools\",ToolNode(tools))\n",
    "\n",
    "builder.add_edge(START,\"assistant\")\n",
    "builder.add_conditional_edges(\"assistant\",tools_condition)\n",
    "builder.add_edge(\"tools\",\"assistant\")\n",
    "\n",
    "graph = builder.compile()"
   ]
  },
  {
   "cell_type": "code",
   "execution_count": 48,
   "id": "7ae44629",
   "metadata": {},
   "outputs": [
    {
     "data": {
      "image/png": "[encoded data removed]",
      "text/plain": [
       "<IPython.core.display.Image object>"
      ]
     },
     "metadata": {},
     "output_type": "display_data"
    }
   ],
   "source": [
    "display(Image(graph.get_graph().draw_mermaid_png()))"
   ]
  },
  {
   "cell_type": "code",
   "execution_count": 50,
   "id": "412dd7d8",
   "metadata": {},
   "outputs": [
    {
     "data": {
      "text/plain": [
       "{'messages': [HumanMessage(content='multiply 2 and 3 then add 6 to the result', additional_kwargs={}, response_metadata={}, id='c6409b53-a82d-4e37-8642-d070081aaf37'),\n",
       "  AIMessage(content='', additional_kwargs={'tool_calls': [{'id': 'e75zp1er3', 'function': {'arguments': '{\"a\":2,\"b\":3}', 'name': 'multiply'}, 'type': 'function'}, {'id': 's8y55bf61', 'function': {'arguments': '{\"a\":6,\"b\":6}', 'name': 'add'}, 'type': 'function'}]}, response_metadata={'token_usage': {'completion_tokens': 36, 'prompt_tokens': 395, 'total_tokens': 431, 'completion_time': 0.068843352, 'prompt_time': 0.140811766, 'queue_time': 0.05240019399999998, 'total_time': 0.209655118}, 'model_name': 'llama-3.1-8b-instant', 'system_fingerprint': 'fp_8ab2e50475', 'finish_reason': 'tool_calls', 'logprobs': None}, id='run--f15a2456-be4b-4d4f-8ddd-6fa2bd6e9bba-0', tool_calls=[{'name': 'multiply', 'args': {'a': 2, 'b': 3}, 'id': 'e75zp1er3', 'type': 'tool_call'}, {'name': 'add', 'args': {'a': 6, 'b': 6}, 'id': 's8y55bf61', 'type': 'tool_call'}], usage_metadata={'input_tokens': 395, 'output_tokens': 36, 'total_tokens': 431}),\n",
       "  ToolMessage(content='6', name='multiply', id='302b91a5-0da6-49ec-8f75-1a51b4c32e5f', tool_call_id='e75zp1er3'),\n",
       "  ToolMessage(content='12', name='add', id='f038948b-bf6b-4d65-8b33-445742a33d5f', tool_call_id='s8y55bf61'),\n",
       "  AIMessage(content='The final result is 12.', additional_kwargs={}, response_metadata={'token_usage': {'completion_tokens': 8, 'prompt_tokens': 449, 'total_tokens': 457, 'completion_time': 0.017251094, 'prompt_time': 0.030083297, 'queue_time': 0.051962983000000004, 'total_time': 0.047334391}, 'model_name': 'llama-3.1-8b-instant', 'system_fingerprint': 'fp_510c177af0', 'finish_reason': 'stop', 'logprobs': None}, id='run--c7c11c93-3a67-42ff-9f57-cee8b464fa71-0', usage_metadata={'input_tokens': 449, 'output_tokens': 8, 'total_tokens': 457})]}"
      ]
     },
     "execution_count": 50,
     "metadata": {},
     "output_type": "execute_result"
    }
   ],
   "source": [
    "graph.invoke({\"messages\":\"multiply 2 and 3 then add 6 to the result\"})"
   ]
  },
  {
   "cell_type": "code",
   "execution_count": null,
   "id": "877490b9",
   "metadata": {},
   "outputs": [],
   "source": []
  },
  {
   "cell_type": "code",
   "execution_count": null,
   "id": "34fb709e",
   "metadata": {},
   "outputs": [],
   "source": []
  },
  {
   "cell_type": "code",
   "execution_count": null,
   "id": "0f5ea897",
   "metadata": {},
   "outputs": [],
   "source": []
  },
  {
   "cell_type": "code",
   "execution_count": null,
   "id": "7d13243f",
   "metadata": {},
   "outputs": [],
   "source": []
  }
 ],
 "metadata": {
  "kernelspec": {
   "display_name": "Python 3",
   "language": "python",
   "name": "python3"
  },
  "language_info": {
   "codemirror_mode": {
    "name": "ipython",
    "version": 3
   },
   "file_extension": ".py",
   "mimetype": "text/x-python",
   "name": "python",
   "nbconvert_exporter": "python",
   "pygments_lexer": "ipython3",
   "version": "3.12.7"
  }
 },
 "nbformat": 4,
 "nbformat_minor": 5
}
