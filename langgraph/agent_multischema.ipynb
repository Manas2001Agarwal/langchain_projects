{
 "cells": [
  {
   "cell_type": "code",
   "execution_count": 61,
   "id": "668ab097",
   "metadata": {},
   "outputs": [],
   "source": [
    "from pydantic import BaseModel\n",
    "from typing import Annotated, List, TypedDict\n",
    "from langgraph.graph import StateGraph, START,END\n",
    "from langchain_groq import ChatGroq\n",
    "from langgraph.graph.message import add_messages\n",
    "from langchain_core.messages import AnyMessage\n",
    "\n",
    "from langgraph.prebuilt import ToolNode\n",
    "from langgraph.prebuilt import tools_condition\n",
    "\n",
    "from langgraph.checkpoint.memory import MemorySaver\n",
    "\n",
    "from IPython.display import Image, display"
   ]
  },
  {
   "cell_type": "code",
   "execution_count": 62,
   "id": "1dd28ff1",
   "metadata": {},
   "outputs": [],
   "source": [
    "model = ChatGroq(model=\"llama-3.1-8b-instant\",temperature=0)"
   ]
  },
  {
   "cell_type": "code",
   "execution_count": 64,
   "id": "f12c42b2",
   "metadata": {},
   "outputs": [
    {
     "name": "stdout",
     "output_type": "stream",
     "text": [
      "{\n",
      "  \"questions\": \"sample_questions\"\n",
      "}\n",
      "{\n",
      "  \"questions\": \"sample_questions\",\n",
      "  \"answer\": \"sample_ans\",\n",
      "  \"notes\": \"sample_notes\"\n",
      "}\n",
      "{'answer': 'this is the sample answer'}\n"
     ]
    }
   ],
   "source": [
    "from langchain_core.messages import BaseMessage, ToolMessage\n",
    "from langchain_groq import ChatGroq\n",
    "from langgraph.graph import StateGraph, START, END\n",
    "from pydantic import BaseModel\n",
    "\n",
    "class StateSchema(BaseModel):\n",
    "    questions:str\n",
    "    answer:str\n",
    "    notes:str\n",
    "    \n",
    "class InPutStateSchema(BaseModel):\n",
    "    questions:str\n",
    "\n",
    "class OutPutStateSchema(BaseModel):\n",
    "    answer:str\n",
    "\n",
    "model = ChatGroq(model=\"llama-3.1-8b-instant\",temperature=0)\n",
    "\n",
    "def input_tool_func(state:InPutStateSchema) -> StateSchema:\n",
    "    print(state.model_dump_json(indent=2))\n",
    "    return StateSchema(\n",
    "        questions=state.questions,\n",
    "        answer=\"sample_ans\",\n",
    "        notes = \"sample_notes\"\n",
    "    )\n",
    "    \n",
    "def output_tool_func(state:StateSchema) -> OutPutStateSchema:\n",
    "    print(state.model_dump_json(indent=2))\n",
    "    return OutPutStateSchema(\n",
    "        answer=\"this is the sample answer\"\n",
    "    )\n",
    "    \n",
    "tools = [input_tool_func,output_tool_func]\n",
    "llm_with_tools = model.bind_tools(tools)\n",
    "\n",
    "builder = StateGraph(StateSchema,input=InPutStateSchema,output=OutPutStateSchema)\n",
    "\n",
    "builder.add_node(\"input_node\",input_tool_func)\n",
    "builder.add_node(\"output_node\",output_tool_func)\n",
    "\n",
    "builder.add_edge(START,\"input_node\")\n",
    "builder.add_edge(\"input_node\",\"output_node\")\n",
    "builder.add_edge(\"output_node\",END)\n",
    "\n",
    "graph = builder.compile()\n",
    "\n",
    "# Invoke the graph with an instance of InPutStateSchema\n",
    "result = graph.invoke(InPutStateSchema(questions=\"sample_questions\"))\n",
    "print(result)"
   ]
  },
  {
   "cell_type": "code",
   "execution_count": null,
   "id": "a13dfc85",
   "metadata": {},
   "outputs": [],
   "source": []
  }
 ],
 "metadata": {
  "kernelspec": {
   "display_name": "Python 3",
   "language": "python",
   "name": "python3"
  },
  "language_info": {
   "codemirror_mode": {
    "name": "ipython",
    "version": 3
   },
   "file_extension": ".py",
   "mimetype": "text/x-python",
   "name": "python",
   "nbconvert_exporter": "python",
   "pygments_lexer": "ipython3",
   "version": "3.12.7"
  }
 },
 "nbformat": 4,
 "nbformat_minor": 5
}
