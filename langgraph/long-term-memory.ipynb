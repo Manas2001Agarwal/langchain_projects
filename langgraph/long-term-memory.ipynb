{
 "cells": [
  {
   "cell_type": "code",
   "execution_count": 1,
   "id": "57fe0b9c",
   "metadata": {},
   "outputs": [
    {
     "data": {
      "text/plain": [
       "True"
      ]
     },
     "execution_count": 1,
     "metadata": {},
     "output_type": "execute_result"
    }
   ],
   "source": [
    "from langgraph.graph import START, END, StateGraph\n",
    "from langchain_groq import ChatGroq\n",
    "from dotenv import load_dotenv\n",
    "from langgraph.checkpoint.memory import MemorySaver\n",
    "from langgraph.store.memory import InMemoryStore, BaseStore\n",
    "from langgraph.graph.message import add_messages\n",
    "from langchain_core.messages import AnyMessage, HumanMessage, SystemMessage\n",
    "from typing import List, Annotated, TypedDict\n",
    "from langchain.schema.runnable import RunnableConfig\n",
    "\n",
    "from IPython.display import display, Image\n",
    "from operator import add\n",
    "load_dotenv()"
   ]
  },
  {
   "cell_type": "code",
   "execution_count": 2,
   "id": "9740ebbe",
   "metadata": {},
   "outputs": [],
   "source": [
    "model = ChatGroq(model = \"meta-llama/llama-4-maverick-17b-128e-instruct\",temperature=0)"
   ]
  },
  {
   "cell_type": "code",
   "execution_count": 3,
   "id": "ed04bb80",
   "metadata": {},
   "outputs": [],
   "source": [
    "class State(TypedDict):\n",
    "    messages : Annotated[List[AnyMessage],add_messages]\n",
    "    user_info: Annotated[list[str],add]\n",
    "    \n",
    " \n",
    "MODEL_SYSTEM_MESSAGE = \"\"\"You are a helpful assistant with memory that provides information about the user. \n",
    "If you have memory for this user, use it to personalize your responses.\n",
    "Here is the memory (it may be empty): {memory}\"\"\"\n",
    "    \n",
    "def read_memory(state:State,config:RunnableConfig,store:BaseStore):\n",
    "    user_id = config['configurable'][\"user_id\"]\n",
    "    namespace = (\"memory\",user_id)\n",
    "    key = \"user_memory\"\n",
    "    \n",
    "    external_memory = store.get(namespace,key)\n",
    "    if external_memory:\n",
    "        memory_content = external_memory.value.get(\"memory\")\n",
    "    else:\n",
    "        memory_content = None\n",
    "        \n",
    "    prompt_memory = MODEL_SYSTEM_MESSAGE.format(memory = memory_content)\n",
    "    prompt_memory = SystemMessage(content = prompt_memory)\n",
    "    \n",
    "    message = model.invoke([prompt_memory]+state[\"messages\"])\n",
    "    \n",
    "    return {\"messages\":message}\n",
    "    "
   ]
  },
  {
   "cell_type": "code",
   "execution_count": 4,
   "id": "c38a937c",
   "metadata": {},
   "outputs": [],
   "source": [
    "CREATE_MEMORY_INSTRUCTION = \"\"\"You are collecting information about the user to personalize your responses.\n",
    "CURRENT USER INFORMATION (Intially this may be empty):  \n",
    "{memory} \n",
    "\n",
    "INSTRUCTIONS:\n",
    "1. Review the chat history below carefully\n",
    "2. Extract information about user from it\n",
    "\n",
    "Remember: Only include factual information directly stated by the user. Do not make assumptions or inferences.\n",
    "Just update do not remove the previous accumulated info about user\n",
    "\"\"\"\n",
    "\n",
    "def write_memory(state:State, config:RunnableConfig ,store:BaseStore):\n",
    "    user_id = config[\"configurable\"][\"user_id\"]\n",
    "    namespace = (\"memory\",user_id)\n",
    "    key = \"user_memory\"\n",
    "    \n",
    "    existing_memory = store.get(namespace,key)\n",
    "    if existing_memory:\n",
    "        memory_content = existing_memory.value.get(\"memory\")\n",
    "    else:\n",
    "        memory_content = None\n",
    "        \n",
    "    prompt = CREATE_MEMORY_INSTRUCTION.format(memory = memory_content)\n",
    "    new_memory = model.invoke([SystemMessage(content=prompt)]+state['messages'])\n",
    "    \n",
    "    store.put(namespace,key,value={\"memory\":new_memory.content})\n",
    "    return {\"user_info\": [new_memory.content]}"
   ]
  },
  {
   "cell_type": "code",
   "execution_count": 5,
   "id": "94c08ba3",
   "metadata": {},
   "outputs": [
    {
     "data": {
      "image/png": "[encoded data removed]",
      "text/plain": [
       "<IPython.core.display.Image object>"
      ]
     },
     "metadata": {},
     "output_type": "display_data"
    }
   ],
   "source": [
    "builder = StateGraph(State)\n",
    "memory = MemorySaver()\n",
    "store = InMemoryStore()\n",
    "config = {\"configurable\":{\"thread_id\":\"1\",\"user_id\":\"1\"}}\n",
    "\n",
    "builder.add_node(\"read_memory\",read_memory)\n",
    "builder.add_node(\"write_memory\",write_memory)\n",
    "\n",
    "builder.add_edge(START,\"read_memory\")\n",
    "builder.add_edge(\"read_memory\",\"write_memory\")\n",
    "builder.add_edge(\"write_memory\",END)\n",
    "\n",
    "graph = builder.compile(checkpointer=memory,store=store)\n",
    "display(Image(graph.get_graph().draw_mermaid_png()))"
   ]
  },
  {
   "cell_type": "code",
   "execution_count": 6,
   "id": "11a6f25a",
   "metadata": {},
   "outputs": [
    {
     "name": "stdout",
     "output_type": "stream",
     "text": [
      "================================\u001b[1m Human Message \u001b[0m=================================\n",
      "\n",
      "My name is Manas,I like pizza.\n",
      "==================================\u001b[1m Ai Message \u001b[0m==================================\n",
      "\n",
      "Nice to meet you, Manas! I'll make sure to remember that you're a pizza fan. I'll store this information for future conversations. So, what's your favorite type of pizza, Manas?\n",
      "==================================\u001b[1m Ai Message \u001b[0m==================================\n",
      "\n",
      "Nice to meet you, Manas! I'll make sure to remember that you're a pizza fan. I'll store this information for future conversations. So, what's your favorite type of pizza, Manas?\n"
     ]
    }
   ],
   "source": [
    "config = {\"configurable\":{\"thread_id\":\"1\",\"user_id\":\"1\"}}\n",
    "\n",
    "for chunk in graph.stream({\"messages\":[HumanMessage(\"My name is Manas,I like pizza.\")]},config=config, stream_mode=\"values\"):\n",
    "    chunk['messages'][-1].pretty_print()"
   ]
  },
  {
   "cell_type": "code",
   "execution_count": 7,
   "id": "3fc0de58",
   "metadata": {},
   "outputs": [
    {
     "name": "stdout",
     "output_type": "stream",
     "text": [
      "================================\u001b[1m Human Message \u001b[0m=================================\n",
      "\n",
      "My name is Manas,I like pizza.\n",
      "==================================\u001b[1m Ai Message \u001b[0m==================================\n",
      "\n",
      "Nice to meet you, Manas! I'll make sure to remember that you're a pizza fan. I'll store this information for future conversations. So, what's your favorite type of pizza, Manas?\n"
     ]
    }
   ],
   "source": [
    "thread = {\"configurable\": {\"thread_id\": \"1\",\"user_id\":\"1\"}}\n",
    "state = graph.get_state(thread).values\n",
    "for m in state[\"messages\"]: \n",
    "    m.pretty_print()"
   ]
  },
  {
   "cell_type": "code",
   "execution_count": 8,
   "id": "1af952c4",
   "metadata": {},
   "outputs": [
    {
     "name": "stdout",
     "output_type": "stream",
     "text": [
      "================================\u001b[1m Human Message \u001b[0m=================================\n",
      "\n",
      "I live in Gachibowli, Hyderabad. From the above filter out the ones that are 5 km away from me. Also give the address of each outlet near me\n",
      "==================================\u001b[1m Ai Message \u001b[0m==================================\n",
      "\n",
      "I'm happy to help you, Manas. However, I don't have real-time information about pizza outlets in Gachibowli, Hyderabad. But I can guide you on how to find the information you're looking for.\n",
      "\n",
      "To find pizza outlets within 5 km of your location, you can use online directories like Google Maps or food delivery apps like Swiggy or Zomato. Here's how:\n",
      "\n",
      "1. Open Google Maps or a food delivery app on your device.\n",
      "2. Enter \"pizza outlets near me\" or \"pizza places in Gachibowli\" in the search bar.\n",
      "3. The app will show you a list of nearby pizza outlets along with their addresses and distances from your location.\n",
      "4. Filter the results to show only outlets within 5 km of your location.\n",
      "\n",
      "Some popular pizza outlets in Hyderabad include:\n",
      "\n",
      "1. Domino's Pizza - Multiple locations, including Gachibowli\n",
      "2. Pizza Hut - Multiple locations, including Gachibowli\n",
      "3. California Pizza Kitchen - Gachibowli\n",
      "4. Pizza Corner - Gachibowli\n",
      "5. Papa John's Pizza - Gachibowli\n",
      "\n",
      "You can search for these outlets on Google Maps to get their exact addresses and distances from your location.\n",
      "\n",
      "Would you like more information about any of these outlets, Manas?\n",
      "==================================\u001b[1m Ai Message \u001b[0m==================================\n",
      "\n",
      "I'm happy to help you, Manas. However, I don't have real-time information about pizza outlets in Gachibowli, Hyderabad. But I can guide you on how to find the information you're looking for.\n",
      "\n",
      "To find pizza outlets within 5 km of your location, you can use online directories like Google Maps or food delivery apps like Swiggy or Zomato. Here's how:\n",
      "\n",
      "1. Open Google Maps or a food delivery app on your device.\n",
      "2. Enter \"pizza outlets near me\" or \"pizza places in Gachibowli\" in the search bar.\n",
      "3. The app will show you a list of nearby pizza outlets along with their addresses and distances from your location.\n",
      "4. Filter the results to show only outlets within 5 km of your location.\n",
      "\n",
      "Some popular pizza outlets in Hyderabad include:\n",
      "\n",
      "1. Domino's Pizza - Multiple locations, including Gachibowli\n",
      "2. Pizza Hut - Multiple locations, including Gachibowli\n",
      "3. California Pizza Kitchen - Gachibowli\n",
      "4. Pizza Corner - Gachibowli\n",
      "5. Papa John's Pizza - Gachibowli\n",
      "\n",
      "You can search for these outlets on Google Maps to get their exact addresses and distances from your location.\n",
      "\n",
      "Would you like more information about any of these outlets, Manas?\n"
     ]
    }
   ],
   "source": [
    "for chunk in graph.stream({\"messages\":[HumanMessage(\"I live in Gachibowli, Hyderabad. From the above filter out the ones that are 5 km away from me. Also give the address of each outlet near me\")]},config=config, stream_mode=\"values\"):\n",
    "    chunk['messages'][-1].pretty_print()"
   ]
  },
  {
   "cell_type": "code",
   "execution_count": 9,
   "id": "a6783845",
   "metadata": {},
   "outputs": [
    {
     "name": "stdout",
     "output_type": "stream",
     "text": [
      "================================\u001b[1m Human Message \u001b[0m=================================\n",
      "\n",
      "Do you know what I like\n",
      "==================================\u001b[1m Ai Message \u001b[0m==================================\n",
      "\n",
      "You like Pizza, don't you? I remember that about you, Manas.\n",
      "==================================\u001b[1m Ai Message \u001b[0m==================================\n",
      "\n",
      "You like Pizza, don't you? I remember that about you, Manas.\n"
     ]
    }
   ],
   "source": [
    "config = {\"configurable\":{\"thread_id\":'2',\"user_id\":\"1\"}}\n",
    "\n",
    "for chunk in graph.stream({\"messages\":\"Do you know what I like\"},config=config, stream_mode=\"values\"):\n",
    "    chunk['messages'][-1].pretty_print()"
   ]
  },
  {
   "cell_type": "code",
   "execution_count": 10,
   "id": "6391b5b7",
   "metadata": {},
   "outputs": [
    {
     "name": "stdout",
     "output_type": "stream",
     "text": [
      "================================\u001b[1m Human Message \u001b[0m=================================\n",
      "\n",
      "Do you know where I live\n",
      "==================================\u001b[1m Ai Message \u001b[0m==================================\n",
      "\n",
      "You live in Gachibowli, if I'm not mistaken. You mentioned it before, and I recall that you were asking me how life was treating you there.\n",
      "==================================\u001b[1m Ai Message \u001b[0m==================================\n",
      "\n",
      "You live in Gachibowli, if I'm not mistaken. You mentioned it before, and I recall that you were asking me how life was treating you there.\n"
     ]
    }
   ],
   "source": [
    "config = {\"configurable\":{\"thread_id\":\"2\",\"user_id\":\"1\"}}\n",
    "\n",
    "for chunk in graph.stream({\"messages\":\"Do you know where I live\"},config=config, stream_mode=\"values\"):\n",
    "    chunk['messages'][-1].pretty_print()"
   ]
  },
  {
   "cell_type": "code",
   "execution_count": null,
   "id": "ee1ddf7f",
   "metadata": {},
   "outputs": [],
   "source": [
    "config = {\"configurable\":{\"thread_id\":\"3\",\"user_id\":\"1\"}}\n",
    "\n",
    "for chunk in graph.stream({\"messages\":\"Do you know where I live\"},config=config, stream_mode=\"values\"):\n",
    "    chunk['messages'][-1].pretty_print()"
   ]
  },
  {
   "cell_type": "code",
   "execution_count": 11,
   "id": "f0e46c19",
   "metadata": {},
   "outputs": [
    {
     "data": {
      "text/plain": [
       "Item(namespace=['memory', '1'], key='user_memory', value={'memory': ''}, created_at='2025-07-06T20:23:21.438702+00:00', updated_at='2025-07-06T20:23:21.438719+00:00')"
      ]
     },
     "execution_count": 11,
     "metadata": {},
     "output_type": "execute_result"
    }
   ],
   "source": [
    "# Namespace for the memory to save\n",
    "user_id = \"1\"\n",
    "namespace = (\"memory\", user_id)\n",
    "existing_memory = store.get(namespace, \"user_memory\")\n",
    "existing_memory"
   ]
  },
  {
   "cell_type": "code",
   "execution_count": 12,
   "id": "fb14928b",
   "metadata": {},
   "outputs": [
    {
     "data": {
      "text/plain": [
       "[\" \\n\\nHere's the information I've gathered about you so far:\\n- Name: Manas\\n- Likes: Pizza\",\n",
       " \" \\n\\nBy the way, I've updated the information about you:\\n- Name: Manas\\n- Likes: Pizza \\n- Lives in: Gachibowli, Hyderabad\"]"
      ]
     },
     "execution_count": 12,
     "metadata": {},
     "output_type": "execute_result"
    }
   ],
   "source": [
    "graph.get_state(config={\"configurable\": {\"thread_id\": \"1\",\"user_id\":\"1\"}}).values['user_info']"
   ]
  },
  {
   "cell_type": "code",
   "execution_count": null,
   "id": "0ef7192a",
   "metadata": {},
   "outputs": [],
   "source": []
  },
  {
   "cell_type": "code",
   "execution_count": null,
   "id": "07938004",
   "metadata": {},
   "outputs": [],
   "source": []
  },
  {
   "cell_type": "code",
   "execution_count": 14,
   "id": "eab7b1df",
   "metadata": {},
   "outputs": [],
   "source": [
    "from typing import TypedDict, List\n",
    "class UserProfile(TypedDict):\n",
    "    name:str\n",
    "    interests:List[str]"
   ]
  },
  {
   "cell_type": "code",
   "execution_count": 15,
   "id": "1bc84654",
   "metadata": {},
   "outputs": [],
   "source": [
    "user_profile = UserProfile(\n",
    "    name = \"Manas\",\n",
    "    interests = [\"Data Science\",\"Machine Learning\",\"NLP\",\"Computer Vision\",\"Robotics\",\"Product Management\"]\n",
    ")"
   ]
  },
  {
   "cell_type": "code",
   "execution_count": 17,
   "id": "f80e394f",
   "metadata": {},
   "outputs": [
    {
     "data": {
      "text/plain": [
       "{'name': 'Manas',\n",
       " 'interests': ['Data Science',\n",
       "  'Machine Learning',\n",
       "  'NLP',\n",
       "  'Computer Vision',\n",
       "  'Robotics',\n",
       "  'Product Management']}"
      ]
     },
     "execution_count": 17,
     "metadata": {},
     "output_type": "execute_result"
    }
   ],
   "source": [
    "user_profile"
   ]
  },
  {
   "cell_type": "code",
   "execution_count": 18,
   "id": "0ea0dfe0",
   "metadata": {},
   "outputs": [],
   "source": [
    "from langgraph.store.memory import InMemoryStore\n",
    "import uuid\n",
    "\n",
    "user_id = str(uuid.uuid4())\n",
    "\n",
    "store = InMemoryStore()\n",
    "namespace = (\"user_id\",user_id)\n",
    "key = \"user_profile\"\n",
    "\n",
    "store.put(namespace,key,value=user_profile)"
   ]
  },
  {
   "cell_type": "code",
   "execution_count": 20,
   "id": "9ef1cbec",
   "metadata": {},
   "outputs": [
    {
     "data": {
      "text/plain": [
       "{'name': 'Manas',\n",
       " 'interests': ['Data Science',\n",
       "  'Machine Learning',\n",
       "  'NLP',\n",
       "  'Computer Vision',\n",
       "  'Robotics',\n",
       "  'Product Management']}"
      ]
     },
     "execution_count": 20,
     "metadata": {},
     "output_type": "execute_result"
    }
   ],
   "source": [
    "existing_memory = store.get(namespace,key).value\n",
    "existing_memory"
   ]
  },
  {
   "cell_type": "code",
   "execution_count": 21,
   "id": "82243a43",
   "metadata": {},
   "outputs": [],
   "source": [
    "from pydantic import BaseModel, Field\n",
    "class UserProfile(BaseModel):\n",
    "    name:str = Field(description=\"name of the user\")\n",
    "    interests:List[str] = Field(description=\"interests of the user\")"
   ]
  },
  {
   "cell_type": "code",
   "execution_count": 22,
   "id": "5140c4b5",
   "metadata": {},
   "outputs": [
    {
     "data": {
      "text/plain": [
       "UserProfile(name='Manas Agarwal', interests=['dancing', 'going to the gym', 'cooking great food', 'eating great food'])"
      ]
     },
     "execution_count": 22,
     "metadata": {},
     "output_type": "execute_result"
    }
   ],
   "source": [
    "model = ChatGroq(model = \"llama-3.1-8b-instant\")\n",
    "structured_llm = model.with_structured_output(schema=UserProfile)\n",
    "result = structured_llm.invoke(input = [HumanMessage(content=\"I am Manas Agarwal. I like to dance, go to GYM, cook great food, eat great food\")])\n",
    "result"
   ]
  },
  {
   "cell_type": "code",
   "execution_count": 25,
   "id": "4664d24d",
   "metadata": {},
   "outputs": [
    {
     "data": {
      "text/plain": [
       "{'name': 'Manas Agarwal',\n",
       " 'interests': ['dancing',\n",
       "  'going to the gym',\n",
       "  'cooking great food',\n",
       "  'eating great food']}"
      ]
     },
     "execution_count": 25,
     "metadata": {},
     "output_type": "execute_result"
    }
   ],
   "source": [
    "dict_result = result.model_dump()\n",
    "dict_result"
   ]
  },
  {
   "cell_type": "code",
   "execution_count": 27,
   "id": "b4bd7da8",
   "metadata": {},
   "outputs": [
    {
     "data": {
      "text/plain": [
       "{'name': 'Manas Agarwal',\n",
       " 'interests': ['dancing',\n",
       "  'going to the gym',\n",
       "  'cooking great food',\n",
       "  'eating great food']}"
      ]
     },
     "execution_count": 27,
     "metadata": {},
     "output_type": "execute_result"
    }
   ],
   "source": [
    "mem_store = InMemoryStore()\n",
    "mem_store.put(namespace,key,dict_result)\n",
    "existing_memory = mem_store.get(namespace,key)\n",
    "existing_memory.value"
   ]
  },
  {
   "cell_type": "code",
   "execution_count": 28,
   "id": "4d97bebb",
   "metadata": {},
   "outputs": [
    {
     "data": {
      "text/plain": [
       "True"
      ]
     },
     "execution_count": 28,
     "metadata": {},
     "output_type": "execute_result"
    }
   ],
   "source": [
    "from langgraph.graph import START, END, StateGraph\n",
    "from langchain_groq import ChatGroq\n",
    "from dotenv import load_dotenv\n",
    "from langgraph.checkpoint.memory import MemorySaver\n",
    "from langgraph.store.memory import InMemoryStore, BaseStore\n",
    "from langgraph.graph.message import add_messages\n",
    "from langchain_core.messages import AnyMessage, HumanMessage, SystemMessage\n",
    "from typing import List, Annotated, TypedDict\n",
    "from langchain.schema.runnable import RunnableConfig\n",
    "\n",
    "from IPython.display import display, Image\n",
    "from operator import add\n",
    "load_dotenv()"
   ]
  },
  {
   "cell_type": "code",
   "execution_count": 29,
   "id": "3726ac22",
   "metadata": {},
   "outputs": [],
   "source": [
    "class State(TypedDict):\n",
    "    messages:Annotated[List[AnyMessage],add_messages]"
   ]
  },
  {
   "cell_type": "code",
   "execution_count": 31,
   "id": "7dec41b7",
   "metadata": {},
   "outputs": [],
   "source": [
    "from pydantic import BaseModel, Field\n",
    "\n",
    "class UserProfile(BaseModel):\n",
    "    name:str = Field(description=\"name of the user\")\n",
    "    interests:List[str] = Field(description=\"interests of the user\")"
   ]
  },
  {
   "cell_type": "code",
   "execution_count": 30,
   "id": "d91aea34",
   "metadata": {},
   "outputs": [],
   "source": [
    "MODEL_SYSTEM_MESSAGE = \"\"\"You are a helpful assistant with memory that provides information about the user. \n",
    "If you have memory for this user, use it to personalize your responses.\n",
    "Here is the memory (it may be empty): {memory}\"\"\"\n",
    "\n",
    "def read_memory(state:State,config:RunnableConfig,store:BaseStore):\n",
    "    \n",
    "    namespace = (\"user_memory\",user_id)\n",
    "    key = \"user_profile\"\n",
    "    \n",
    "    existing_memory = store.get(namespace,key)\n",
    "    if existing_memory and existing_memory.value:\n",
    "        formatted_memory = (\n",
    "            f\"Name: {existing_memory.value.get('name','Unknown')}\\n\"\n",
    "            f\"Interests: {\", \".join(existing_memory.value.get('interests',[]))}\"\n",
    "        )\n",
    "    else:\n",
    "        formatted_memory = None\n",
    "        \n",
    "    formatted_prompt = MODEL_SYSTEM_MESSAGE.format(memory = formatted_memory)\n",
    "    response = model.invoke([SystemMessage(content=formatted_prompt)]+state['messages'])\n",
    "    return {\"messages\":response}\n",
    "    "
   ]
  },
  {
   "cell_type": "code",
   "execution_count": 32,
   "id": "15ea3d12",
   "metadata": {},
   "outputs": [],
   "source": [
    "CREATE_MEMORY_INSTRUCTION = \"\"\"Create or update a user profile memory based on the user's chat history. \n",
    "This will be saved for long-term memory. If there is an existing memory, simply update it. \n",
    "Here is the existing memory (it may be empty): {memory}\"\"\"\n",
    "\n",
    "def write_memory(state:State,config:RunnableConfig,store:BaseStore):\n",
    "    \n",
    "    namespace = (\"user_memory\",user_id)\n",
    "    key = \"user_profile\"\n",
    "    \n",
    "    existing_memory = store.get(namespace,key)\n",
    "    if existing_memory and existing_memory.value:\n",
    "        formatted_memory = (\n",
    "            f\"Name: {existing_memory.value.get('name','Unknown')}\\n\"\n",
    "            f\"Interests: {\", \".join(existing_memory.value.get('interests',[]))}\"\n",
    "        )\n",
    "    else:\n",
    "        formatted_memory = None\n",
    "    \n",
    "    formatted_prompt = CREATE_MEMORY_INSTRUCTION.format(memory = formatted_memory)\n",
    "    structured_llm = model.with_structured_output(schema=UserProfile)    \n",
    "    response = structured_llm.invoke([SystemMessage(content=formatted_prompt)]+state['messages'])\n",
    "    store.put(namespace,key,response.model_dump())"
   ]
  },
  {
   "cell_type": "code",
   "execution_count": null,
   "id": "813362e9",
   "metadata": {},
   "outputs": [
    {
     "data": {
      "image/png": "[encoded data removed]",
      "text/plain": [
       "<IPython.core.display.Image object>"
      ]
     },
     "metadata": {},
     "output_type": "display_data"
    }
   ],
   "source": [
    "builder = StateGraph(State)\n",
    "memory = MemorySaver()\n",
    "store = InMemoryStore()\n",
    "\n",
    "builder.add_node(\"read_memory\",read_memory)\n",
    "builder.add_node(\"write_memory\",write_memory)\n",
    "\n",
    "builder.add_edge(START,\"read_memory\")\n",
    "builder.add_edge(\"read_memory\",\"write_memory\")\n",
    "builder.add_edge(\"write_memory\",END)\n",
    "\n",
    "graph = builder.compile(checkpointer=memory,store=store)\n",
    "display(Image(graph.get_graph().draw_mermaid_png()))"
   ]
  },
  {
   "cell_type": "code",
   "execution_count": 35,
   "id": "203d8e68",
   "metadata": {},
   "outputs": [
    {
     "name": "stdout",
     "output_type": "stream",
     "text": [
      "================================\u001b[1m Human Message \u001b[0m=================================\n",
      "\n",
      "Hi I am Manas. I like dancing and swimming\n",
      "==================================\u001b[1m Ai Message \u001b[0m==================================\n",
      "\n",
      "Nice to meet you, Manas. I'm glad to learn that you enjoy dancing and swimming. I'll make a note of this for our conversation history. \n",
      "\n",
      "So, which type of dance do you enjoy the most - classical, contemporary, or something else? And do you have a favorite swimming stroke or a favorite pool to swim in?\n"
     ]
    }
   ],
   "source": [
    "config = {\"configurable\":{\"thread_id\":\"first\",\"user_id\":\"1\"}}\n",
    "for chunk in graph.stream({\"messages\":\"Hi I am Manas. I like dancing and swimming\"},config=config,stream_mode=\"values\"):\n",
    "    chunk['messages'][-1].pretty_print()"
   ]
  },
  {
   "cell_type": "code",
   "execution_count": 38,
   "id": "78844a45",
   "metadata": {},
   "outputs": [
    {
     "data": {
      "text/plain": [
       "{'name': 'Manas', 'interests': ['dancing', 'swimming', 'healthy eating']}"
      ]
     },
     "execution_count": 38,
     "metadata": {},
     "output_type": "execute_result"
    }
   ],
   "source": [
    "namespace = (\"user_memory\",user_id)\n",
    "key = \"user_profile\"\n",
    "mem = store.get(namespace,key)\n",
    "mem.value"
   ]
  },
  {
   "cell_type": "code",
   "execution_count": 37,
   "id": "e81ce6cf",
   "metadata": {},
   "outputs": [
    {
     "name": "stdout",
     "output_type": "stream",
     "text": [
      "================================\u001b[1m Human Message \u001b[0m=================================\n",
      "\n",
      "After swimming I like to eat healthy salad\n",
      "==================================\u001b[1m Ai Message \u001b[0m==================================\n",
      "\n",
      "It's great that you enjoy eating healthy after your swim, Manas. Salads are a fantastic choice, and they're perfect for refueling after a workout like swimming. \n",
      "\n",
      "I'm glad I was able to remember that you enjoy swimming, and now I know that you also prioritize healthy eating. Do you have a go-to place to get your favorite salads or do you like making them at home?\n"
     ]
    }
   ],
   "source": [
    "config = {\"configurable\":{\"thread_id\":\"first\",\"user_id\":\"1\"}}\n",
    "for chunk in graph.stream({\"messages\":\"After swimming I like to eat healthy salad\"},config=config,stream_mode=\"values\"):\n",
    "    chunk['messages'][-1].pretty_print()"
   ]
  },
  {
   "cell_type": "code",
   "execution_count": null,
   "id": "c7df3fd3",
   "metadata": {},
   "outputs": [
    {
     "name": "stdout",
     "output_type": "stream",
     "text": [
      "================================\u001b[1m Human Message \u001b[0m=================================\n",
      "\n",
      "what is my name and what are interests\n",
      "==================================\u001b[1m Ai Message \u001b[0m==================================\n",
      "\n",
      "Nice to assist you, Manas. \n",
      "\n",
      "You are Manas, and your interests include:\n",
      "\n",
      "1. Dancing\n",
      "2. Swimming\n",
      "3. Healthy eating\n",
      "\n",
      "I'll keep these in mind as we chat. How can I help you today?\n"
     ]
    }
   ],
   "source": [
    "config = {\"configurable\":{\"thread_id\":\"third\",\"user_id\":\"1\"}}\n",
    "\n",
    "for chunk in graph.stream({\"messages\":\"what is my name and what are interests\"},config=config,stream_mode=\"values\"):\n",
    "    chunk['messages'][-1].pretty_print()"
   ]
  },
  {
   "cell_type": "code",
   "execution_count": null,
   "id": "5558fe45",
   "metadata": {},
   "outputs": [],
   "source": []
  }
 ],
 "metadata": {
  "kernelspec": {
   "display_name": "Python 3",
   "language": "python",
   "name": "python3"
  },
  "language_info": {
   "codemirror_mode": {
    "name": "ipython",
    "version": 3
   },
   "file_extension": ".py",
   "mimetype": "text/x-python",
   "name": "python",
   "nbconvert_exporter": "python",
   "pygments_lexer": "ipython3",
   "version": "3.12.7"
  }
 },
 "nbformat": 4,
 "nbformat_minor": 5
}
