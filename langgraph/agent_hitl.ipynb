{
 "cells": [
  {
   "cell_type": "code",
   "execution_count": 1,
   "id": "87ba98cb",
   "metadata": {},
   "outputs": [],
   "source": [
    "from dotenv import load_dotenv\n",
    "from langchain_core.messages import HumanMessage, AnyMessage\n",
    "from langgraph.graph.message import add_messages\n",
    "from langchain_groq import ChatGroq\n",
    "from langgraph.graph import StateGraph, START, END\n",
    "from typing import TypedDict, Annotated, List\n",
    "from IPython.display import display, Image\n",
    "from langgraph.prebuilt import ToolNode, tools_condition\n",
    "from langgraph.checkpoint.memory import MemorySaver\n",
    "from langgraph.errors import NodeInterrupt"
   ]
  },
  {
   "cell_type": "code",
   "execution_count": 2,
   "id": "0c37c9b7",
   "metadata": {},
   "outputs": [
    {
     "data": {
      "image/png": "[encoded data removed]",
      "text/plain": [
       "<IPython.core.display.Image object>"
      ]
     },
     "metadata": {},
     "output_type": "display_data"
    }
   ],
   "source": [
    "model = ChatGroq(model = \"llama-3.1-8b-instant\",temperature=0)\n",
    "\n",
    "class State(TypedDict):\n",
    "    messages: Annotated[List[AnyMessage],add_messages]\n",
    "    \n",
    "def multiply(a:int,b:int) -> int:\n",
    "    \"\"\"\n",
    "    Multiply two numbers a and b\n",
    "    \"\"\"\n",
    "    return a*b\n",
    "\n",
    "def add(a:int,b:int) -> int:\n",
    "    \"\"\"\n",
    "    Add two numbers a and b\n",
    "    \"\"\"\n",
    "    return a+b\n",
    "\n",
    "def divide(a:int,b:int) -> int:\n",
    "    \"\"\"\n",
    "    Divide two numbers a and b\n",
    "    \"\"\"\n",
    "    return int(a/b)\n",
    "\n",
    "tools = [multiply,add,divide]\n",
    "llm_with_tools = model.bind_tools(tools)\n",
    "memory = MemorySaver()\n",
    "\n",
    "def assistant(state:State):\n",
    "    message_str = state[\"messages\"][-1].content\n",
    "    if \"substract\" in message_str:\n",
    "        raise NodeInterrupt(\"substractions not supported - change instruction\")\n",
    "    \n",
    "    return {\"messages\":[llm_with_tools.invoke(state['messages'])]}\n",
    "\n",
    "builder = StateGraph(State)\n",
    "builder.add_node(\"assistant\",assistant)\n",
    "builder.add_node(\"tools\",ToolNode(tools))\n",
    "\n",
    "\n",
    "builder.add_edge(START,\"assistant\")\n",
    "builder.add_conditional_edges(\"assistant\",tools_condition)\n",
    "builder.add_edge(\"tools\",\"assistant\")\n",
    "\n",
    "graph = builder.compile(checkpointer=memory)\n",
    "\n",
    "display(Image(graph.get_graph().draw_mermaid_png()))"
   ]
  },
  {
   "cell_type": "code",
   "execution_count": 3,
   "id": "04c5db05",
   "metadata": {},
   "outputs": [
    {
     "name": "stdout",
     "output_type": "stream",
     "text": [
      "================================\u001b[1m Human Message \u001b[0m=================================\n",
      "\n",
      "What is 4 plus 3 ?\n",
      "==================================\u001b[1m Ai Message \u001b[0m==================================\n",
      "Tool Calls:\n",
      "  add (hqgrnwwvs)\n",
      " Call ID: hqgrnwwvs\n",
      "  Args:\n",
      "    a: 4\n",
      "    b: 3\n",
      "=================================\u001b[1m Tool Message \u001b[0m=================================\n",
      "Name: add\n",
      "\n",
      "7\n",
      "==================================\u001b[1m Ai Message \u001b[0m==================================\n",
      "\n",
      "The result of 4 plus 3 is 7.\n"
     ]
    }
   ],
   "source": [
    "config = {\"configurable\":{\"thread_id\":\"first\"}}\n",
    "for chunk in graph.stream({\"messages\":\"What is 4 plus 3 ?\"},config=config,stream_mode=\"values\"):\n",
    "    chunk[\"messages\"][-1].pretty_print()"
   ]
  },
  {
   "cell_type": "code",
   "execution_count": null,
   "id": "f1d3dba2",
   "metadata": {},
   "outputs": [],
   "source": [
    "config = {\"configurable\":{\"thread_id\":\"first\"}}\n",
    "for chunk in graph.stream({\"messages\":\"What will we get when substract 9 from result ?\"},config=config,stream_mode=\"values\"):\n",
    "    chunk[\"messages\"][-1].pretty_print()"
   ]
  },
  {
   "cell_type": "code",
   "execution_count": null,
   "id": "f7eb1599",
   "metadata": {},
   "outputs": [],
   "source": [
    "state = graph.get_state(config)\n",
    "print(state.next)"
   ]
  },
  {
   "cell_type": "code",
   "execution_count": null,
   "id": "a87fa761",
   "metadata": {},
   "outputs": [],
   "source": [
    "print(state.tasks)"
   ]
  },
  {
   "cell_type": "code",
   "execution_count": null,
   "id": "4eb379d6",
   "metadata": {},
   "outputs": [],
   "source": [
    "graph.update_state(config,{\"messages\":\"What will we get when 9 is added to result ?\"})"
   ]
  },
  {
   "cell_type": "code",
   "execution_count": null,
   "id": "b57402da",
   "metadata": {},
   "outputs": [],
   "source": [
    "for chunk in graph.stream(None,config=config,stream_mode=\"values\"):\n",
    "    chunk[\"messages\"][-1].pretty_print()"
   ]
  },
  {
   "cell_type": "code",
   "execution_count": null,
   "id": "23e6a249",
   "metadata": {},
   "outputs": [],
   "source": [
    "config = {\"configurable\":{\"thread_id\":\"fourth\"}}\n",
    "user_query = \"add 2 and 3 \"\n",
    "\n",
    "for chunk in graph.stream({\"messages\":user_query},config=config,stream_mode=\"values\"):\n",
    "        chunk[\"messages\"][-1].pretty_print()\n",
    "            \n",
    "user_input = input(\"Do you want to edit your state ? Press 'yes' for Yes\")\n",
    "if user_input == 'yes':\n",
    "    user_input = input(\"Enter your update message\")\n",
    "    graph.update_state(config,{\"messages\":[HumanMessage(user_input)]},as_node=\"human_feedback\")\n",
    "    \n",
    "    for chunk in graph.stream(None,config=config,stream_mode=\"values\"):\n",
    "        chunk[\"messages\"][-1].pretty_print()\n",
    "    \n",
    "else:\n",
    "    for chunk in graph.stream(None,config=config,stream_mode=\"values\"):\n",
    "        chunk[\"messages\"][-1].pretty_print()"
   ]
  },
  {
   "cell_type": "code",
   "execution_count": null,
   "id": "316786c9",
   "metadata": {},
   "outputs": [],
   "source": [
    "for chunk in graph.stream(None,config=config,stream_mode=\"values\"):\n",
    "    chunk[\"messages\"][-1].pretty_print()"
   ]
  },
  {
   "cell_type": "code",
   "execution_count": 4,
   "id": "b03c4085",
   "metadata": {},
   "outputs": [
    {
     "data": {
      "text/plain": [
       "StateSnapshot(values={'messages': [HumanMessage(content='What is 4 plus 3 ?', additional_kwargs={}, response_metadata={}, id='8f4f5aee-1152-4c4d-bf52-ae8633f82da9'), AIMessage(content='', additional_kwargs={'tool_calls': [{'id': 'hqgrnwwvs', 'function': {'arguments': '{\"a\":4,\"b\":3}', 'name': 'add'}, 'type': 'function'}]}, response_metadata={'token_usage': {'completion_tokens': 18, 'prompt_tokens': 342, 'total_tokens': 360, 'completion_time': 0.024, 'prompt_time': 0.020280677, 'queue_time': 0.052503562000000004, 'total_time': 0.044280677}, 'model_name': 'llama-3.1-8b-instant', 'system_fingerprint': 'fp_510c177af0', 'finish_reason': 'tool_calls', 'logprobs': None}, id='run--4516ef98-23e6-47e3-a802-5d249e303aa8-0', tool_calls=[{'name': 'add', 'args': {'a': 4, 'b': 3}, 'id': 'hqgrnwwvs', 'type': 'tool_call'}], usage_metadata={'input_tokens': 342, 'output_tokens': 18, 'total_tokens': 360}), ToolMessage(content='7', name='add', id='5cca8c6e-2762-4cb4-8832-0018bef64ed8', tool_call_id='hqgrnwwvs'), AIMessage(content='The result of 4 plus 3 is 7.', additional_kwargs={}, response_metadata={'token_usage': {'completion_tokens': 13, 'prompt_tokens': 371, 'total_tokens': 384, 'completion_time': 0.02338355, 'prompt_time': 0.022095954, 'queue_time': 0.050370455999999994, 'total_time': 0.045479504}, 'model_name': 'llama-3.1-8b-instant', 'system_fingerprint': 'fp_0f5c9bc037', 'finish_reason': 'stop', 'logprobs': None}, id='run--4a1b4da6-0511-44d0-b2ee-114be43ee30f-0', usage_metadata={'input_tokens': 371, 'output_tokens': 13, 'total_tokens': 384})]}, next=(), config={'configurable': {'thread_id': 'first', 'checkpoint_ns': '', 'checkpoint_id': '1f058ad3-fb4f-6794-8003-a81fc1d5aabd'}}, metadata={'source': 'loop', 'writes': {'assistant': {'messages': [AIMessage(content='The result of 4 plus 3 is 7.', additional_kwargs={}, response_metadata={'token_usage': {'completion_tokens': 13, 'prompt_tokens': 371, 'total_tokens': 384, 'completion_time': 0.02338355, 'prompt_time': 0.022095954, 'queue_time': 0.050370455999999994, 'total_time': 0.045479504}, 'model_name': 'llama-3.1-8b-instant', 'system_fingerprint': 'fp_0f5c9bc037', 'finish_reason': 'stop', 'logprobs': None}, id='run--4a1b4da6-0511-44d0-b2ee-114be43ee30f-0', usage_metadata={'input_tokens': 371, 'output_tokens': 13, 'total_tokens': 384})]}}, 'step': 3, 'parents': {}, 'thread_id': 'first'}, created_at='2025-07-04T08:02:36.989591+00:00', parent_config={'configurable': {'thread_id': 'first', 'checkpoint_ns': '', 'checkpoint_id': '1f058ad3-f9b6-6f18-8002-025ae42ef8f0'}}, tasks=(), interrupts=())"
      ]
     },
     "execution_count": 4,
     "metadata": {},
     "output_type": "execute_result"
    }
   ],
   "source": [
    "result = graph.get_state(config = {\"configurable\":{\"thread_id\":\"first\"}})\n",
    "result"
   ]
  },
  {
   "cell_type": "code",
   "execution_count": 7,
   "id": "50c0a867",
   "metadata": {},
   "outputs": [],
   "source": [
    "result = graph.get_state_history(config={\"configurable\":{\"thread_id\":\"first\"}})"
   ]
  },
  {
   "cell_type": "code",
   "execution_count": 13,
   "id": "4a6b190e",
   "metadata": {},
   "outputs": [
    {
     "data": {
      "text/plain": [
       "{'configurable': {'thread_id': 'first',\n",
       "  'checkpoint_ns': '',\n",
       "  'checkpoint_id': '1f058ad3-f727-6680-8000-2e0734ce2a39'}}"
      ]
     },
     "execution_count": 13,
     "metadata": {},
     "output_type": "execute_result"
    }
   ],
   "source": [
    "result = list(result)\n",
    "config = result[-2].config\n",
    "config"
   ]
  },
  {
   "cell_type": "code",
   "execution_count": 19,
   "id": "f7dab385",
   "metadata": {},
   "outputs": [
    {
     "data": {
      "text/plain": [
       "'8f4f5aee-1152-4c4d-bf52-ae8633f82da9'"
      ]
     },
     "execution_count": 19,
     "metadata": {},
     "output_type": "execute_result"
    }
   ],
   "source": [
    "result[-2].values['messages'][0].id"
   ]
  },
  {
   "cell_type": "code",
   "execution_count": 14,
   "id": "07b5731d",
   "metadata": {},
   "outputs": [
    {
     "name": "stdout",
     "output_type": "stream",
     "text": [
      "================================\u001b[1m Human Message \u001b[0m=================================\n",
      "\n",
      "What is 4 plus 3 ?\n",
      "==================================\u001b[1m Ai Message \u001b[0m==================================\n",
      "Tool Calls:\n",
      "  add (m321atwbx)\n",
      " Call ID: m321atwbx\n",
      "  Args:\n",
      "    a: 4\n",
      "    b: 3\n",
      "=================================\u001b[1m Tool Message \u001b[0m=================================\n",
      "Name: add\n",
      "\n",
      "7\n",
      "==================================\u001b[1m Ai Message \u001b[0m==================================\n",
      "\n",
      "The result of 4 plus 3 is 7.\n"
     ]
    }
   ],
   "source": [
    "## rerun\n",
    "for chunk in graph.stream(None,config=config,stream_mode=\"values\"):\n",
    "    chunk['messages'][-1].pretty_print()"
   ]
  },
  {
   "cell_type": "code",
   "execution_count": 20,
   "id": "742493ed",
   "metadata": {},
   "outputs": [],
   "source": [
    "fork_config = graph.update_state(config=config,\n",
    "                                 values={\"messages\":[HumanMessage(\"what is the final output when we add 5 and 8, then multipy 2 to the sum\",id=result[-2].values['messages'][0].id)]})"
   ]
  },
  {
   "cell_type": "code",
   "execution_count": 21,
   "id": "2690f74d",
   "metadata": {},
   "outputs": [
    {
     "data": {
      "text/plain": [
       "{'configurable': {'thread_id': 'first',\n",
       "  'checkpoint_ns': '',\n",
       "  'checkpoint_id': '1f058aea-c7f9-6ed2-8001-e9d2823b13ba'}}"
      ]
     },
     "execution_count": 21,
     "metadata": {},
     "output_type": "execute_result"
    }
   ],
   "source": [
    "fork_config"
   ]
  },
  {
   "cell_type": "code",
   "execution_count": 22,
   "id": "dac63569",
   "metadata": {},
   "outputs": [
    {
     "name": "stdout",
     "output_type": "stream",
     "text": [
      "================================\u001b[1m Human Message \u001b[0m=================================\n",
      "\n",
      "what is the final output when we add 5 and 8, then multipy 2 to the sum\n",
      "==================================\u001b[1m Ai Message \u001b[0m==================================\n",
      "Tool Calls:\n",
      "  add (sryqnzvbg)\n",
      " Call ID: sryqnzvbg\n",
      "  Args:\n",
      "    a: 5\n",
      "    b: 8\n",
      "  multiply (qxt2z0wh6)\n",
      " Call ID: qxt2z0wh6\n",
      "  Args:\n",
      "    a: 13\n",
      "    b: 2\n",
      "=================================\u001b[1m Tool Message \u001b[0m=================================\n",
      "Name: multiply\n",
      "\n",
      "26\n",
      "==================================\u001b[1m Ai Message \u001b[0m==================================\n",
      "\n",
      "The final output is 26.\n"
     ]
    }
   ],
   "source": [
    "for chunk in graph.stream(None,config=fork_config,stream_mode=\"values\"):\n",
    "    chunk['messages'][-1].pretty_print()"
   ]
  },
  {
   "cell_type": "code",
   "execution_count": 23,
   "id": "5c5d8b89",
   "metadata": {},
   "outputs": [
    {
     "name": "stdout",
     "output_type": "stream",
     "text": [
      "12\n"
     ]
    }
   ],
   "source": [
    "result = graph.get_state_history(config={\"configurable\":{\"thread_id\":\"first\"}})\n",
    "result = list(result)\n",
    "print(len(result))"
   ]
  },
  {
   "cell_type": "code",
   "execution_count": 24,
   "id": "8a5aec83",
   "metadata": {},
   "outputs": [
    {
     "data": {
      "text/plain": [
       "StateSnapshot(values={'messages': [HumanMessage(content='what is the final output when we add 5 and 8, then multipy 2 to the sum', additional_kwargs={}, response_metadata={}, id='8f4f5aee-1152-4c4d-bf52-ae8633f82da9'), AIMessage(content='', additional_kwargs={'tool_calls': [{'id': 'sryqnzvbg', 'function': {'arguments': '{\"a\":5,\"b\":8}', 'name': 'add'}, 'type': 'function'}, {'id': 'qxt2z0wh6', 'function': {'arguments': '{\"a\":13,\"b\":2}', 'name': 'multiply'}, 'type': 'function'}]}, response_metadata={'token_usage': {'completion_tokens': 36, 'prompt_tokens': 356, 'total_tokens': 392, 'completion_time': 0.068742318, 'prompt_time': 0.021056571, 'queue_time': 0.050757098, 'total_time': 0.089798889}, 'model_name': 'llama-3.1-8b-instant', 'system_fingerprint': 'fp_510c177af0', 'finish_reason': 'tool_calls', 'logprobs': None}, id='run--5b594640-bd32-440f-b99d-6fd62e0db801-0', tool_calls=[{'name': 'add', 'args': {'a': 5, 'b': 8}, 'id': 'sryqnzvbg', 'type': 'tool_call'}, {'name': 'multiply', 'args': {'a': 13, 'b': 2}, 'id': 'qxt2z0wh6', 'type': 'tool_call'}], usage_metadata={'input_tokens': 356, 'output_tokens': 36, 'total_tokens': 392}), ToolMessage(content='13', name='add', id='774ba774-ca20-4415-a8d7-250d5f00b852', tool_call_id='sryqnzvbg'), ToolMessage(content='26', name='multiply', id='aa75334c-6989-44e9-ab8d-cfd801021bd0', tool_call_id='qxt2z0wh6'), AIMessage(content='The final output is 26.', additional_kwargs={}, response_metadata={'token_usage': {'completion_tokens': 8, 'prompt_tokens': 410, 'total_tokens': 418, 'completion_time': 0.013341662, 'prompt_time': 0.027782443, 'queue_time': 0.048766936, 'total_time': 0.041124105}, 'model_name': 'llama-3.1-8b-instant', 'system_fingerprint': 'fp_0f5c9bc037', 'finish_reason': 'stop', 'logprobs': None}, id='run--2d1ead8d-0a1f-4117-b1b4-464661fb6065-0', usage_metadata={'input_tokens': 410, 'output_tokens': 8, 'total_tokens': 418})]}, next=(), config={'configurable': {'thread_id': 'first', 'checkpoint_ns': '', 'checkpoint_id': '1f058aec-038b-6922-8004-5e81363ce9a1'}}, metadata={'source': 'loop', 'writes': {'assistant': {'messages': [AIMessage(content='The final output is 26.', additional_kwargs={}, response_metadata={'token_usage': {'completion_tokens': 8, 'prompt_tokens': 410, 'total_tokens': 418, 'completion_time': 0.013341662, 'prompt_time': 0.027782443, 'queue_time': 0.048766936, 'total_time': 0.041124105}, 'model_name': 'llama-3.1-8b-instant', 'system_fingerprint': 'fp_0f5c9bc037', 'finish_reason': 'stop', 'logprobs': None}, id='run--2d1ead8d-0a1f-4117-b1b4-464661fb6065-0', usage_metadata={'input_tokens': 410, 'output_tokens': 8, 'total_tokens': 418})]}}, 'step': 4, 'parents': {}, 'thread_id': 'first'}, created_at='2025-07-04T08:13:22.098173+00:00', parent_config={'configurable': {'thread_id': 'first', 'checkpoint_ns': '', 'checkpoint_id': '1f058aec-020d-605a-8003-a1579fb1304d'}}, tasks=(), interrupts=())"
      ]
     },
     "execution_count": 24,
     "metadata": {},
     "output_type": "execute_result"
    }
   ],
   "source": [
    "graph.get_state(config={\"configurable\":{\"thread_id\":\"first\"}})"
   ]
  },
  {
   "cell_type": "code",
   "execution_count": null,
   "id": "5baa90e9",
   "metadata": {},
   "outputs": [],
   "source": [
    "# config = {\"configurable\":{\"thread_id\":\"second\"}}\n",
    "# while True:    \n",
    "#     user_query = input(\"Enter you Query\")\n",
    "#     if user_query != \"quit\":     \n",
    "#         for chunk in graph.stream({\"messages\":user_query},config=config,stream_mode=\"values\"):\n",
    "#             chunk[\"messages\"][-1].pretty_print()\n",
    "            \n",
    "#         user_input = input(\"Do you want to continue with tool call ? Press 'N' for No\")\n",
    "#         if user_input == 'N':\n",
    "#             break\n",
    "#         else:\n",
    "#             for chunk in graph.stream(None,config=config,stream_mode=\"values\"):\n",
    "#                 chunk[\"messages\"][-1].pretty_print()\n",
    "#     else:\n",
    "#         break"
   ]
  },
  {
   "cell_type": "code",
   "execution_count": null,
   "id": "3adda679",
   "metadata": {},
   "outputs": [],
   "source": []
  },
  {
   "cell_type": "code",
   "execution_count": null,
   "id": "618d776a",
   "metadata": {},
   "outputs": [],
   "source": []
  },
  {
   "cell_type": "code",
   "execution_count": 25,
   "id": "f2c45917",
   "metadata": {},
   "outputs": [
    {
     "data": {
      "text/plain": [
       "True"
      ]
     },
     "execution_count": 25,
     "metadata": {},
     "output_type": "execute_result"
    }
   ],
   "source": [
    "load_dotenv()"
   ]
  },
  {
   "cell_type": "code",
   "execution_count": 35,
   "id": "ec9e7b6f",
   "metadata": {},
   "outputs": [],
   "source": [
    "from langchain_community.tools import TavilySearchResults\n",
    "from langchain.document_loaders import WikipediaLoader"
   ]
  },
  {
   "cell_type": "code",
   "execution_count": 41,
   "id": "c4b4d4e8",
   "metadata": {},
   "outputs": [],
   "source": [
    "tavilly = TavilySearchResults()\n",
    "result = tavilly.invoke(\"who is donald trump ? \")\n",
    "result = \"/n\".join([cn['content'] for cn in result])"
   ]
  },
  {
   "cell_type": "code",
   "execution_count": 30,
   "id": "80c8ed06",
   "metadata": {},
   "outputs": [
    {
     "name": "stdout",
     "output_type": "stream",
     "text": [
      "Donald John Trump (born June 14, 1946) is an American politician, media personality, and businessman who is the 47th president of the United States. A member of the Republican Party \"Republican Party (United States)\"), he served as the 45th president from 2017 to 2021. [...] |  v  t  e Donald Trump |\n",
      "| --- |\n",
      "|  45th (2017–2021) and 47th (2025–present) President of the United States | [...] | In office January 20, 2017– January 20, 2021 |\n",
      "| Vice President | Mike Pence |\n",
      "| Preceded by | Barack Obama |\n",
      "| Succeeded by | Joe Biden |\n",
      "|  |\n",
      "| Personal details |\n",
      "| Born | Donald John Trump (1946-06-14) June 14, 1946 (age 79) Queens, New York City, U.S. |\n",
      "| Political party | Republican \"Republican Party (United States)\") (1987–1999, 2009–2011, 2012–present) |/nBiography Host\n",
      "Biography Host\n",
      "\n",
      "Copyright ©2025 Biography Host\n",
      "\n",
      "donaldtrump\n",
      "\n",
      "### Quick Wiki\n",
      "\n",
      "# Donald Trump | Biography\n",
      "\n",
      "Donald Trump, born on June 14, 1946, in Queens, New York, is a prominent entrepreneur, author, and the 45th president of the United States, winning reelection in 2024.\n",
      "\n",
      "## Who is Donald Trump? [...] Donald John Trump, born on June 14, 1946, in Queens, New York, is a prominent entrepreneur and politician who became the 45th president of the United States. With a background in real estate, Trump took over his father's business and transformed it into a global luxury brand under The Trump Organization. He gained fame as a best-selling author with his 1987 book \"The Art of the Deal\" and as a reality television star on \"The Apprentice.\" Trump’s political career took a historic turn when he [...] Trump remains a central figure in American politics, reshaping the Republican Party and influencing the broader political landscape with his distinctive brand of populism./nExecutive Offices\n",
      "       Council of Economic Advisers\n",
      "       Council on Environmental Quality\n",
      "       National Security Council\n",
      "       Office of Management and Budget\n",
      "       Office of National Drug Control Policy\n",
      "       Office of Science and Technology Policy\n",
      "\n",
      "Download Image\n",
      "\n",
      "##### Donald J. Trump is the 45th President of the United States. He believes the United States has incredible potential and will go on to exceed even its remarkable achievements of the past. [...] On November 8, 2016, Mr. Trump was elected President in the largest Electoral College landslide for a Republican in 28 years. Mr. Trump won more than 2,600 counties nationwide, the most since President Ronald Reagan in 1984. He received the votes of more than 62 million Americans, the most ever for a Republican candidate. [...] Donald J. Trump defines the American success story. Throughout his life he has continually set the standards of business and entrepreneurial excellence, especially in real estate, sports, and entertainment. Mr. Trump built on his success in private life when he entered into politics and public service. He remarkably won the Presidency in his first ever run for any political office.\n"
     ]
    }
   ],
   "source": [
    "print(result)"
   ]
  },
  {
   "cell_type": "code",
   "execution_count": 42,
   "id": "67ad9d3b",
   "metadata": {},
   "outputs": [
    {
     "data": {
      "text/plain": [
       "str"
      ]
     },
     "execution_count": 42,
     "metadata": {},
     "output_type": "execute_result"
    }
   ],
   "source": [
    "type(result)"
   ]
  },
  {
   "cell_type": "code",
   "execution_count": 40,
   "id": "764a7103",
   "metadata": {},
   "outputs": [
    {
     "data": {
      "text/plain": [
       "'A major aspect of Donald Trump\\'s presidential election campaigns, in his 2016, 2020, and 2024 campaigns, was unauthorized use of music at his prominent and frequent political rallies. Below are musicians who have voiced opposition to their music being used by Trump at his rallies, or for other political purposes, and the actions they took in response to their music\\'s use.\\nSeparately to the individual cases below, a group of artists including Mick Jagger, Lorde, Sia, Blondie, Sheryl Crow, Green Day, Lionel Richie, Elvis Costello, Keith Richards, Steven Tyler and Rosanne Cash in collaboration with the Artist Rights Alliance, have signed a letter demanding that politicians seek permission before playing their music at campaign rallies and public events. Trump\\'s use of music without permission has become the subject of satire, with The Onion claiming that the estate of Irving Berlin was suing Trump for his glockenspiel rendition of \"God Bless America\", and that the Francis Scott Key estate had sent Trump a cease and desist letter demanding he stop playing \"The Star-Spangled Banner\" at his rallies.\\nVenues and political campaigns can buy rights to play songs through licensing packages offered by performing rights organizations such as BMI and ASCAP. BMI and ASCAP allow artists to remove a song from a campaign\\'s Political Entities License. After BMI or ASCAP notifies the campaign of the song\\'s removal, the campaign must stop using the song or risk legal action for copyright infringement. A political campaign that uses a licensed song without the artist\\'s permission may also risk legal action on grounds of trademark infringement, false advertising, or right of publicity.\\n\\n/nAt 79 years and 20 days old, Donald Trump, the 47th and previously 45th president of the United States, is the oldest person in American history to be inaugurated as president for the second time. He previously became the oldest major-party presidential nominee in July 2024, five weeks after his 78th birthday. Should he serve as president until August 15, 2028, he would be the oldest sitting President in American history.  On January 20, 2029, the end of his second term, he would be 82 years, seven months, and six days old. \\nSince the early days of Trump\\'s 2016 presidential campaign, his physical and mental health have been debated. Trump was 70 years old when he first took office, surpassing Ronald Reagan as the oldest person to assume the presidency. Trump\\'s age, weight, lifestyle, and history of heart disease raised questions about his physical health. Some psychiatrists and reporters have speculated that Trump may have mental health impairments, such as dementia (which runs in his family) or narcissistic personality disorder. Such claims have prompted discussion about ethics and applicability of the Goldwater rule, which prohibits mental health professionals from publicly diagnosing or discussing the diagnosis of public figures without their consent and direct examination. Public opinion polling from July 2024 indicated an increase in the percentage of Americans concerned about his fitness for a second term. \\nDuring the 2024 election campaign, some critics raised concerns regarding former president Trump\\'s transparency about his medical records and overall health, noting that he had not publicly released a full medical report since 2015. Critics noted that his opponent, Kamala Harris, had released her records, and that such disclosures are a common practice among presidential candidates. On April 13, 2025, three months after Trump\\'s second inauguration, the White House released the results of his physical examination and his cognitive assessment; it concluded that Trump was in \"excellent health\" and \"fully fit\" to serve as commander-in-chief.'"
      ]
     },
     "execution_count": 40,
     "metadata": {},
     "output_type": "execute_result"
    }
   ],
   "source": [
    "wikipedia = WikipediaLoader(\"who is Trump\",load_max_docs=2).load()\n",
    "\"/n\".join([doc.metadata['summary'] for doc in wikipedia])"
   ]
  },
  {
   "cell_type": "code",
   "execution_count": null,
   "id": "b2574bd2",
   "metadata": {},
   "outputs": [],
   "source": []
  }
 ],
 "metadata": {
  "kernelspec": {
   "display_name": "Python 3",
   "language": "python",
   "name": "python3"
  },
  "language_info": {
   "codemirror_mode": {
    "name": "ipython",
    "version": 3
   },
   "file_extension": ".py",
   "mimetype": "text/x-python",
   "name": "python",
   "nbconvert_exporter": "python",
   "pygments_lexer": "ipython3",
   "version": "3.12.7"
  }
 },
 "nbformat": 4,
 "nbformat_minor": 5
}
