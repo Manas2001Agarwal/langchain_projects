{
 "cells": [
  {
   "cell_type": "code",
   "execution_count": 10,
   "id": "b974e595",
   "metadata": {},
   "outputs": [],
   "source": [
    "from pydantic import BaseModel, Field\n",
    "from typing import Literal, List\n",
    "from langchain_core.prompts import PromptTemplate, ChatPromptTemplate\n",
    "from langchain_groq import ChatGroq\n",
    "from langchain_core.output_parsers import PydanticOutputParser\n",
    "\n",
    "class Classification(BaseModel):\n",
    "    sentiment:Literal[\"positive\",\"negative\"] = Field(description=\"This is sentiment of the statement: positive or negative\")\n",
    "    tone: Literal[\"formal\",\"casual\"] = Field(description=\"tone of the sentence: formal or casual\")  \n",
    "    covered_topics: List[str] = Field(description=\"These are the common topics discussed in the sentence\")\n",
    "    \n",
    "prompt = ChatPromptTemplate([\n",
    "    (\"system\",\"Tell me the sentiment and tone of the given sentence\"),\n",
    "    (\"human\",\"Sentence: {sentence}\")\n",
    "],\n",
    "                            input_variables = [\"sentence\"])\n",
    "\n",
    "llm = ChatGroq(model = \"llama-3.1-8b-instant\")\n",
    "structured_llm = llm.with_structured_output(Classification)\n",
    "chain = prompt | structured_llm"
   ]
  },
  {
   "cell_type": "code",
   "execution_count": 11,
   "id": "29092705",
   "metadata": {},
   "outputs": [
    {
     "data": {
      "text/plain": [
       "Classification(sentiment='positive', tone='casual', covered_topics=['Harry Potter'])"
      ]
     },
     "execution_count": 11,
     "metadata": {},
     "output_type": "execute_result"
    }
   ],
   "source": [
    "chain.invoke({\"sentence\":\"I like Harry Potter a lot. Have watched it a lot of times\"})"
   ]
  },
  {
   "cell_type": "code",
   "execution_count": 12,
   "id": "83e9a9a9",
   "metadata": {},
   "outputs": [
    {
     "data": {
      "text/plain": [
       "Classification(sentiment='negative', tone='casual', covered_topics=['smartphone', 'battery backup'])"
      ]
     },
     "execution_count": 12,
     "metadata": {},
     "output_type": "execute_result"
    }
   ],
   "source": [
    "chain.invoke({\"sentence\":\"I wasted my money on this smartphone. It's battery backup is so bad\"})"
   ]
  },
  {
   "cell_type": "code",
   "execution_count": null,
   "id": "048a58f7",
   "metadata": {},
   "outputs": [],
   "source": []
  },
  {
   "cell_type": "code",
   "execution_count": null,
   "id": "ca9f63d8",
   "metadata": {},
   "outputs": [],
   "source": []
  }
 ],
 "metadata": {
  "kernelspec": {
   "display_name": "Python 3",
   "language": "python",
   "name": "python3"
  },
  "language_info": {
   "codemirror_mode": {
    "name": "ipython",
    "version": 3
   },
   "file_extension": ".py",
   "mimetype": "text/x-python",
   "name": "python",
   "nbconvert_exporter": "python",
   "pygments_lexer": "ipython3",
   "version": "3.12.7"
  }
 },
 "nbformat": 4,
 "nbformat_minor": 5
}
