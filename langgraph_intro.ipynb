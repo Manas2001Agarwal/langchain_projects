{
 "cells": [
  {
   "cell_type": "code",
   "execution_count": 1,
   "id": "26876726",
   "metadata": {},
   "outputs": [],
   "source": [
    "from langgraph.graph import Graph"
   ]
  },
  {
   "cell_type": "code",
   "execution_count": 3,
   "id": "a0d65fda",
   "metadata": {},
   "outputs": [
    {
     "data": {
      "text/plain": [
       "True"
      ]
     },
     "execution_count": 3,
     "metadata": {},
     "output_type": "execute_result"
    }
   ],
   "source": [
    "from dotenv import load_dotenv\n",
    "load_dotenv()"
   ]
  },
  {
   "cell_type": "code",
   "execution_count": 4,
   "id": "c42576a9",
   "metadata": {},
   "outputs": [],
   "source": [
    "from langchain_groq import ChatGroq\n",
    "groq_model=ChatGroq(model=\"llama-3.1-8b-instant\")\n",
    "\n",
    "from langchain_huggingface import HuggingFaceEmbeddings\n",
    "embedding_model = HuggingFaceEmbeddings(model_name='sentence-transformers/all-MiniLM-L6-v2')"
   ]
  },
  {
   "cell_type": "code",
   "execution_count": 5,
   "id": "26de6aa5",
   "metadata": {},
   "outputs": [],
   "source": [
    "def LLM(input):\n",
    "    response = groq_model.invoke(input).content\n",
    "    return response\n",
    "\n",
    "def count_words(input):\n",
    "    token_len = len(input.split())\n",
    "    response = f\"total number of token in the generate output is {token_len}\"\n",
    "    return response"
   ]
  },
  {
   "cell_type": "code",
   "execution_count": 6,
   "id": "a3ed844f",
   "metadata": {},
   "outputs": [
    {
     "data": {
      "text/plain": [
       "<langgraph.graph.graph.Graph at 0x32db959a0>"
      ]
     },
     "execution_count": 6,
     "metadata": {},
     "output_type": "execute_result"
    }
   ],
   "source": [
    "workflow = Graph()\n",
    "workflow.add_node(\"My LLM\",LLM)\n",
    "workflow.add_node(\"Word Counter\",count_words)\n",
    "workflow.add_edge(\"My LLM\",\"Word Counter\")\n",
    "workflow.set_entry_point(\"My LLM\")\n",
    "workflow.set_finish_point(\"Word Counter\")"
   ]
  },
  {
   "cell_type": "code",
   "execution_count": null,
   "id": "30192262",
   "metadata": {},
   "outputs": [],
   "source": [
    "app = workflow.compile() ## This compiling is like saving graph"
   ]
  },
  {
   "cell_type": "code",
   "execution_count": 8,
   "id": "28b87d43",
   "metadata": {},
   "outputs": [
    {
     "data": {
      "text/plain": [
       "Graph(nodes={'My LLM': Node(id='My LLM', name='My LLM', data=My LLM(tags=None, recurse=True, explode_args=False, func_accepts_config=False, func_accepts={}), metadata=None), 'Word Counter': Node(id='Word Counter', name='Word Counter', data=Word Counter(tags=None, recurse=True, explode_args=False, func_accepts_config=False, func_accepts={}), metadata=None), '__start__': Node(id='__start__', name='__start__', data=None, metadata=None), '__end__': Node(id='__end__', name='__end__', data=None, metadata=None)}, edges=[Edge(source='__start__', target='My LLM', data=None, conditional=False), Edge(source='My LLM', target='Word Counter', data=None, conditional=False), Edge(source='Word Counter', target='__end__', data=None, conditional=False)])"
      ]
     },
     "execution_count": 8,
     "metadata": {},
     "output_type": "execute_result"
    }
   ],
   "source": [
    "app.get_graph()"
   ]
  },
  {
   "cell_type": "code",
   "execution_count": 9,
   "id": "34c8c3ca",
   "metadata": {},
   "outputs": [
    {
     "data": {
      "image/png": "[encoded data removed]",
      "text/plain": [
       "<IPython.core.display.Image object>"
      ]
     },
     "metadata": {},
     "output_type": "display_data"
    }
   ],
   "source": [
    "from IPython.display import Image, display\n",
    "display(Image(app.get_graph().draw_mermaid_png())) "
   ]
  },
  {
   "cell_type": "code",
   "execution_count": 10,
   "id": "686793d0",
   "metadata": {},
   "outputs": [
    {
     "data": {
      "text/plain": [
       "'total number of token in the generate output is 203'"
      ]
     },
     "execution_count": 10,
     "metadata": {},
     "output_type": "execute_result"
    }
   ],
   "source": [
    "app.invoke(\"can you explain me agentic graph briefly in simple words\")"
   ]
  },
  {
   "cell_type": "code",
   "execution_count": 11,
   "id": "1bb58db1",
   "metadata": {},
   "outputs": [
    {
     "name": "stdout",
     "output_type": "stream",
     "text": [
      "My LLM\n",
      "\n",
      "\n",
      "An Agentic Graph is a concept in artificial intelligence (AI) and cognitive science that represents a complex network of relationships between different components of a system. Think of it like a map of a city, where roads (edges) connect different neighborhoods (nodes).\n",
      "\n",
      "In the context of AI, an Agentic Graph typically includes:\n",
      "\n",
      "1. **Nodes**: Representing individual agents or entities, such as humans, robots, or software programs.\n",
      "2. **Edges**: Representing relationships or interactions between these nodes, like communication, cooperation, or competition.\n",
      "\n",
      "The Agentic Graph helps researchers and developers understand how these agents interact and influence each other, leading to complex behaviors and emergent properties. It's like trying to predict traffic patterns in a city by mapping out the roads and intersections.\n",
      "\n",
      "By visualizing and analyzing the Agentic Graph, researchers can:\n",
      "\n",
      "* Identify key nodes and edges that drive the system's behavior\n",
      "* Predict how changes in one node or edge might affect the entire system\n",
      "* Design more effective interventions or policies to achieve desired outcomes\n",
      "\n",
      "The Agentic Graph is a powerful tool for understanding complex systems, and it has many potential applications in areas like:\n",
      "\n",
      "* Multi-agent systems\n",
      "* Social network analysis\n",
      "* Economics\n",
      "* Urban planning\n",
      "* Autonomous systems\n",
      "\n",
      "That's a basic overview of the Agentic Graph! Let me know if you have any further questions.\n",
      "\n",
      "\n",
      "\n",
      "-------\n",
      "Word Counter\n",
      "\n",
      "\n",
      "total number of token in the generate output is 217\n",
      "\n",
      "\n",
      "\n",
      "-------\n"
     ]
    }
   ],
   "source": [
    "for output in app.stream(\"can you explain me agentic graph briefly in simple words\"):\n",
    "    for key, value in output.items():\n",
    "        print(key)\n",
    "        print(\"\\n\")\n",
    "        print(value)\n",
    "        print(\"\\n\\n\")\n",
    "        print(\"-------\")\n",
    "        "
   ]
  },
  {
   "cell_type": "code",
   "execution_count": 46,
   "id": "09dc7c3d",
   "metadata": {},
   "outputs": [],
   "source": [
    "from langchain_core.output_parsers import StrOutputParser\n",
    "from langchain_core.prompts import ChatPromptTemplate\n",
    "from langchain_core.runnables import RunnablePassthrough\n",
    "from langchain_community.document_loaders import TextLoader, DirectoryLoader\n",
    "from langchain_community.vectorstores import Chroma\n",
    "from langchain.text_splitter import RecursiveCharacterTextSplitter"
   ]
  },
  {
   "cell_type": "code",
   "execution_count": 16,
   "id": "f134a070",
   "metadata": {},
   "outputs": [
    {
     "name": "stdout",
     "output_type": "stream",
     "text": [
      "/Users/mukulagarwal/Desktop/Projects/langchain\n"
     ]
    }
   ],
   "source": [
    "!pwd"
   ]
  },
  {
   "cell_type": "code",
   "execution_count": 23,
   "id": "3da56131",
   "metadata": {},
   "outputs": [],
   "source": [
    "loader=DirectoryLoader(\"/Users/mukulagarwal/Desktop/Projects/langchain\",glob=\"./*.txt\",loader_cls=TextLoader)\n",
    "docs=loader.load()\n",
    "text_splitter=RecursiveCharacterTextSplitter(\n",
    "    chunk_size=250,\n",
    "    chunk_overlap=25\n",
    ")\n",
    "new_docs = text_splitter.split_documents(documents=docs)\n",
    "doc_strings = [doc.page_content for doc in new_docs]"
   ]
  },
  {
   "cell_type": "code",
   "execution_count": 24,
   "id": "abfd6b10",
   "metadata": {},
   "outputs": [
    {
     "data": {
      "text/plain": [
       "[Document(metadata={'source': '/Users/mukulagarwal/Desktop/Projects/langchain/file.txt'}, page_content='Google opens up its AI language model PaLM to challenge OpenAI and GPT-3 Google \\noffers developers access to one of its most advanced AI language models: PaLM. The search'),\n",
       " Document(metadata={'source': '/Users/mukulagarwal/Desktop/Projects/langchain/file.txt'}, page_content='giant is launching an API for PaLM alongside a number of AI enterprise tools it says will \\nhelp businesses generate text, images, code, videos, audio, and more from simple natural \\nlanguage prompts.'),\n",
       " Document(metadata={'source': '/Users/mukulagarwal/Desktop/Projects/langchain/file.txt'}, page_content=\"PaLM is a large language model, or LLM, similar to the GPT series created \\nby OpenAI or Meta's LLaMA family of models. Google first announced PaLM in April 2022. Like\"),\n",
       " Document(metadata={'source': '/Users/mukulagarwal/Desktop/Projects/langchain/file.txt'}, page_content='other LLMs, PaLM is a flexible system that can potentially carry out all sorts of text \\ngeneration and editing tasks. You could train PaLM to be a conversational chatbot like'),\n",
       " Document(metadata={'source': '/Users/mukulagarwal/Desktop/Projects/langchain/file.txt'}, page_content=\"ChatGPT, for example, or you could use it for tasks like summarizing text or even writing code. \\n(It's similar to features Google also announced today for its Workspace apps like Google Docs \\nand Gmail.)\")]"
      ]
     },
     "execution_count": 24,
     "metadata": {},
     "output_type": "execute_result"
    }
   ],
   "source": [
    "new_docs"
   ]
  },
  {
   "cell_type": "code",
   "execution_count": 26,
   "id": "6d202f17",
   "metadata": {},
   "outputs": [],
   "source": [
    "db = Chroma.from_documents(new_docs, embedding_model)\n",
    "\n",
    "retriever = db.as_retriever(search_kwargs={\"k\": 3})"
   ]
  },
  {
   "cell_type": "code",
   "execution_count": 27,
   "id": "7193594e",
   "metadata": {},
   "outputs": [
    {
     "name": "stderr",
     "output_type": "stream",
     "text": [
      "/var/folders/9d/v_vmnb4s20xddx4_8tgtprrh0000gn/T/ipykernel_52358/258206766.py:2: LangChainDeprecationWarning: The method `BaseRetriever.get_relevant_documents` was deprecated in langchain-core 0.1.46 and will be removed in 1.0. Use :meth:`~invoke` instead.\n",
      "  docs = retriever.get_relevant_documents(query)\n"
     ]
    },
    {
     "name": "stdout",
     "output_type": "stream",
     "text": [
      "{'source': '/Users/mukulagarwal/Desktop/Projects/langchain/file.txt'}\n",
      "giant is launching an API for PaLM alongside a number of AI enterprise tools it says will \n",
      "help businesses generate text, images, code, videos, audio, and more from simple natural \n",
      "language prompts.\n"
     ]
    }
   ],
   "source": [
    "query = \"Tell me about India's Industrial Growth?\"\n",
    "docs = retriever.get_relevant_documents(query)\n",
    "print(docs[0].metadata)\n",
    "print(docs[0].page_content)"
   ]
  },
  {
   "cell_type": "code",
   "execution_count": 33,
   "id": "cd28c355",
   "metadata": {},
   "outputs": [
    {
     "data": {
      "text/plain": [
       "{'messages': ['hi', 'how are you']}"
      ]
     },
     "execution_count": 33,
     "metadata": {},
     "output_type": "execute_result"
    }
   ],
   "source": [
    "AgentState = {}\n",
    "AgentState['messages'] = []\n",
    "AgentState['messages'].append(\"hi\")\n",
    "AgentState['messages'].append(\"how are you\")\n",
    "\n",
    "AgentState"
   ]
  },
  {
   "cell_type": "code",
   "execution_count": 41,
   "id": "9a9eaa23",
   "metadata": {},
   "outputs": [],
   "source": [
    "def function_1(AgentState):\n",
    "    message=AgentState[\"messages\"]\n",
    "    \n",
    "    question=message[-1]\n",
    "    \n",
    "    complete_prompt=\"Your task is to provide only the brief answer based on the user query. \\\n",
    "        Don't include too much reasoning. Following is the user query: \" + question\n",
    "    \n",
    "    response = groq_model.invoke(complete_prompt)\n",
    "    \n",
    "    AgentState['messages'].append(response.content) # appending LLM call response to the AgentState\n",
    "    \n",
    "    return AgentState\n",
    "   \n",
    "def function_2(AgentState):\n",
    "    messages = AgentState['messages']\n",
    "    \n",
    "    question = messages[0] ## Fetching the user question\n",
    "    \n",
    "    template = \"\"\"Answer the question based only on the following context:\n",
    "    {context}\n",
    "\n",
    "    Question: {question}\n",
    "    \"\"\"\n",
    "    prompt = ChatPromptTemplate.from_template(template)\n",
    "\n",
    "    retrieval_chain = (\n",
    "        {\"context\": retriever, \"question\": RunnablePassthrough()}\n",
    "        | prompt\n",
    "        | groq_model\n",
    "        | StrOutputParser()\n",
    "        )\n",
    "    result = retrieval_chain.invoke(question)\n",
    "    return result"
   ]
  },
  {
   "cell_type": "code",
   "execution_count": 42,
   "id": "074ab7ad",
   "metadata": {},
   "outputs": [],
   "source": [
    "workflow = Graph()\n",
    "workflow.add_node(\"LLM\",function_1)\n",
    "workflow.add_node(\"RAG_tool\",function_2)\n",
    "workflow.add_edge(\"LLM\",\"RAG_tool\")\n",
    "workflow.set_entry_point(\"LLM\")\n",
    "workflow.set_finish_point(\"RAG_tool\")\n",
    "app2=workflow.compile()"
   ]
  },
  {
   "cell_type": "code",
   "execution_count": 32,
   "id": "0e72ebe2",
   "metadata": {},
   "outputs": [
    {
     "data": {
      "image/png": "[encoded data removed]",
      "text/plain": [
       "<IPython.core.display.Image object>"
      ]
     },
     "metadata": {},
     "output_type": "display_data"
    }
   ],
   "source": [
    "display(Image(app2.get_graph().draw_mermaid_png())) "
   ]
  },
  {
   "cell_type": "code",
   "execution_count": 43,
   "id": "e5a92136",
   "metadata": {},
   "outputs": [
    {
     "data": {
      "text/plain": [
       "\"Google's plan is to compete with OpenAI using its AI language model PaLM, by offering developers access to it through an API, and providing a range of AI enterprise tools.\""
      ]
     },
     "execution_count": 43,
     "metadata": {},
     "output_type": "execute_result"
    }
   ],
   "source": [
    "app2.invoke({\"messages\":[\"What is Google plan on competiting with OpenAI ?\"]})"
   ]
  },
  {
   "cell_type": "code",
   "execution_count": 45,
   "id": "6f4b6928",
   "metadata": {},
   "outputs": [
    {
     "name": "stdout",
     "output_type": "stream",
     "text": [
      "here is output from LLM\n",
      "_______\n",
      "{'messages': ['What is Google plan on competiting with OpenAI ?', \"Google's plan to compete with OpenAI is through its AI subsidiary, DeepMind, and its large language model, Bard.\"]}\n",
      "\n",
      "\n",
      "here is output from RAG_tool\n",
      "_______\n",
      "Google is planning to compete with OpenAI by offering developers access to one of its most advanced AI language models, PaLM.\n",
      "\n",
      "\n"
     ]
    }
   ],
   "source": [
    "for output in app2.stream({\"messages\":[\"What is Google plan on competiting with OpenAI ?\"]}):\n",
    "    for key,value in output.items():\n",
    "        print(f\"here is output from {key}\")\n",
    "        print(\"_______\")\n",
    "        print(value)\n",
    "        print(\"\\n\")"
   ]
  },
  {
   "cell_type": "markdown",
   "id": "d388fef4",
   "metadata": {},
   "source": [
    "State-Graph"
   ]
  },
  {
   "cell_type": "code",
   "execution_count": 47,
   "id": "cd31a265",
   "metadata": {},
   "outputs": [],
   "source": [
    "loader=TextLoader(\"/Users/mukulagarwal/Desktop/Projects/langchain/japan.txt\")\n",
    "docs=loader.load()\n",
    "text_splitter=RecursiveCharacterTextSplitter(\n",
    "    chunk_size=100,\n",
    "    chunk_overlap=50\n",
    ")\n",
    "new_docs = text_splitter.split_documents(documents=docs)\n",
    "doc_strings = [doc.page_content for doc in new_docs]"
   ]
  },
  {
   "cell_type": "code",
   "execution_count": 48,
   "id": "ca0ea914",
   "metadata": {},
   "outputs": [
    {
     "data": {
      "text/plain": [
       "[Document(metadata={'source': '/Users/mukulagarwal/Desktop/Projects/langchain/japan.txt'}, page_content='Industrial revival hope for Japan'),\n",
       " Document(metadata={'source': '/Users/mukulagarwal/Desktop/Projects/langchain/japan.txt'}, page_content=\"Japanese industry is growing faster than expected, boosting hopes that the country's retreat back\"),\n",
       " Document(metadata={'source': '/Users/mukulagarwal/Desktop/Projects/langchain/japan.txt'}, page_content=\"boosting hopes that the country's retreat back into recession is over.\"),\n",
       " Document(metadata={'source': '/Users/mukulagarwal/Desktop/Projects/langchain/japan.txt'}, page_content='Industrial output rose 2.1% - adjusted for the time of year - in January from a month earlier. At'),\n",
       " Document(metadata={'source': '/Users/mukulagarwal/Desktop/Projects/langchain/japan.txt'}, page_content='of year - in January from a month earlier. At the same time, retail sales picked up faster than at'),\n",
       " Document(metadata={'source': '/Users/mukulagarwal/Desktop/Projects/langchain/japan.txt'}, page_content='same time, retail sales picked up faster than at any time since 1997. The news sent Tokyo shares to'),\n",
       " Document(metadata={'source': '/Users/mukulagarwal/Desktop/Projects/langchain/japan.txt'}, page_content='time since 1997. The news sent Tokyo shares to an eight-month high, as investors hoped for a'),\n",
       " Document(metadata={'source': '/Users/mukulagarwal/Desktop/Projects/langchain/japan.txt'}, page_content='to an eight-month high, as investors hoped for a recovery from the three quarters of contraction'),\n",
       " Document(metadata={'source': '/Users/mukulagarwal/Desktop/Projects/langchain/japan.txt'}, page_content='a recovery from the three quarters of contraction seen from April 2004 on. The Nikkei 225 index'),\n",
       " Document(metadata={'source': '/Users/mukulagarwal/Desktop/Projects/langchain/japan.txt'}, page_content='seen from April 2004 on. The Nikkei 225 index ended the day up 0.7% at 11,740.60 points, with the'),\n",
       " Document(metadata={'source': '/Users/mukulagarwal/Desktop/Projects/langchain/japan.txt'}, page_content='the day up 0.7% at 11,740.60 points, with the yen strengthening 0.7% against the dollar to 104.53'),\n",
       " Document(metadata={'source': '/Users/mukulagarwal/Desktop/Projects/langchain/japan.txt'}, page_content='strengthening 0.7% against the dollar to 104.53 yen. Weaker exports, normally the engine for'),\n",
       " Document(metadata={'source': '/Users/mukulagarwal/Desktop/Projects/langchain/japan.txt'}, page_content=\"yen. Weaker exports, normally the engine for Japan's economy in the face of weak domestic demand,\"),\n",
       " Document(metadata={'source': '/Users/mukulagarwal/Desktop/Projects/langchain/japan.txt'}, page_content='economy in the face of weak domestic demand, had helped trigger a 0.1% contraction in the final'),\n",
       " Document(metadata={'source': '/Users/mukulagarwal/Desktop/Projects/langchain/japan.txt'}, page_content='helped trigger a 0.1% contraction in the final three months of last year after two previous'),\n",
       " Document(metadata={'source': '/Users/mukulagarwal/Desktop/Projects/langchain/japan.txt'}, page_content='three months of last year after two previous quarters of shrinking GDP. Only an exceptionally'),\n",
       " Document(metadata={'source': '/Users/mukulagarwal/Desktop/Projects/langchain/japan.txt'}, page_content='quarters of shrinking GDP. Only an exceptionally strong performance in the early months of 2004'),\n",
       " Document(metadata={'source': '/Users/mukulagarwal/Desktop/Projects/langchain/japan.txt'}, page_content='strong performance in the early months of 2004 kept the year as a whole from showing a decline. The'),\n",
       " Document(metadata={'source': '/Users/mukulagarwal/Desktop/Projects/langchain/japan.txt'}, page_content='the year as a whole from showing a decline. The output figures brought a cautiously optimistic'),\n",
       " Document(metadata={'source': '/Users/mukulagarwal/Desktop/Projects/langchain/japan.txt'}, page_content='output figures brought a cautiously optimistic response from economic officials. \"Overall I see a'),\n",
       " Document(metadata={'source': '/Users/mukulagarwal/Desktop/Projects/langchain/japan.txt'}, page_content='from economic officials. \"Overall I see a low risk of the economy falling into serious recession,\"'),\n",
       " Document(metadata={'source': '/Users/mukulagarwal/Desktop/Projects/langchain/japan.txt'}, page_content='of the economy falling into serious recession,\" said Bank of Japan chief Toshihiko Fukui, despite'),\n",
       " Document(metadata={'source': '/Users/mukulagarwal/Desktop/Projects/langchain/japan.txt'}, page_content='said Bank of Japan chief Toshihiko Fukui, despite warning that other indicators - such as the'),\n",
       " Document(metadata={'source': '/Users/mukulagarwal/Desktop/Projects/langchain/japan.txt'}, page_content='warning that other indicators - such as the growth numbers - had been worrying.'),\n",
       " Document(metadata={'source': '/Users/mukulagarwal/Desktop/Projects/langchain/japan.txt'}, page_content='Within the overall industrial output figure, there were signs of a pullback from the export'),\n",
       " Document(metadata={'source': '/Users/mukulagarwal/Desktop/Projects/langchain/japan.txt'}, page_content='there were signs of a pullback from the export slowdown. Among the best-performing sectors were key'),\n",
       " Document(metadata={'source': '/Users/mukulagarwal/Desktop/Projects/langchain/japan.txt'}, page_content='Among the best-performing sectors were key overseas sales areas such as cars, chemicals and'),\n",
       " Document(metadata={'source': '/Users/mukulagarwal/Desktop/Projects/langchain/japan.txt'}, page_content='overseas sales areas such as cars, chemicals and electronic goods. With US growth doing better than'),\n",
       " Document(metadata={'source': '/Users/mukulagarwal/Desktop/Projects/langchain/japan.txt'}, page_content='goods. With US growth doing better than expected the picture for exports in early 2005 could also'),\n",
       " Document(metadata={'source': '/Users/mukulagarwal/Desktop/Projects/langchain/japan.txt'}, page_content='the picture for exports in early 2005 could also be one of sustained demand. Electronics were also'),\n",
       " Document(metadata={'source': '/Users/mukulagarwal/Desktop/Projects/langchain/japan.txt'}, page_content='be one of sustained demand. Electronics were also one of the keys to the improved domestic market,'),\n",
       " Document(metadata={'source': '/Users/mukulagarwal/Desktop/Projects/langchain/japan.txt'}, page_content='one of the keys to the improved domestic market, with products such as flat-screen TVs in high'),\n",
       " Document(metadata={'source': '/Users/mukulagarwal/Desktop/Projects/langchain/japan.txt'}, page_content='with products such as flat-screen TVs in high demand during January.'),\n",
       " Document(metadata={'source': '/Users/mukulagarwal/Desktop/Projects/langchain/japan.txt'}, page_content=\"Japan's last four year GDP:\"),\n",
       " Document(metadata={'source': '/Users/mukulagarwal/Desktop/Projects/langchain/japan.txt'}, page_content='Year\\tGDP\\n2022\\t$4,256.41B\\n2021\\t$5,034.62B\\n2020\\t$5,055.59B\\n2019\\t$5,117.99B'),\n",
       " Document(metadata={'source': '/Users/mukulagarwal/Desktop/Projects/langchain/japan.txt'}, page_content=\"As of early 2025, Japan's economy exhibits signs of moderate recovery, with industrial production\"),\n",
       " Document(metadata={'source': '/Users/mukulagarwal/Desktop/Projects/langchain/japan.txt'}, page_content='of moderate recovery, with industrial production increasing by 2.3% month-over-month in February,'),\n",
       " Document(metadata={'source': '/Users/mukulagarwal/Desktop/Projects/langchain/japan.txt'}, page_content='increasing by 2.3% month-over-month in February, slightly below initial estimates but indicating a'),\n",
       " Document(metadata={'source': '/Users/mukulagarwal/Desktop/Projects/langchain/japan.txt'}, page_content='slightly below initial estimates but indicating a rebound from previous contractions. Retail sales'),\n",
       " Document(metadata={'source': '/Users/mukulagarwal/Desktop/Projects/langchain/japan.txt'}, page_content='rebound from previous contractions. Retail sales have shown consistent growth, rising by 3.9%'),\n",
       " Document(metadata={'source': '/Users/mukulagarwal/Desktop/Projects/langchain/japan.txt'}, page_content='have shown consistent growth, rising by 3.9% year-on-year in January, marking the 36th consecutive'),\n",
       " Document(metadata={'source': '/Users/mukulagarwal/Desktop/Projects/langchain/japan.txt'}, page_content='in January, marking the 36th consecutive month of expansion. The Nikkei 225 index has responded'),\n",
       " Document(metadata={'source': '/Users/mukulagarwal/Desktop/Projects/langchain/japan.txt'}, page_content='of expansion. The Nikkei 225 index has responded positively, reaching levels around 11,740.60'),\n",
       " Document(metadata={'source': '/Users/mukulagarwal/Desktop/Projects/langchain/japan.txt'}, page_content='positively, reaching levels around 11,740.60 points, with projections suggesting it could climb to'),\n",
       " Document(metadata={'source': '/Users/mukulagarwal/Desktop/Projects/langchain/japan.txt'}, page_content='with projections suggesting it could climb to 45,400 by the end of 2025. The Japanese yen has'),\n",
       " Document(metadata={'source': '/Users/mukulagarwal/Desktop/Projects/langchain/japan.txt'}, page_content='45,400 by the end of 2025. The Japanese yen has experienced fluctuations, strengthening to 104.53'),\n",
       " Document(metadata={'source': '/Users/mukulagarwal/Desktop/Projects/langchain/japan.txt'}, page_content='experienced fluctuations, strengthening to 104.53 yen against the dollar, reflecting investor'),\n",
       " Document(metadata={'source': '/Users/mukulagarwal/Desktop/Projects/langchain/japan.txt'}, page_content='yen against the dollar, reflecting investor optimism. Despite these positive indicators, challenges'),\n",
       " Document(metadata={'source': '/Users/mukulagarwal/Desktop/Projects/langchain/japan.txt'}, page_content='Despite these positive indicators, challenges persist, including concerns over export performance'),\n",
       " Document(metadata={'source': '/Users/mukulagarwal/Desktop/Projects/langchain/japan.txt'}, page_content='including concerns over export performance and demographic issues such as an aging population. The'),\n",
       " Document(metadata={'source': '/Users/mukulagarwal/Desktop/Projects/langchain/japan.txt'}, page_content='issues such as an aging population. The Bank of Japan remains cautiously optimistic, noting that'),\n",
       " Document(metadata={'source': '/Users/mukulagarwal/Desktop/Projects/langchain/japan.txt'}, page_content='Japan remains cautiously optimistic, noting that while certain economic indicators are encouraging,'),\n",
       " Document(metadata={'source': '/Users/mukulagarwal/Desktop/Projects/langchain/japan.txt'}, page_content='certain economic indicators are encouraging, vigilance is necessary to sustain growth. Overall,'),\n",
       " Document(metadata={'source': '/Users/mukulagarwal/Desktop/Projects/langchain/japan.txt'}, page_content=\"is necessary to sustain growth. Overall, Japan's economy appears to be on a path of gradual\"),\n",
       " Document(metadata={'source': '/Users/mukulagarwal/Desktop/Projects/langchain/japan.txt'}, page_content='economy appears to be on a path of gradual improvement, balancing recovery efforts with structural'),\n",
       " Document(metadata={'source': '/Users/mukulagarwal/Desktop/Projects/langchain/japan.txt'}, page_content='balancing recovery efforts with structural reforms to address long-term challenges.'),\n",
       " Document(metadata={'source': '/Users/mukulagarwal/Desktop/Projects/langchain/japan.txt'}, page_content=\"As of mid-2025, Japan's economy is experiencing a nuanced recovery characterized by moderate growth\"),\n",
       " Document(metadata={'source': '/Users/mukulagarwal/Desktop/Projects/langchain/japan.txt'}, page_content='nuanced recovery characterized by moderate growth and persistent challenges. In the first quarter,'),\n",
       " Document(metadata={'source': '/Users/mukulagarwal/Desktop/Projects/langchain/japan.txt'}, page_content='and persistent challenges. In the first quarter, real GDP contracted by 0.1%, influenced by a 1.1%'),\n",
       " Document(metadata={'source': '/Users/mukulagarwal/Desktop/Projects/langchain/japan.txt'}, page_content='real GDP contracted by 0.1%, influenced by a 1.1% month-over-month decline in industrial production'),\n",
       " Document(metadata={'source': '/Users/mukulagarwal/Desktop/Projects/langchain/japan.txt'}, page_content='month-over-month decline in industrial production in March, primarily due to the impact of U.S.'),\n",
       " Document(metadata={'source': '/Users/mukulagarwal/Desktop/Projects/langchain/japan.txt'}, page_content='in March, primarily due to the impact of U.S. tariffs on exports. Despite this, retail sales'),\n",
       " Document(metadata={'source': '/Users/mukulagarwal/Desktop/Projects/langchain/japan.txt'}, page_content='tariffs on exports. Despite this, retail sales demonstrated resilience, increasing by 2.9%'),\n",
       " Document(metadata={'source': '/Users/mukulagarwal/Desktop/Projects/langchain/japan.txt'}, page_content='sales demonstrated resilience, increasing by 2.9% year-over-year in the first quarter, with notable'),\n",
       " Document(metadata={'source': '/Users/mukulagarwal/Desktop/Projects/langchain/japan.txt'}, page_content='year-over-year in the first quarter, with notable growth in sectors like apparel and household'),\n",
       " Document(metadata={'source': '/Users/mukulagarwal/Desktop/Projects/langchain/japan.txt'}, page_content='growth in sectors like apparel and household electronics.'),\n",
       " Document(metadata={'source': '/Users/mukulagarwal/Desktop/Projects/langchain/japan.txt'}, page_content='ING Think\\nRTTNews'),\n",
       " Document(metadata={'source': '/Users/mukulagarwal/Desktop/Projects/langchain/japan.txt'}, page_content='The Bank of Japan (BOJ) has maintained its short-term interest rate at 0.5%, citing uncertainties'),\n",
       " Document(metadata={'source': '/Users/mukulagarwal/Desktop/Projects/langchain/japan.txt'}, page_content='interest rate at 0.5%, citing uncertainties stemming from global trade tensions. The BOJ revised'),\n",
       " Document(metadata={'source': '/Users/mukulagarwal/Desktop/Projects/langchain/japan.txt'}, page_content='from global trade tensions. The BOJ revised its growth projection for the fiscal year ending March'),\n",
       " Document(metadata={'source': '/Users/mukulagarwal/Desktop/Projects/langchain/japan.txt'}, page_content='projection for the fiscal year ending March 2026 from 1.1% to 0.5%, and for the following year from'),\n",
       " Document(metadata={'source': '/Users/mukulagarwal/Desktop/Projects/langchain/japan.txt'}, page_content='1.1% to 0.5%, and for the following year from 1.0% to 0.7%. Inflation is now expected to reach the'),\n",
       " Document(metadata={'source': '/Users/mukulagarwal/Desktop/Projects/langchain/japan.txt'}, page_content='to 0.7%. Inflation is now expected to reach the 2% target around the latter half of fiscal 2026.'),\n",
       " Document(metadata={'source': '/Users/mukulagarwal/Desktop/Projects/langchain/japan.txt'}, page_content='Reuters\\n+1\\nReuters\\n+1'),\n",
       " Document(metadata={'source': '/Users/mukulagarwal/Desktop/Projects/langchain/japan.txt'}, page_content='In the financial markets, the Nikkei 225 index has shown strength, with projections suggesting it'),\n",
       " Document(metadata={'source': '/Users/mukulagarwal/Desktop/Projects/langchain/japan.txt'}, page_content='shown strength, with projections suggesting it could reach 45,400 by the end of 2025, supported by'),\n",
       " Document(metadata={'source': '/Users/mukulagarwal/Desktop/Projects/langchain/japan.txt'}, page_content='reach 45,400 by the end of 2025, supported by corporate share buybacks and a gradual return of'),\n",
       " Document(metadata={'source': '/Users/mukulagarwal/Desktop/Projects/langchain/japan.txt'}, page_content='corporate share buybacks and a gradual return of foreign investors. The Japanese yen has'),\n",
       " Document(metadata={'source': '/Users/mukulagarwal/Desktop/Projects/langchain/japan.txt'}, page_content='return of foreign investors. The Japanese yen has experienced fluctuations, recently trading at'),\n",
       " Document(metadata={'source': '/Users/mukulagarwal/Desktop/Projects/langchain/japan.txt'}, page_content='has experienced fluctuations, recently trading at approximately 104.53 against the U.S. dollar,'),\n",
       " Document(metadata={'source': '/Users/mukulagarwal/Desktop/Projects/langchain/japan.txt'}, page_content='at approximately 104.53 against the U.S. dollar, reflecting investor sentiment and monetary policy'),\n",
       " Document(metadata={'source': '/Users/mukulagarwal/Desktop/Projects/langchain/japan.txt'}, page_content='reflecting investor sentiment and monetary policy expectations.'),\n",
       " Document(metadata={'source': '/Users/mukulagarwal/Desktop/Projects/langchain/japan.txt'}, page_content='三井住友DSアセットマネジメント'),\n",
       " Document(metadata={'source': '/Users/mukulagarwal/Desktop/Projects/langchain/japan.txt'}, page_content=\"Overall, while Japan's economy faces headwinds from external trade pressures and domestic\"),\n",
       " Document(metadata={'source': '/Users/mukulagarwal/Desktop/Projects/langchain/japan.txt'}, page_content='from external trade pressures and domestic structural issues, indicators such as wage growth and'),\n",
       " Document(metadata={'source': '/Users/mukulagarwal/Desktop/Projects/langchain/japan.txt'}, page_content='issues, indicators such as wage growth and consumer spending provide a foundation for cautious'),\n",
       " Document(metadata={'source': '/Users/mukulagarwal/Desktop/Projects/langchain/japan.txt'}, page_content=\"spending provide a foundation for cautious optimism. The BOJ's flexible policy stance aims to\"),\n",
       " Document(metadata={'source': '/Users/mukulagarwal/Desktop/Projects/langchain/japan.txt'}, page_content=\"The BOJ's flexible policy stance aims to navigate these challenges, balancing the goals of economic\"),\n",
       " Document(metadata={'source': '/Users/mukulagarwal/Desktop/Projects/langchain/japan.txt'}, page_content='these challenges, balancing the goals of economic growth and price stability.')]"
      ]
     },
     "execution_count": 48,
     "metadata": {},
     "output_type": "execute_result"
    }
   ],
   "source": [
    "new_docs"
   ]
  },
  {
   "cell_type": "code",
   "execution_count": 59,
   "id": "9064379b",
   "metadata": {},
   "outputs": [],
   "source": [
    "db = Chroma.from_documents(new_docs, embedding_model)\n",
    "\n",
    "retriever = db.as_retriever(search_kwargs={\"k\": 3})"
   ]
  },
  {
   "cell_type": "code",
   "execution_count": 60,
   "id": "f247d403",
   "metadata": {},
   "outputs": [
    {
     "name": "stdout",
     "output_type": "stream",
     "text": [
      "{'source': '/Users/mukulagarwal/Desktop/Projects/langchain/japan.txt'}\n",
      "growth in sectors like apparel and household electronics.\n"
     ]
    }
   ],
   "source": [
    "query = \"Tell me about India's Industrial Growth?\"\n",
    "docs = retriever.get_relevant_documents(query)\n",
    "print(docs[0].metadata)\n",
    "print(docs[0].page_content)"
   ]
  },
  {
   "cell_type": "code",
   "execution_count": 61,
   "id": "32674203",
   "metadata": {},
   "outputs": [],
   "source": [
    "from typing import TypedDict, Annotated,Sequence\n",
    "import operator\n",
    "from langchain_core.messages import BaseMessage, HumanMessage,AIMessage,SystemMessage\n",
    "from langchain.prompts import PromptTemplate\n",
    "from langchain.output_parsers import PydanticOutputParser"
   ]
  },
  {
   "cell_type": "code",
   "execution_count": 58,
   "id": "4f8aded8",
   "metadata": {},
   "outputs": [
    {
     "data": {
      "text/plain": [
       "{'messages': [HumanMessage(content='hi there', additional_kwargs={}, response_metadata={})]}"
      ]
     },
     "execution_count": 58,
     "metadata": {},
     "output_type": "execute_result"
    }
   ],
   "source": [
    "class AgentState(TypedDict):\n",
    "    messages:Annotated[Sequence[BaseMessage],operator.add]\n",
    "    \n",
    "state = {'messages':[HumanMessage(content=\"hi there\")]}\n",
    "state"
   ]
  },
  {
   "cell_type": "code",
   "execution_count": 62,
   "id": "f7af6570",
   "metadata": {},
   "outputs": [
    {
     "name": "stdout",
     "output_type": "stream",
     "text": [
      "The output should be formatted as a JSON instance that conforms to the JSON schema below.\n",
      "\n",
      "As an example, for the schema {\"properties\": {\"foo\": {\"title\": \"Foo\", \"description\": \"a list of strings\", \"type\": \"array\", \"items\": {\"type\": \"string\"}}}, \"required\": [\"foo\"]}\n",
      "the object {\"foo\": [\"bar\", \"baz\"]} is a well-formatted instance of the schema. The object {\"properties\": {\"foo\": [\"bar\", \"baz\"]}} is not well-formatted.\n",
      "\n",
      "Here is the output schema:\n",
      "```\n",
      "{\"properties\": {\"Topic\": {\"description\": \"selected topic\", \"title\": \"Topic\", \"type\": \"string\"}, \"Reasoning\": {\"description\": \"reasoning behind the topic\", \"title\": \"Reasoning\", \"type\": \"string\"}}, \"required\": [\"Topic\", \"Reasoning\"]}\n",
      "```\n"
     ]
    }
   ],
   "source": [
    "from pydantic import BaseModel, Field\n",
    "class TopicSelectionParser(BaseModel):\n",
    "    Topic:str=Field(description=\"selected topic\")\n",
    "    Reasoning:str=Field(description=\"reasoning behind the topic\")\n",
    "    \n",
    "parser=PydanticOutputParser(pydantic_object=TopicSelectionParser)\n",
    "print(parser.get_format_instructions())"
   ]
  },
  {
   "cell_type": "code",
   "execution_count": 65,
   "id": "0b7624ae",
   "metadata": {},
   "outputs": [],
   "source": [
    "def function_1(state:AgentState):\n",
    "    \n",
    "    message=state[\"messages\"]\n",
    "    \n",
    "    question=message[-1] \n",
    "    \n",
    "    print(\"***********here is my question********\")\n",
    "    print(question)\n",
    "    \n",
    "    template=\"\"\"\n",
    "    Your task is to classify the given user query into one of the following categories: [Japan, Not Related]. \n",
    "    Only respond with the category name plus reasoning for it and nothing else.\n",
    "\n",
    "    User query: {question}\n",
    "    \n",
    "    {format_instructions}\n",
    "    \"\"\"\n",
    "    \n",
    "    prompt = PromptTemplate(template=template,\n",
    "                            input_variables=[\"question\"],\n",
    "                            partial_variables={\"format_instructions\" : parser.get_format_instructions()}\n",
    "                            )\n",
    "    \n",
    "    chain =prompt | groq_model | parser\n",
    "    \n",
    "    response = chain.invoke({\"question\":question,\"format_instructions\" : parser.get_format_instructions() })\n",
    "    \n",
    "    print(\"***********my response********\")\n",
    "    print(response)\n",
    "    \n",
    "    return {\"messages\":[response.Topic]}"
   ]
  },
  {
   "cell_type": "code",
   "execution_count": 66,
   "id": "a4053f84",
   "metadata": {},
   "outputs": [
    {
     "name": "stdout",
     "output_type": "stream",
     "text": [
      "***********here is my question********\n",
      "tell me about the japan's industrial growth?\n",
      "***********my response********\n",
      "Topic='Japan' Reasoning=\"The query asks about Japan's industrial growth, indicating a topic related to Japan.\"\n"
     ]
    },
    {
     "data": {
      "text/plain": [
       "{'messages': ['Japan']}"
      ]
     },
     "execution_count": 66,
     "metadata": {},
     "output_type": "execute_result"
    }
   ],
   "source": [
    "state={\"messages\":[\"tell me about the japan's industrial growth?\"]}\n",
    "function_1(state)"
   ]
  },
  {
   "cell_type": "code",
   "execution_count": 67,
   "id": "d8f67db5",
   "metadata": {},
   "outputs": [],
   "source": [
    "def router(state:AgentState):\n",
    "    print(\"***********entering into router********\")\n",
    "    print(\"*********my state from router********\")\n",
    "    print(state)\n",
    "    \n",
    "    message=state[\"messages\"]\n",
    "    \n",
    "    last_message=message[-1]\n",
    "    \n",
    "    print(\"***********last message********\")    \n",
    "    print(last_message)\n",
    "    \n",
    "    if \"Japan\" in last_message:\n",
    "        return \"RAG Call\"\n",
    "    else:\n",
    "        return \"Simple LLM Call\""
   ]
  },
  {
   "cell_type": "code",
   "execution_count": 70,
   "id": "8183a2c7",
   "metadata": {},
   "outputs": [],
   "source": [
    "def function_2(state:AgentState):\n",
    "    print(\"*********my state from function_2(rag)********\")\n",
    "    print(state)\n",
    "    \n",
    "    \n",
    "    print('-> Calling RAG ->')\n",
    "    \n",
    "    messages = state['messages']\n",
    "    \n",
    "    question = messages[0] ## Fetching the user question\n",
    "    \n",
    "    print(question)\n",
    "\n",
    "    template = \"\"\"Answer the question based only on the following context:\n",
    "    {context}\n",
    "\n",
    "    Question: {question}\n",
    "    \"\"\"\n",
    "    prompt = ChatPromptTemplate.from_template(template)\n",
    "    \n",
    "    print(prompt)\n",
    "\n",
    "    retrieval_chain = (\n",
    "        {\"context\": retriever, \"question\": RunnablePassthrough()}\n",
    "        | prompt\n",
    "        | groq_model\n",
    "        | StrOutputParser()\n",
    "        )\n",
    "    result = retrieval_chain.invoke(question)\n",
    "    response={\"messages\": [result]}\n",
    "    print(\"*********my state from function_2(rag)********\")\n",
    "    print(state)\n",
    "    return response"
   ]
  },
  {
   "cell_type": "code",
   "execution_count": 72,
   "id": "e7abd034",
   "metadata": {},
   "outputs": [],
   "source": [
    "def function_3(state:AgentState):\n",
    "    print('-> Calling LLM ->')\n",
    "\n",
    "    messages = state['messages']\n",
    "    \n",
    "    question = messages[0] ## Fetching the user question\n",
    "\n",
    "    # Normal LLM call\n",
    "    complete_query = \"Answer the follow question with your knowledge of the real world. Following is the user question: \" + question\n",
    "    response = groq_model.invoke(complete_query)\n",
    "    response={\"messages\": [response.content]}\n",
    "    print(\"*********my state from function_3(LLM)********\")\n",
    "    print(state)\n",
    "    return response"
   ]
  },
  {
   "cell_type": "code",
   "execution_count": 73,
   "id": "87d4a1b0",
   "metadata": {},
   "outputs": [
    {
     "data": {
      "image/png": "[encoded data removed]",
      "text/plain": [
       "<IPython.core.display.Image object>"
      ]
     },
     "metadata": {},
     "output_type": "display_data"
    }
   ],
   "source": [
    "from langgraph.graph import StateGraph, END\n",
    "workflow=StateGraph(AgentState)\n",
    "workflow.add_node(\"supervisor\",function_1)\n",
    "workflow.add_node(\"RAG\",function_2)\n",
    "workflow.add_node(\"LLM\",function_3)\n",
    "workflow.set_entry_point(\"supervisor\")\n",
    "workflow.add_conditional_edges(\n",
    "    \"supervisor\",\n",
    "    router,\n",
    "    {\n",
    "        \"RAG Call\": \"RAG\",\n",
    "        \"Simple LLM Call\": \"LLM\"\n",
    "    },\n",
    "    \n",
    ")\n",
    "workflow.add_edge(\"RAG\",END)\n",
    "workflow.add_edge(\"LLM\",END)\n",
    "app=workflow.compile()\n",
    "display(Image(app.get_graph().draw_mermaid_png()))"
   ]
  },
  {
   "cell_type": "code",
   "execution_count": 74,
   "id": "e9d43c3b",
   "metadata": {},
   "outputs": [
    {
     "name": "stdout",
     "output_type": "stream",
     "text": [
      "***********here is my question********\n",
      "can you tell me about the japan industrial growth with GDP?\n",
      "***********my response********\n",
      "Topic='Japan' Reasoning=\"The query is about Japan's industrial growth and GDP, indicating a focus on Japanese economic data.\"\n",
      "***********entering into router********\n",
      "*********my state from router********\n",
      "{'messages': ['can you tell me about the japan industrial growth with GDP?', 'Japan']}\n",
      "***********last message********\n",
      "Japan\n",
      "*********my state from function_2(rag)********\n",
      "{'messages': ['can you tell me about the japan industrial growth with GDP?', 'Japan']}\n",
      "-> Calling RAG ->\n",
      "can you tell me about the japan industrial growth with GDP?\n",
      "input_variables=['context', 'question'] input_types={} partial_variables={} messages=[HumanMessagePromptTemplate(prompt=PromptTemplate(input_variables=['context', 'question'], input_types={}, partial_variables={}, template='Answer the question based only on the following context:\\n    {context}\\n\\n    Question: {question}\\n    '), additional_kwargs={})]\n",
      "*********my state from function_2(rag)********\n",
      "{'messages': ['can you tell me about the japan industrial growth with GDP?', 'Japan']}\n"
     ]
    }
   ],
   "source": [
    "response=app.invoke({\"messages\":[\"can you tell me about the japan industrial growth with GDP?\"]})"
   ]
  },
  {
   "cell_type": "code",
   "execution_count": 77,
   "id": "fba402a4",
   "metadata": {},
   "outputs": [
    {
     "name": "stdout",
     "output_type": "stream",
     "text": [
      "Based on the provided context, here's the information about Japan's industrial growth with GDP mentioned:\n",
      "\n",
      "Japan's last four-year GDP is necessary to sustain growth. Overall, Japan's economy appears to be on a path of gradual growth. As of mid-2025, Japan's economy is experiencing a nuanced recovery characterized by moderate growth.\n",
      "\n",
      "This suggests that Japan's GDP has been growing gradually over the last four years and is currently experiencing a moderate recovery as of mid-2025.\n"
     ]
    }
   ],
   "source": [
    "print(response['messages'][-1])"
   ]
  },
  {
   "cell_type": "code",
   "execution_count": null,
   "id": "a8fd72fb",
   "metadata": {},
   "outputs": [],
   "source": []
  },
  {
   "cell_type": "code",
   "execution_count": null,
   "id": "b44d06ad",
   "metadata": {},
   "outputs": [],
   "source": []
  },
  {
   "cell_type": "code",
   "execution_count": null,
   "id": "4ffaee8d",
   "metadata": {},
   "outputs": [],
   "source": []
  }
 ],
 "metadata": {
  "kernelspec": {
   "display_name": "Python 3",
   "language": "python",
   "name": "python3"
  },
  "language_info": {
   "codemirror_mode": {
    "name": "ipython",
    "version": 3
   },
   "file_extension": ".py",
   "mimetype": "text/x-python",
   "name": "python",
   "nbconvert_exporter": "python",
   "pygments_lexer": "ipython3",
   "version": "3.12.7"
  }
 },
 "nbformat": 4,
 "nbformat_minor": 5
}
